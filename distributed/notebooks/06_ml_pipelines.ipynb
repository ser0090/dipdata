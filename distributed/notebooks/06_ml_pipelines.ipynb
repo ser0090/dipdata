{
 "cells": [
  {
   "cell_type": "markdown",
   "metadata": {},
   "source": [
    "# Diplomatura en Ciencia de Datos, Aprendizaje Automático y sus Aplicaciones\n",
    "## Programación Distribuida sobre Grandes Volúmenes de Datos\n",
    "\n",
    "Damián Barsotti \n",
    "\n",
    "### Facultad de Matemática Astronomía Física y Computación\n",
    "## Universidad Nacional de Córdoba\n",
    "\n",
    "<img src=\"http://program.ar/wp-content/uploads/2018/07/logo-UNC-FAMAF.png\" alt=\"Drawing\" style=\"width:80%;\"/>"
   ]
  },
  {
   "cell_type": "markdown",
   "metadata": {},
   "source": [
    "### Transformer\n",
    "\n",
    "* Toma un `DataFrame` y devuelven un `DataFrame` transformado.\n",
    "    - método `transform(<DataFrame>)`\n",
    "* Ejemplos:\n",
    "    - Transformador de features\n",
    "\n",
    "        %%% yuml type=class style=plain format=svg\n",
    "          [note:Dataframe;Entrada{bg:cornsilk}]->[Transformer;(featurizer)|transform(){bg:orange}]\n",
    "          [Transformer;(featurizer)|transform(){bg:orange}]->[note:Dataframe; features{bg:cornsilk}]\n",
    "        %%%\n",
    "\n",
    "    - Modelo\n",
    "\n",
    "        %%% yuml type=class style=plain format=svg\n",
    "          [note:Dataframe; features{bg:cornsilk}]->[Transformer;(modelo)|transform(){bg:orange}]\n",
    "          [Transformer;(modelo)|transform(){bg:orange}]->[note:Dataframe; predicción{bg:cornsilk}]\n",
    "        %%%\n",
    "\n",
    "\n",
    "### Estimator\n",
    "\n",
    "* Encapsula un algoritmo ML.\n",
    "* Toma un `DataFrame` de entrenamiento y devuelve un `Transformer`\n",
    "    - método `fit(<DataFrame>)`\n",
    "\n",
    "      %%% yuml type=class style=plain format=svg\n",
    "         [note:Dataframe; features;(entrenamiento){bg:cornsilk}]->[Estimator;(algoritmo ML)|fit()]\n",
    "         [Estimator;(algoritmo ML)|fit(){bg:red}]->[note:Transformer;(modelo){bg:orange}]\n",
    "      %%%\n",
    "\n",
    "* Ejemplos:\n",
    "    - Logistic Regression\n",
    "\n",
    "Veamos el siguiente ejemplo con un flujo de trabajo ML clásico."
   ]
  },
  {
   "cell_type": "code",
   "execution_count": 1,
   "metadata": {},
   "outputs": [],
   "source": [
    "from pyspark.sql import SparkSession"
   ]
  },
  {
   "cell_type": "code",
   "execution_count": 3,
   "metadata": {},
   "outputs": [],
   "source": [
    "spark = SparkSession.builder.appName(\"06_ml_pipelines\").getOrCreate()\n",
    "sc = spark.sparkContext"
   ]
  },
  {
   "cell_type": "markdown",
   "metadata": {},
   "source": [
    "### Datos de entrenamiento"
   ]
  },
  {
   "cell_type": "code",
   "execution_count": 4,
   "metadata": {},
   "outputs": [],
   "source": [
    "training = spark.createDataFrame([\n",
    "        (0, \"a b c d e spark a\", 1.0),\n",
    "        (1, \"b d\", 0.0),\n",
    "        (2, \"spark f g h\", 1.0),\n",
    "        (3, \"hadoop a mapreduce\", 0.0)\n",
    "    ], [\"id\", \"text\", \"label\"])"
   ]
  },
  {
   "cell_type": "code",
   "execution_count": 5,
   "metadata": {},
   "outputs": [
    {
     "name": "stdout",
     "output_type": "stream",
     "text": [
      "+---+------------------+-----+\n",
      "| id|              text|label|\n",
      "+---+------------------+-----+\n",
      "|  0| a b c d e spark a|  1.0|\n",
      "|  1|               b d|  0.0|\n",
      "|  2|       spark f g h|  1.0|\n",
      "|  3|hadoop a mapreduce|  0.0|\n",
      "+---+------------------+-----+\n",
      "\n"
     ]
    }
   ],
   "source": [
    "training.show()"
   ]
  },
  {
   "cell_type": "markdown",
   "metadata": {},
   "source": [
    "### Featurization\n",
    "#### Tokenizer"
   ]
  },
  {
   "cell_type": "code",
   "execution_count": 6,
   "metadata": {},
   "outputs": [
    {
     "name": "stdout",
     "output_type": "stream",
     "text": [
      "+---+------------------+-----+--------------------+\n",
      "| id|              text|label|               words|\n",
      "+---+------------------+-----+--------------------+\n",
      "|  0| a b c d e spark a|  1.0|[a, b, c, d, e, s...|\n",
      "|  1|               b d|  0.0|              [b, d]|\n",
      "|  2|       spark f g h|  1.0|    [spark, f, g, h]|\n",
      "|  3|hadoop a mapreduce|  0.0|[hadoop, a, mapre...|\n",
      "+---+------------------+-----+--------------------+\n",
      "\n"
     ]
    }
   ],
   "source": [
    "from pyspark.ml.feature import HashingTF, Tokenizer\n",
    "\n",
    "# Creo Tokenizer Transformer\n",
    "tokenizer = Tokenizer(\n",
    "    inputCol=\"text\",\n",
    "    outputCol=\"words\")\n",
    "\n",
    "# Aplico la transformación devolviendo un nuevo dataframe\n",
    "tokenizerOut = tokenizer.transform(training)\n",
    "\n",
    "tokenizerOut.show()"
   ]
  },
  {
   "cell_type": "markdown",
   "metadata": {},
   "source": [
    "#### Feature Vector"
   ]
  },
  {
   "cell_type": "code",
   "execution_count": 7,
   "metadata": {},
   "outputs": [
    {
     "name": "stdout",
     "output_type": "stream",
     "text": [
      "root\n",
      " |-- id: long (nullable = true)\n",
      " |-- text: string (nullable = true)\n",
      " |-- label: double (nullable = true)\n",
      " |-- words: array (nullable = true)\n",
      " |    |-- element: string (containsNull = true)\n",
      " |-- features: vector (nullable = true)\n",
      "\n"
     ]
    }
   ],
   "source": [
    "# Creo un Term Frecuency Transformer con hash\n",
    "hashingTF = HashingTF(\n",
    "    numFeatures=1000,\n",
    "    inputCol = tokenizer.getOutputCol(), \n",
    "    outputCol=\"features\")\n",
    "\n",
    "# Aplico la transformación al resultado de la transformación previa\n",
    "hashingTFOut = hashingTF.transform(tokenizerOut)\n",
    "\n",
    "hashingTFOut.printSchema() \n",
    "# Notar tipo de la columna \"features\"\n",
    "# El primer elemento de la tupla es el tamaño"
   ]
  },
  {
   "cell_type": "code",
   "execution_count": 8,
   "metadata": {},
   "outputs": [
    {
     "name": "stdout",
     "output_type": "stream",
     "text": [
      "+---+------------------+-----+--------------------+--------------------+\n",
      "| id|              text|label|               words|            features|\n",
      "+---+------------------+-----+--------------------+--------------------+\n",
      "|  0| a b c d e spark a|  1.0|[a, b, c, d, e, s...|(1000,[165,286,46...|\n",
      "|  1|               b d|  0.0|              [b, d]|(1000,[165,890],[...|\n",
      "|  2|       spark f g h|  1.0|    [spark, f, g, h]|(1000,[286,486,49...|\n",
      "|  3|hadoop a mapreduce|  0.0|[hadoop, a, mapre...|(1000,[467,585,75...|\n",
      "+---+------------------+-----+--------------------+--------------------+\n",
      "\n"
     ]
    }
   ],
   "source": [
    "hashingTFOut.show()"
   ]
  },
  {
   "cell_type": "markdown",
   "metadata": {},
   "source": [
    "### Modelo\n",
    "#### Creacion"
   ]
  },
  {
   "cell_type": "code",
   "execution_count": 9,
   "metadata": {},
   "outputs": [],
   "source": [
    "from pyspark.ml.classification import LogisticRegression\n",
    "\n",
    "# Creo el Estimator\n",
    "lr = LogisticRegression(\n",
    "    maxIter=10,\n",
    "    regParam=0.01)\n",
    "  \n",
    "# Entreno el Estimador obteniendo un modelo\n",
    "model = lr.fit(hashingTFOut)"
   ]
  },
  {
   "cell_type": "markdown",
   "metadata": {},
   "source": [
    "#### Predicción"
   ]
  },
  {
   "cell_type": "code",
   "execution_count": 10,
   "metadata": {},
   "outputs": [
    {
     "name": "stdout",
     "output_type": "stream",
     "text": [
      "+---+---------------+--------------------+----------+\n",
      "| id|           text|         probability|prediction|\n",
      "+---+---------------+--------------------+----------+\n",
      "|  4|  spark i j k a|[0.41787088770315...|       1.0|\n",
      "|  5|          l m n|[0.95412623885153...|       0.0|\n",
      "|  6|mapreduce spark|[0.83657689444954...|       0.0|\n",
      "|  7|  apache hadoop|[0.98578644499166...|       0.0|\n",
      "|  8|    spark f j k|[0.25910961733038...|       1.0|\n",
      "+---+---------------+--------------------+----------+\n",
      "\n"
     ]
    }
   ],
   "source": [
    "# Creo un DF para testearel modelo\n",
    "test = spark.createDataFrame([\n",
    "  (4, \"spark i j k a\"),\n",
    "  (5, \"l m n\"),\n",
    "  (6, \"mapreduce spark\"),\n",
    "  (7, \"apache hadoop\"),\n",
    "  (8, \"spark f j k\")\n",
    "], [\"id\", \"text\"])\n",
    "\n",
    "\n",
    "# Featurizo el test\n",
    "testTokens = tokenizer.transform(test)\n",
    "\n",
    "testFeatures = hashingTF.transform(testTokens)\n",
    "\n",
    "predictions = model.transform(testFeatures)\n",
    "\n",
    "predictions.select(\"id\", \"text\", \"probability\", \"prediction\").show()"
   ]
  },
  {
   "cell_type": "markdown",
   "metadata": {},
   "source": [
    "## Pipelines\n",
    "---\n",
    "\n",
    "* Abstracción del flujo de trabajo en ML:\n",
    "\n",
    "      %%% yuml style=plain scale=80 dir=LR format=svg\n",
    "        [Featurization]->[Entrenamiento]\n",
    "        [Entrenamiento]->[Modelo]\n",
    "        [Modelo]->[Predicción]\n",
    "        [Modelo]->[Evaluación]\n",
    "      %%%\n",
    "\n",
    "* Para su construcción se usan **Transformers** y **Estimators** (llamados Stages)\n",
    "    - los concatena\n",
    "\n",
    "* Un pipeline es un **Estimator**\n",
    "    - método `fit(<DataFramee>)` devuelve un `PipelineModel` (Transformer)"
   ]
  },
  {
   "cell_type": "code",
   "execution_count": 11,
   "metadata": {},
   "outputs": [],
   "source": [
    "from pyspark.ml import Pipeline\n",
    "\n",
    "# Creo el pipeline con los Transformers y el Estimator\n",
    "pipeline = Pipeline(stages=[tokenizer, hashingTF, lr])\n",
    "\n",
    "# Con fit el pipeline genera los fetures y entrena.\n",
    "pipModel = pipeline.fit(training)\n"
   ]
  },
  {
   "cell_type": "markdown",
   "metadata": {},
   "source": [
    "### Pipeline de entrenamiento\n",
    "\n",
    "<img     src=\"https://bitbucket.org/bigdata_famaf/diplodatos_bigdata/raw/b17129f7118b3389b8c7f2f85fd89c6238fe0edd/clases/06_ml_pipelines/ml-Pipeline.png\" alt=\"Drawing\" style=\"width:80%;\"/>\n",
    "\n",
    "### PipelineModel\n",
    "\n",
    "* El resultado anterior es un modelo (Transformer) que se puede usar para predecir\n",
    "    - método `transform(<DataFrame>)`\n",
    "* Usa los mismos Transformers de *featurizacion* que para el entrenamiento\n",
    "    - ahorra código"
   ]
  },
  {
   "cell_type": "code",
   "execution_count": 12,
   "metadata": {},
   "outputs": [
    {
     "name": "stdout",
     "output_type": "stream",
     "text": [
      "+---+---------------+--------------------+----------+\n",
      "| id|           text|         probability|prediction|\n",
      "+---+---------------+--------------------+----------+\n",
      "|  4|  spark i j k a|[0.41787088770315...|       1.0|\n",
      "|  5|          l m n|[0.95412623885153...|       0.0|\n",
      "|  6|mapreduce spark|[0.83657689444953...|       0.0|\n",
      "|  7|  apache hadoop|[0.98578644499166...|       0.0|\n",
      "|  8|    spark f j k|[0.25910961733038...|       1.0|\n",
      "+---+---------------+--------------------+----------+\n",
      "\n"
     ]
    }
   ],
   "source": [
    "# El modelo en el pipeline solo necesita el Raw Test:\n",
    "# automaticamente aplica los transformadores de features\n",
    "# y hace predicciones.\n",
    "\n",
    "predictions = pipModel.transform(test)\n",
    "\n",
    "predictions.select(\"id\", \"text\", \"probability\", \"prediction\").show()"
   ]
  },
  {
   "cell_type": "markdown",
   "metadata": {},
   "source": [
    "### Persistencia"
   ]
  },
  {
   "cell_type": "code",
   "execution_count": 13,
   "metadata": {},
   "outputs": [],
   "source": [
    "from pyspark.ml import PipelineModel\n",
    "\n",
    "# El pipeline entrenado se puede guardar\n",
    "pipModel.write().overwrite().save(\"../outpus/spark-logistic-regression-model\")\n",
    "\n",
    "# Y cargarlo para la etapa de uso\n",
    "samePipModel = PipelineModel.load(\"../outpus/spark-logistic-regression-model\")\n",
    "\n",
    "# Tambien el pipeline sin entrenar\n",
    "pipeline.write().overwrite().save(\"../outpus/unfit-lr-model\")"
   ]
  },
  {
   "cell_type": "code",
   "execution_count": 14,
   "metadata": {},
   "outputs": [
    {
     "name": "stdout",
     "output_type": "stream",
     "text": [
      "metadata  stages\n"
     ]
    }
   ],
   "source": [
    "!ls ../outpus/spark-logistic-regression-model"
   ]
  },
  {
   "cell_type": "markdown",
   "metadata": {},
   "source": [
    "### Ejercicio\n",
    "\n",
    "Hacer con pipelines uno de los ejemplos de clasificacionde clase anterior. Plotear el resultado.\n",
    "\n",
    "\n",
    "1. Cargo DataSet"
   ]
  },
  {
   "cell_type": "code",
   "execution_count": 15,
   "metadata": {},
   "outputs": [
    {
     "name": "stdout",
     "output_type": "stream",
     "text": [
      "Cantidad de filas: 10000. Cantidad de particiones: 20.\n",
      "+------------------+------------------+---+\n",
      "|               kgs|               mts|sex|\n",
      "+------------------+------------------+---+\n",
      "| 72.81831643645533|1.7544597654491818|  M|\n",
      "|60.949928625438524|1.6975623807791556|  F|\n",
      "| 70.24333971385092|1.8259276588557454|  F|\n",
      "| 67.62067887632992|1.7804981862855906|  M|\n",
      "| 61.29672592416653|1.6632101052103694|  F|\n",
      "| 72.08259574539099|1.7671867744768517|  M|\n",
      "| 63.45106152045664|1.6891196912430215|  F|\n",
      "| 60.85591058807166|1.6966526825991124|  F|\n",
      "|   72.151926754284|1.8599631914042996|  M|\n",
      "| 77.57259751121087|1.7969945445414748|  M|\n",
      "|104.49953850078195|1.7135897374401317|  F|\n",
      "| 90.37376585473201|1.7672043589102346|  F|\n",
      "| 72.35400800545294| 1.780606924549926|  M|\n",
      "+------------------+------------------+---+\n",
      "\n"
     ]
    }
   ],
   "source": [
    "inputFile = \"../inputs/ds/people_sex_height_age_weight.json\"\n",
    "\n",
    "people = spark.read.json(inputFile) \\\n",
    "    .select(\"kgs\", \"mts\", \"sex\") \\\n",
    "    .repartition(sc.defaultParallelism) \\\n",
    "    .cache()\n",
    "    \n",
    "print(\"Cantidad de filas: {}. Cantidad de particiones: {}.\".format(people.count(), people.rdd.getNumPartitions()))\n",
    "\n",
    "people.sample(False,0.001).show()"
   ]
  },
  {
   "cell_type": "markdown",
   "metadata": {},
   "source": [
    "2. Split DataSet"
   ]
  },
  {
   "cell_type": "code",
   "execution_count": 16,
   "metadata": {},
   "outputs": [
    {
     "name": "stdout",
     "output_type": "stream",
     "text": [
      "506 9494\n"
     ]
    }
   ],
   "source": [
    "trainDF, testDF = people.randomSplit([0.95, 0.05]) \n",
    "\n",
    "print(testDF.count(), trainDF.count())"
   ]
  },
  {
   "cell_type": "markdown",
   "metadata": {},
   "source": [
    "3. VectorAssembler"
   ]
  },
  {
   "cell_type": "code",
   "execution_count": 17,
   "metadata": {},
   "outputs": [],
   "source": [
    "from pyspark.ml.feature import VectorAssembler\n",
    "\n",
    "vAssembler = VectorAssembler(\n",
    "    inputCols=[\"kgs\", \"mts\"],\n",
    "    outputCol=\"features\")"
   ]
  },
  {
   "cell_type": "markdown",
   "metadata": {},
   "source": [
    "4. StringIndexer"
   ]
  },
  {
   "cell_type": "code",
   "execution_count": 18,
   "metadata": {},
   "outputs": [],
   "source": [
    "from pyspark.ml.feature import StringIndexer\n",
    "\n",
    "strIndexer = StringIndexer(\n",
    "  inputCol=\"sex\",\n",
    "  outputCol=\"label\")"
   ]
  },
  {
   "cell_type": "markdown",
   "metadata": {},
   "source": [
    "5. PolynomialExpansion"
   ]
  },
  {
   "cell_type": "code",
   "execution_count": 19,
   "metadata": {},
   "outputs": [],
   "source": [
    "from pyspark.ml.feature import PolynomialExpansion\n",
    "\n",
    "polyExpansion = PolynomialExpansion( \n",
    "    inputCol=\"features\",\n",
    "    outputCol=\"features_expansion\",\n",
    "    degree=3) # llenar (ver documentacion)"
   ]
  },
  {
   "cell_type": "markdown",
   "metadata": {},
   "source": [
    "#### Creacion del `Pipeline`"
   ]
  },
  {
   "cell_type": "code",
   "execution_count": 32,
   "metadata": {},
   "outputs": [
    {
     "name": "stdout",
     "output_type": "stream",
     "text": [
      "+--------------------+------------------+---+--------------------+-----+--------------------+\n",
      "|                 kgs|               mts|sex|            features|label|  features_expansion|\n",
      "+--------------------+------------------+---+--------------------+-----+--------------------+\n",
      "|-0.02439943239118...| 1.803802100446955|  F|[-0.0243994323911...|  1.0|[-0.0243994323911...|\n",
      "|  0.6291486615052309| 1.630190117559786|  F|[0.62914866150523...|  1.0|[0.62914866150523...|\n",
      "|   10.86790156913123| 1.852049089564589|  F|[10.8679015691312...|  1.0|[10.8679015691312...|\n",
      "|   38.11229329793476|1.5357829370692366|  F|[38.1122932979347...|  1.0|[38.1122932979347...|\n",
      "|   44.87858730352653|1.6775557703865216|  F|[44.8785873035265...|  1.0|[44.8785873035265...|\n",
      "|  45.277876012770996|1.7240233052200462|  F|[45.2778760127709...|  1.0|[45.2778760127709...|\n",
      "|   45.32435551005798| 1.594819377273792|  F|[45.3243555100579...|  1.0|[45.3243555100579...|\n",
      "|  45.430791163886475|1.6113765748371114|  F|[45.4307911638864...|  1.0|[45.4307911638864...|\n",
      "|   45.48607248597171|1.5754109330872295|  F|[45.4860724859717...|  1.0|[45.4860724859717...|\n",
      "|  45.529217255408994|1.7107272070099235|  F|[45.5292172554089...|  1.0|[45.5292172554089...|\n",
      "|   45.69778360642726|1.7262065385926808|  F|[45.6977836064272...|  1.0|[45.6977836064272...|\n",
      "|  45.726071896032074|1.5909695047619385|  F|[45.7260718960320...|  1.0|[45.7260718960320...|\n",
      "|   47.62805626530646| 1.635809456763587|  F|[47.6280562653064...|  1.0|[47.6280562653064...|\n",
      "|   48.07448796239188|1.6844624077207482|  F|[48.0744879623918...|  1.0|[48.0744879623918...|\n",
      "|   48.09266534908313| 1.744247546683086|  F|[48.0926653490831...|  1.0|[48.0926653490831...|\n",
      "|  49.412582850910255| 1.657030250326026|  F|[49.4125828509102...|  1.0|[49.4125828509102...|\n",
      "|   49.43415040026271| 1.740366977395313|  M|[49.4341504002627...|  0.0|[49.4341504002627...|\n",
      "|   49.46672989116655|1.6436653405250812|  F|[49.4667298911665...|  1.0|[49.4667298911665...|\n",
      "|   49.48398497888123| 1.660802466543692|  F|[49.4839849788812...|  1.0|[49.4839849788812...|\n",
      "|   49.54519146233481| 1.732065117445132|  M|[49.5451914623348...|  0.0|[49.5451914623348...|\n",
      "+--------------------+------------------+---+--------------------+-----+--------------------+\n",
      "only showing top 20 rows\n",
      "\n"
     ]
    }
   ],
   "source": [
    "# Creo el pipeline con los Transformers y el Estimator\n",
    "pipaline = Pipeline(\n",
    "    stages=[vAssembler, strIndexer, polyExpansion])\n",
    "\n",
    "# Con fit el pipeline genera los fetures y entrena.\n",
    "prePro = pipaline.fit(trainDF)\n",
    "pipaPre = prePro.transform(trainDF)\n",
    "#model = lrEstimatorPoly.fit(pipaPre)\n",
    "pipaPre.show()"
   ]
  },
  {
   "cell_type": "markdown",
   "metadata": {},
   "source": [
    "6. LogisticRegression"
   ]
  },
  {
   "cell_type": "code",
   "execution_count": 28,
   "metadata": {},
   "outputs": [],
   "source": [
    "lrEstimatorPoly = LogisticRegression(\n",
    "    featuresCol=\"features_expansion\", # llenar\n",
    "    maxIter=100,\n",
    "    regParam=0.01)\n",
    "\n",
    "lrModelPoly = lrEstimatorPoly.fit(pipaPre) # llenar"
   ]
  },
  {
   "cell_type": "markdown",
   "metadata": {},
   "source": [
    "Grilla para test"
   ]
  },
  {
   "cell_type": "code",
   "execution_count": 30,
   "metadata": {},
   "outputs": [],
   "source": [
    "def createGrid():\n",
    "\n",
    "    from pyspark.sql.functions import min, max\n",
    "    \n",
    "    maxTics = 256\n",
    "\n",
    "    def fgrid (x, min, max, tics):\n",
    "        tics2 = tics - 2\n",
    "        return (float(x-1)*(max-min)+tics2*min)/tics2\n",
    "\n",
    "\n",
    "    minKgs, maxKgs, minMts, maxMts = people.agg(min(\"kgs\"), max(\"kgs\"), min(\"mts\"), max(\"mts\")).first()\n",
    "\n",
    "    # 1.- numeracion ticks en x \n",
    "    # 2.- numeracion ticks en (x, y)\n",
    "    # 3.- todos los (kgs, mts) \n",
    "    return sc.parallelize(range(maxTics)) \\\n",
    "            .flatMap(lambda x: [ (x, y) for y in range(maxTics)]) \\\n",
    "            .map(lambda x_y: (fgrid(x_y[0], minKgs, maxKgs, maxTics), fgrid(x_y[1], minMts, maxMts, maxTics))) \\\n",
    "            .toDF([\"kgs\", \"mts\"])\n"
   ]
  },
  {
   "cell_type": "code",
   "execution_count": 33,
   "metadata": {},
   "outputs": [
    {
     "name": "stdout",
     "output_type": "stream",
     "text": [
      "+-------------------+------------------+--------------------+--------------------+\n",
      "|                kgs|               mts|            features|  features_expansion|\n",
      "+-------------------+------------------+--------------------+--------------------+\n",
      "|-0.5960327326330384| 1.121333932803231|[-0.5960327326330...|[-0.5960327326330...|\n",
      "|-0.5960327326330384|1.1255756685431166|[-0.5960327326330...|[-0.5960327326330...|\n",
      "|-0.5960327326330384| 1.129817404283002|[-0.5960327326330...|[-0.5960327326330...|\n",
      "|-0.5960327326330384|1.1340591400228877|[-0.5960327326330...|[-0.5960327326330...|\n",
      "|-0.5960327326330384| 1.138300875762773|[-0.5960327326330...|[-0.5960327326330...|\n",
      "+-------------------+------------------+--------------------+--------------------+\n",
      "\n"
     ]
    }
   ],
   "source": [
    "gridPoly = prePro.transform(createGrid()).cache()\n",
    "gridPoly.limit(5).show()"
   ]
  },
  {
   "cell_type": "code",
   "execution_count": 38,
   "metadata": {},
   "outputs": [
    {
     "data": {
      "text/html": [
       "<div>\n",
       "<style scoped>\n",
       "    .dataframe tbody tr th:only-of-type {\n",
       "        vertical-align: middle;\n",
       "    }\n",
       "\n",
       "    .dataframe tbody tr th {\n",
       "        vertical-align: top;\n",
       "    }\n",
       "\n",
       "    .dataframe thead th {\n",
       "        text-align: right;\n",
       "    }\n",
       "</style>\n",
       "<table border=\"1\" class=\"dataframe\">\n",
       "  <thead>\n",
       "    <tr style=\"text-align: right;\">\n",
       "      <th></th>\n",
       "      <th>kgs</th>\n",
       "      <th>mts</th>\n",
       "      <th>features</th>\n",
       "      <th>features_expansion</th>\n",
       "      <th>rawPrediction</th>\n",
       "      <th>probability</th>\n",
       "      <th>prediction</th>\n",
       "    </tr>\n",
       "  </thead>\n",
       "  <tbody>\n",
       "    <tr>\n",
       "      <th>0</th>\n",
       "      <td>0.547234</td>\n",
       "      <td>1.621859</td>\n",
       "      <td>[0.5472338678506727, 1.6218587501097188]</td>\n",
       "      <td>[0.5472338678506727, 0.2994649061228076, 0.163...</td>\n",
       "      <td>[-5.909464222756924, 5.909464222756924]</td>\n",
       "      <td>[0.0027062964892454284, 0.9972937035107545]</td>\n",
       "      <td>1.0</td>\n",
       "    </tr>\n",
       "    <tr>\n",
       "      <th>1</th>\n",
       "      <td>0.547234</td>\n",
       "      <td>2.012098</td>\n",
       "      <td>[0.5472338678506727, 2.012098438179184]</td>\n",
       "      <td>[0.5472338678506727, 0.2994649061228076, 0.163...</td>\n",
       "      <td>[-1.9626894515239641, 1.9626894515239641]</td>\n",
       "      <td>[0.12317628184993797, 0.876823718150062]</td>\n",
       "      <td>1.0</td>\n",
       "    </tr>\n",
       "    <tr>\n",
       "      <th>2</th>\n",
       "      <td>1.690500</td>\n",
       "      <td>1.363113</td>\n",
       "      <td>[1.6905004683343838, 1.3631128699767041]</td>\n",
       "      <td>[1.6905004683343838, 2.857791833438771, 4.8310...</td>\n",
       "      <td>[-8.022229016971465, 8.022229016971465]</td>\n",
       "      <td>[0.0003279802873082782, 0.9996720197126916]</td>\n",
       "      <td>1.0</td>\n",
       "    </tr>\n",
       "    <tr>\n",
       "      <th>3</th>\n",
       "      <td>4.548667</td>\n",
       "      <td>1.795770</td>\n",
       "      <td>[4.548666969543661, 1.795769915445024]</td>\n",
       "      <td>[4.548666969543661, 20.690371199817516, 94.113...</td>\n",
       "      <td>[-3.9198171029773388, 3.9198171029773388]</td>\n",
       "      <td>[0.019458573925326076, 0.980541426074674]</td>\n",
       "      <td>1.0</td>\n",
       "    </tr>\n",
       "    <tr>\n",
       "      <th>4</th>\n",
       "      <td>5.691934</td>\n",
       "      <td>1.231619</td>\n",
       "      <td>[5.6919335700273725, 1.2316190620402538]</td>\n",
       "      <td>[5.6919335700273725, 32.39810776560455, 184.40...</td>\n",
       "      <td>[-8.773921133856014, 8.773921133856014]</td>\n",
       "      <td>[0.0001546917953577675, 0.9998453082046421]</td>\n",
       "      <td>1.0</td>\n",
       "    </tr>\n",
       "  </tbody>\n",
       "</table>\n",
       "</div>"
      ],
      "text/plain": [
       "        kgs       mts                                  features  \\\n",
       "0  0.547234  1.621859  [0.5472338678506727, 1.6218587501097188]   \n",
       "1  0.547234  2.012098   [0.5472338678506727, 2.012098438179184]   \n",
       "2  1.690500  1.363113  [1.6905004683343838, 1.3631128699767041]   \n",
       "3  4.548667  1.795770    [4.548666969543661, 1.795769915445024]   \n",
       "4  5.691934  1.231619  [5.6919335700273725, 1.2316190620402538]   \n",
       "\n",
       "                                  features_expansion  \\\n",
       "0  [0.5472338678506727, 0.2994649061228076, 0.163...   \n",
       "1  [0.5472338678506727, 0.2994649061228076, 0.163...   \n",
       "2  [1.6905004683343838, 2.857791833438771, 4.8310...   \n",
       "3  [4.548666969543661, 20.690371199817516, 94.113...   \n",
       "4  [5.6919335700273725, 32.39810776560455, 184.40...   \n",
       "\n",
       "                               rawPrediction  \\\n",
       "0    [-5.909464222756924, 5.909464222756924]   \n",
       "1  [-1.9626894515239641, 1.9626894515239641]   \n",
       "2    [-8.022229016971465, 8.022229016971465]   \n",
       "3  [-3.9198171029773388, 3.9198171029773388]   \n",
       "4    [-8.773921133856014, 8.773921133856014]   \n",
       "\n",
       "                                   probability  prediction  \n",
       "0  [0.0027062964892454284, 0.9972937035107545]         1.0  \n",
       "1     [0.12317628184993797, 0.876823718150062]         1.0  \n",
       "2  [0.0003279802873082782, 0.9996720197126916]         1.0  \n",
       "3    [0.019458573925326076, 0.980541426074674]         1.0  \n",
       "4  [0.0001546917953577675, 0.9998453082046421]         1.0  "
      ]
     },
     "execution_count": 38,
     "metadata": {},
     "output_type": "execute_result"
    }
   ],
   "source": [
    "gridPredictionLRPoly = lrModelPoly.transform(gridPoly)\n",
    "                            \n",
    "gridPredictionLRPoly.sample(False,0.001).toPandas().head(5)"
   ]
  },
  {
   "cell_type": "code",
   "execution_count": 39,
   "metadata": {},
   "outputs": [],
   "source": [
    "def plot_classification(df, surfaceDF=None, prob=False):\n",
    "    import matplotlib.pyplot as plt\n",
    "    import numpy as np\n",
    "    import matplotlib.cm as cm\n",
    "\n",
    "    from matplotlib.colors import ListedColormap, LinearSegmentedColormap\n",
    "\n",
    "    cmap_light = LinearSegmentedColormap.from_list(\"light\", ['#FF5555', '#5555FF'])\n",
    "    cmap_pastel = LinearSegmentedColormap.from_list(\"pastel\", ['#FF8888', '#8888FF'])\n",
    "    cmap_bold = ListedColormap(['#FF0000', '#00FF00', '#0000FF'])\n",
    "    \n",
    "    plt.close('all')\n",
    "\n",
    "    plt.autoscale(enable=True, axis='x', tight=True)\n",
    "\n",
    "    if surfaceDF:\n",
    "\n",
    "        if prob:\n",
    "            pSTable = surfaceDF.select('kgs','mts','prob').toPandas()\n",
    "            Z = pSTable['prob']\n",
    "        else:\n",
    "            pSTable = surfaceDF.select('kgs','mts','prediction').toPandas()\n",
    "            Z = pSTable['prediction']\n",
    "\n",
    "        xs = pSTable['kgs']\n",
    "        ys = pSTable['mts']\n",
    "\n",
    "        xUs = xs.unique()\n",
    "        yUs = ys.unique()\n",
    "\n",
    "        xx, yy = np.meshgrid(xUs,yUs)\n",
    "\n",
    "        Z = Z.values.reshape(xx.shape).transpose()\n",
    "\n",
    "        if prob:\n",
    "            plt.pcolormesh(xx, yy, Z, shading='auto', cmap=cmap_light)\n",
    "        else:\n",
    "            plt.pcolormesh(xx, yy, Z, shading='auto', cmap=cmap_pastel)\n",
    "\n",
    "        plt.axis([xs.min(), xs.max(), ys.min(), ys.max()])\n",
    "\n",
    "    pTable = df.select('kgs','mts','label').toPandas().sample(frac=1)\n",
    "\n",
    "    xs = pTable['kgs']\n",
    "    ys = pTable['mts']\n",
    "    cs = pTable['label']\n",
    "    plt.scatter(xs, ys, c=cs, cmap=cmap_bold, alpha=0.5, s=16)\n",
    "    plt.xlabel('kgs')\n",
    "    plt.ylabel('mts')\n",
    "\n",
    "    plt.show()"
   ]
  },
  {
   "cell_type": "code",
   "execution_count": 42,
   "metadata": {},
   "outputs": [
    {
     "data": {
      "image/png": "[encoded data removed]",
      "text/plain": [
       "<Figure size 432x288 with 1 Axes>"
      ]
     },
     "metadata": {
      "needs_background": "light"
     },
     "output_type": "display_data"
    }
   ],
   "source": [
    "plot_classification(pipaPre, surfaceDF=gridPredictionLRPoly, prob=False)"
   ]
  },
  {
   "cell_type": "markdown",
   "metadata": {},
   "source": [
    "Fin"
   ]
  }
 ],
 "metadata": {
  "kernelspec": {
   "display_name": "Python 3",
   "language": "python",
   "name": "python3"
  },
  "language_info": {
   "codemirror_mode": {
    "name": "ipython",
    "version": 3
   },
   "file_extension": ".py",
   "mimetype": "text/x-python",
   "name": "python",
   "nbconvert_exporter": "python",
   "pygments_lexer": "ipython3",
   "version": "3.6.12"
  }
 },
 "nbformat": 4,
 "nbformat_minor": 4
}
