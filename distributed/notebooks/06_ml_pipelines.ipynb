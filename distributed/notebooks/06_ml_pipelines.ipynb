{
 "cells": [
  {
   "cell_type": "markdown",
   "metadata": {},
   "source": [
    "# Diplomatura en Ciencia de Datos, Aprendizaje Automático y sus Aplicaciones\n",
    "## Programación Distribuida sobre Grandes Volúmenes de Datos\n",
    "\n",
    "Damián Barsotti \n",
    "\n",
    "### Facultad de Matemática Astronomía Física y Computación\n",
    "## Universidad Nacional de Córdoba\n",
    "\n",
    "<img src=\"http://program.ar/wp-content/uploads/2018/07/logo-UNC-FAMAF.png\" alt=\"Drawing\" style=\"width:80%;\"/>"
   ]
  },
  {
   "cell_type": "markdown",
   "metadata": {},
   "source": [
    "### Transformer\n",
    "\n",
    "* Toma un `DataFrame` y devuelven un `DataFrame` transformado.\n",
    "    - método `transform(<DataFrame>)`\n",
    "* Ejemplos:\n",
    "    - Transformador de features\n",
    "    Un transformador toma Dataframe de entrada y entrega un \n",
    "    dataframe de salida, a partir de un metodo `transform`\n",
    "    \n",
    "        %%% yuml type=class style=plain format=svg\n",
    "          [note:Dataframe;Entrada{bg:cornsilk}]->[Transformer;(featurizer)|transform(){bg:orange}]\n",
    "          [Transformer;(featurizer)|transform(){bg:orange}]->[note:Dataframe; features{bg:cornsilk}]\n",
    "        %%%\n",
    "\n",
    "    - Modelo\n",
    "    Un tranformador tambien puede ser un modelo. no solamente un \n",
    "    transformador de features\n",
    "    \n",
    "        %%% yuml type=class style=plain format=svg\n",
    "          [note:Dataframe; features{bg:cornsilk}]->[Transformer;(modelo)|transform(){bg:orange}]\n",
    "          [Transformer;(modelo)|transform(){bg:orange}]->[note:Dataframe; predicción{bg:cornsilk}]\n",
    "        %%%\n",
    "\n",
    "\n",
    "### Estimator\n",
    "\n",
    "* Encapsula un algoritmo ML.\n",
    "* Toma un `DataFrame` de entrenamiento y devuelve un `Transformer`\n",
    "    - método `fit(<DataFrame>)`\n",
    "\n",
    "      %%% yuml type=class style=plain format=svg\n",
    "         [note:Dataframe; features;(entrenamiento){bg:cornsilk}]->[Estimator;(algoritmo ML)|fit()]\n",
    "         [Estimator;(algoritmo ML)|fit(){bg:red}]->[note:Transformer;(modelo){bg:orange}]\n",
    "      %%%\n",
    "\n",
    "* Ejemplos:\n",
    "    - Logistic Regression\n",
    "\n",
    "Veamos el siguiente ejemplo con un flujo de trabajo ML clásico."
   ]
  },
  {
   "cell_type": "code",
   "execution_count": 1,
   "metadata": {},
   "outputs": [],
   "source": [
    "from pyspark.sql import SparkSession"
   ]
  },
  {
   "cell_type": "code",
   "execution_count": 2,
   "metadata": {},
   "outputs": [],
   "source": [
    "spark = SparkSession.builder.appName(\"06_ml_pipelines\").getOrCreate()\n",
    "sc = spark.sparkContext"
   ]
  },
  {
   "cell_type": "markdown",
   "metadata": {},
   "source": [
    "### Datos de entrenamiento"
   ]
  },
  {
   "cell_type": "code",
   "execution_count": 3,
   "metadata": {},
   "outputs": [],
   "source": [
    "training = spark.createDataFrame([\n",
    "        (0, \"a b c d e spark a\", 1.0),\n",
    "        (1, \"b d\", 0.0),\n",
    "        (2, \"spark f g h\", 1.0),\n",
    "        (3, \"hadoop a mapreduce\", 0.0)\n",
    "    ], [\"id\", \"text\", \"label\"])"
   ]
  },
  {
   "cell_type": "code",
   "execution_count": 4,
   "metadata": {},
   "outputs": [
    {
     "name": "stdout",
     "output_type": "stream",
     "text": [
      "+---+------------------+-----+\n",
      "| id|              text|label|\n",
      "+---+------------------+-----+\n",
      "|  0| a b c d e spark a|  1.0|\n",
      "|  1|               b d|  0.0|\n",
      "|  2|       spark f g h|  1.0|\n",
      "|  3|hadoop a mapreduce|  0.0|\n",
      "+---+------------------+-----+\n",
      "\n"
     ]
    }
   ],
   "source": [
    "training.show()"
   ]
  },
  {
   "cell_type": "markdown",
   "metadata": {},
   "source": [
    "### Featurization\n",
    "#### Tokenizer\n",
    "Tranforma una linea de texto en bolsa palabras"
   ]
  },
  {
   "cell_type": "code",
   "execution_count": 5,
   "metadata": {},
   "outputs": [
    {
     "name": "stdout",
     "output_type": "stream",
     "text": [
      "+---+------------------+-----+--------------------+\n",
      "| id|              text|label|               words|\n",
      "+---+------------------+-----+--------------------+\n",
      "|  0| a b c d e spark a|  1.0|[a, b, c, d, e, s...|\n",
      "|  1|               b d|  0.0|              [b, d]|\n",
      "|  2|       spark f g h|  1.0|    [spark, f, g, h]|\n",
      "|  3|hadoop a mapreduce|  0.0|[hadoop, a, mapre...|\n",
      "+---+------------------+-----+--------------------+\n",
      "\n"
     ]
    }
   ],
   "source": [
    "from pyspark.ml.feature import HashingTF, Tokenizer\n",
    "\n",
    "# Creo Tokenizer Transformer\n",
    "tokenizer = Tokenizer(\n",
    "    inputCol=\"text\",\n",
    "    outputCol=\"words\")\n",
    "\n",
    "# Aplico la transformación devolviendo un nuevo dataframe\n",
    "tokenizerOut = tokenizer.transform(training)\n",
    "\n",
    "tokenizerOut.show()"
   ]
  },
  {
   "cell_type": "markdown",
   "metadata": {},
   "source": [
    "### Feature Vector\n",
    "#### HashingTF\n",
    "Es un forma de hacer una bolsa de palabra bastante eficiente \n",
    "que en lugar de almacenar las palabras almacena el hash\n",
    "\n",
    "Ademas permite que cada bolsa de palabra tendra un tamaño maximo\n",
    "\n",
    "##### Bag of Word\n",
    "Cuando la entrada de algorimo es texto, lo que suele hacer \n",
    "un arreglo donde cada posicion del arreglo representa una palabra distinta, y si en el texto aparece una palabra se le suma 1 en \n",
    "la posicion correspondiente a la palabra en el arreglo.\n",
    "\n",
    "Entonces necesito un vector de todas las posibles palabras existentes\n",
    "en mi texto.\n",
    "\n",
    "Pero teniendo un hash ya no me importa tanto el tamaño del texto\n",
    "sino el tamaño de hash, y lo que hace es contar palabras que tengan el \n",
    "mismo hash."
   ]
  },
  {
   "cell_type": "code",
   "execution_count": 6,
   "metadata": {},
   "outputs": [
    {
     "name": "stdout",
     "output_type": "stream",
     "text": [
      "root\n",
      " |-- id: long (nullable = true)\n",
      " |-- text: string (nullable = true)\n",
      " |-- label: double (nullable = true)\n",
      " |-- words: array (nullable = true)\n",
      " |    |-- element: string (containsNull = true)\n",
      " |-- features: vector (nullable = true)\n",
      "\n"
     ]
    }
   ],
   "source": [
    "# Creo un Term Frecuency Transformer con hash\n",
    "hashingTF = HashingTF(\n",
    "    numFeatures=1000,\n",
    "    inputCol = tokenizer.getOutputCol(), \n",
    "    outputCol=\"features\")\n",
    "\n",
    "# Aplico la transformación al resultado de la transformación previa\n",
    "hashingTFOut = hashingTF.transform(tokenizerOut)\n",
    "\n",
    "hashingTFOut.printSchema() \n",
    "# Notar tipo de la columna \"features\"\n",
    "# El primer elemento de la tupla es el tamaño"
   ]
  },
  {
   "cell_type": "markdown",
   "metadata": {},
   "source": [
    "Se Crea una columna nueva de tipo vector, en donde se almacenan \n",
    "los valores ditintos de cero, en donde el primer elmento es el \n",
    "tamaño total = `10000`. Seguido una lista con las posiciones distintas de 0, y despues otra lista que me dicen cuantas palabras aparacen que tengan el mismo hash en cada posicion.\n",
    "\n",
    "Otra carcteristica de las bolsa de palabras es que no se sabe el orden en el que aparecen en el texto."
   ]
  },
  {
   "cell_type": "code",
   "execution_count": 7,
   "metadata": {},
   "outputs": [
    {
     "name": "stdout",
     "output_type": "stream",
     "text": [
      "+---+------------------+-----+--------------------+--------------------+\n",
      "| id|              text|label|               words|            features|\n",
      "+---+------------------+-----+--------------------+--------------------+\n",
      "|  0| a b c d e spark a|  1.0|[a, b, c, d, e, s...|(1000,[165,286,46...|\n",
      "|  1|               b d|  0.0|              [b, d]|(1000,[165,890],[...|\n",
      "|  2|       spark f g h|  1.0|    [spark, f, g, h]|(1000,[286,486,49...|\n",
      "|  3|hadoop a mapreduce|  0.0|[hadoop, a, mapre...|(1000,[467,585,75...|\n",
      "+---+------------------+-----+--------------------+--------------------+\n",
      "\n"
     ]
    }
   ],
   "source": [
    "hashingTFOut.show()"
   ]
  },
  {
   "cell_type": "markdown",
   "metadata": {},
   "source": [
    "### Modelo\n",
    "#### Creacion"
   ]
  },
  {
   "cell_type": "code",
   "execution_count": 8,
   "metadata": {},
   "outputs": [],
   "source": [
    "from pyspark.ml.classification import LogisticRegression\n",
    "\n",
    "# Creo el Estimator\n",
    "lr = LogisticRegression(\n",
    "    maxIter=10,\n",
    "    regParam=0.01)\n",
    "  \n",
    "# Entreno el Estimador obteniendo un modelo\n",
    "model = lr.fit(hashingTFOut)"
   ]
  },
  {
   "cell_type": "markdown",
   "metadata": {},
   "source": [
    "#### Predicción"
   ]
  },
  {
   "cell_type": "code",
   "execution_count": 9,
   "metadata": {},
   "outputs": [
    {
     "name": "stdout",
     "output_type": "stream",
     "text": [
      "+---+---------------+--------------------+----------+\n",
      "| id|           text|         probability|prediction|\n",
      "+---+---------------+--------------------+----------+\n",
      "|  4|  spark i j k a|[0.41787088770315...|       1.0|\n",
      "|  5|          l m n|[0.95412623885153...|       0.0|\n",
      "|  6|mapreduce spark|[0.83657689444953...|       0.0|\n",
      "|  7|  apache hadoop|[0.98578644499166...|       0.0|\n",
      "|  8|    spark f j k|[0.25910961733038...|       1.0|\n",
      "+---+---------------+--------------------+----------+\n",
      "\n"
     ]
    }
   ],
   "source": [
    "# Creo un DF para testearel modelo\n",
    "test = spark.createDataFrame([\n",
    "  (4, \"spark i j k a\"),\n",
    "  (5, \"l m n\"),\n",
    "  (6, \"mapreduce spark\"),\n",
    "  (7, \"apache hadoop\"),\n",
    "  (8, \"spark f j k\")\n",
    "], [\"id\", \"text\"])\n",
    "\n",
    "\n",
    "# Featurizo el test\n",
    "testTokens = tokenizer.transform(test)\n",
    "\n",
    "testFeatures = hashingTF.transform(testTokens)\n",
    "\n",
    "predictions = model.transform(testFeatures)\n",
    "\n",
    "predictions.select(\"id\", \"text\", \"probability\", \"prediction\").show()"
   ]
  },
  {
   "cell_type": "markdown",
   "metadata": {},
   "source": [
    "## Pipelines\n",
    "---\n",
    "\n",
    "* Abstracción del flujo de trabajo en ML:\n",
    "\n",
    "      %%% yuml style=plain scale=80 dir=LR format=svg\n",
    "        [Featurization]->[Entrenamiento]\n",
    "        [Entrenamiento]->[Modelo]\n",
    "        [Modelo]->[Predicción]\n",
    "        [Modelo]->[Evaluación]\n",
    "      %%%\n",
    "\n",
    "* Para su construcción se usan **Transformers** y **Estimators** (llamados Stages)\n",
    "    - los concatena\n",
    "\n",
    "* Un pipeline es un **Estimator**\n",
    "    - método `fit(<DataFramee>)` devuelve un `PipelineModel` (Transformer)\n",
    "    - `stages` las etapas del pipeline "
   ]
  },
  {
   "cell_type": "code",
   "execution_count": 10,
   "metadata": {},
   "outputs": [],
   "source": [
    "from pyspark.ml import Pipeline\n",
    "\n",
    "# Creo el pipeline con los Transformers y el Estimator\n",
    "pipeline = Pipeline(stages=[tokenizer, hashingTF, lr])\n",
    "\n",
    "# Con fit el pipeline genera los fetures y entrena.\n",
    "pipModel = pipeline.fit(training)\n"
   ]
  },
  {
   "cell_type": "markdown",
   "metadata": {},
   "source": [
    "### Pipeline de entrenamiento\n",
    "\n",
    "<img     src=\"https://bitbucket.org/bigdata_famaf/diplodatos_bigdata/raw/b17129f7118b3389b8c7f2f85fd89c6238fe0edd/clases/06_ml_pipelines/ml-Pipeline.png\" alt=\"Drawing\" style=\"width:80%;\"/>\n",
    "\n",
    "### PipelineModel\n",
    "\n",
    "* El resultado anterior es un modelo (Transformer) que se puede usar para predecir\n",
    "    - método `transform(<DataFrame>)`\n",
    "* Usa los mismos Transformers de *featurizacion* que para el entrenamiento\n",
    "    - ahorra código"
   ]
  },
  {
   "cell_type": "code",
   "execution_count": 11,
   "metadata": {},
   "outputs": [
    {
     "name": "stdout",
     "output_type": "stream",
     "text": [
      "+---+---------------+--------------------+----------+\n",
      "| id|           text|         probability|prediction|\n",
      "+---+---------------+--------------------+----------+\n",
      "|  4|  spark i j k a|[0.41787088770315...|       1.0|\n",
      "|  5|          l m n|[0.95412623885153...|       0.0|\n",
      "|  6|mapreduce spark|[0.83657689444954...|       0.0|\n",
      "|  7|  apache hadoop|[0.98578644499166...|       0.0|\n",
      "|  8|    spark f j k|[0.25910961733038...|       1.0|\n",
      "+---+---------------+--------------------+----------+\n",
      "\n"
     ]
    }
   ],
   "source": [
    "# El modelo en el pipeline solo necesita el Raw Test:\n",
    "# automaticamente aplica los transformadores de features\n",
    "# y hace predicciones.\n",
    "\n",
    "predictions = pipModel.transform(test)\n",
    "\n",
    "predictions.select(\"id\", \"text\", \"probability\", \"prediction\").show()"
   ]
  },
  {
   "cell_type": "markdown",
   "metadata": {},
   "source": [
    "### Persistencia"
   ]
  },
  {
   "cell_type": "code",
   "execution_count": 12,
   "metadata": {},
   "outputs": [],
   "source": [
    "from pyspark.ml import PipelineModel\n",
    "\n",
    "# El pipeline entrenado se puede guardar\n",
    "pipModel.write().overwrite().save(\"../outpus/spark-logistic-regression-model\")\n",
    "\n",
    "# Y cargarlo para la etapa de uso\n",
    "samePipModel = PipelineModel.load(\"../outpus/spark-logistic-regression-model\")\n",
    "\n",
    "# Tambien el pipeline sin entrenar\n",
    "pipeline.write().overwrite().save(\"../outpus/unfit-lr-model\")"
   ]
  },
  {
   "cell_type": "code",
   "execution_count": 13,
   "metadata": {},
   "outputs": [
    {
     "name": "stdout",
     "output_type": "stream",
     "text": [
      "metadata  stages\n"
     ]
    }
   ],
   "source": [
    "!ls ../outpus/spark-logistic-regression-model"
   ]
  },
  {
   "cell_type": "markdown",
   "metadata": {},
   "source": [
    "### Ejercicio\n",
    "\n",
    "Hacer con pipelines uno de los ejemplos de clasificacionde clase anterior. Plotear el resultado.\n",
    "\n",
    "\n",
    "1. Cargo DataSet"
   ]
  },
  {
   "cell_type": "code",
   "execution_count": 14,
   "metadata": {},
   "outputs": [
    {
     "name": "stdout",
     "output_type": "stream",
     "text": [
      "Cantidad de filas: 10000. Cantidad de particiones: 20.\n",
      "+------------------+------------------+---+\n",
      "|               kgs|               mts|sex|\n",
      "+------------------+------------------+---+\n",
      "| 59.30095554158178|  1.55282461831371|  F|\n",
      "| 54.66081516084203|1.7332577682767587|  F|\n",
      "| 81.44412109264148|1.8537933285241945|  M|\n",
      "| 70.06667001846606| 1.684351354365278|  F|\n",
      "| 97.51848311257145|1.8707762443318086|  M|\n",
      "|113.36980387828727|1.9516682283010107|  M|\n",
      "| 81.79141795962448|  1.82723409435759|  M|\n",
      "| 90.27283594932796|  1.77395239931756|  F|\n",
      "| 109.1182742470935|1.7470182829244116|  F|\n",
      "+------------------+------------------+---+\n",
      "\n"
     ]
    }
   ],
   "source": [
    "inputFile = \"../inputs/ds/people_sex_height_age_weight.json\"\n",
    "\n",
    "people = spark.read.json(inputFile) \\\n",
    "    .select(\"kgs\", \"mts\", \"sex\") \\\n",
    "    .repartition(sc.defaultParallelism) \\\n",
    "    .cache()\n",
    "    \n",
    "print(\"Cantidad de filas: {}. Cantidad de particiones: {}.\".format(people.count(), people.rdd.getNumPartitions()))\n",
    "\n",
    "people.sample(False,0.001).show()"
   ]
  },
  {
   "cell_type": "markdown",
   "metadata": {},
   "source": [
    "2. Split DataSet"
   ]
  },
  {
   "cell_type": "code",
   "execution_count": 15,
   "metadata": {},
   "outputs": [
    {
     "name": "stdout",
     "output_type": "stream",
     "text": [
      "527 9473\n"
     ]
    }
   ],
   "source": [
    "trainDF, testDF = people.randomSplit([0.95, 0.05]) \n",
    "\n",
    "print(testDF.count(), trainDF.count())"
   ]
  },
  {
   "cell_type": "markdown",
   "metadata": {},
   "source": [
    "3. VectorAssembler"
   ]
  },
  {
   "cell_type": "code",
   "execution_count": 16,
   "metadata": {},
   "outputs": [],
   "source": [
    "from pyspark.ml.feature import VectorAssembler\n",
    "\n",
    "vAssembler = VectorAssembler(\n",
    "    inputCols=[\"kgs\", \"mts\"],\n",
    "    outputCol=\"features\")"
   ]
  },
  {
   "cell_type": "markdown",
   "metadata": {},
   "source": [
    "4. StringIndexer"
   ]
  },
  {
   "cell_type": "code",
   "execution_count": 17,
   "metadata": {},
   "outputs": [],
   "source": [
    "from pyspark.ml.feature import StringIndexer\n",
    "\n",
    "strIndexer = StringIndexer(\n",
    "  inputCol=\"sex\",\n",
    "  outputCol=\"label\")"
   ]
  },
  {
   "cell_type": "markdown",
   "metadata": {},
   "source": [
    "5. PolynomialExpansion"
   ]
  },
  {
   "cell_type": "code",
   "execution_count": 18,
   "metadata": {},
   "outputs": [],
   "source": [
    "from pyspark.ml.feature import PolynomialExpansion\n",
    "\n",
    "polyExpansion = PolynomialExpansion( \n",
    "    inputCol=\"features\",\n",
    "    outputCol=\"features_expansion\",\n",
    "    degree=3) # llenar (ver documentacion)"
   ]
  },
  {
   "cell_type": "markdown",
   "metadata": {},
   "source": [
    "#### Creacion del `Pipeline`"
   ]
  },
  {
   "cell_type": "code",
   "execution_count": 19,
   "metadata": {},
   "outputs": [
    {
     "name": "stdout",
     "output_type": "stream",
     "text": [
      "+--------------------+------------------+---+--------------------+-----+--------------------+\n",
      "|                 kgs|               mts|sex|            features|label|  features_expansion|\n",
      "+--------------------+------------------+---+--------------------+-----+--------------------+\n",
      "|-0.02439943239118...| 1.803802100446955|  F|[-0.0243994323911...|  0.0|[-0.0243994323911...|\n",
      "|  0.6291486615052309| 1.630190117559786|  F|[0.62914866150523...|  0.0|[0.62914866150523...|\n",
      "|   10.86790156913123| 1.852049089564589|  F|[10.8679015691312...|  0.0|[10.8679015691312...|\n",
      "|   38.11229329793476|1.5357829370692366|  F|[38.1122932979347...|  0.0|[38.1122932979347...|\n",
      "|  41.216523010367524|1.4763431317498557|  M|[41.2165230103675...|  1.0|[41.2165230103675...|\n",
      "|   44.87858730352653|1.6775557703865216|  F|[44.8785873035265...|  0.0|[44.8785873035265...|\n",
      "|  45.277876012770996|1.7240233052200462|  F|[45.2778760127709...|  0.0|[45.2778760127709...|\n",
      "|   45.32435551005798| 1.594819377273792|  F|[45.3243555100579...|  0.0|[45.3243555100579...|\n",
      "|  45.430791163886475|1.6113765748371114|  F|[45.4307911638864...|  0.0|[45.4307911638864...|\n",
      "|   45.48607248597171|1.5754109330872295|  F|[45.4860724859717...|  0.0|[45.4860724859717...|\n",
      "|  45.529217255408994|1.7107272070099235|  F|[45.5292172554089...|  0.0|[45.5292172554089...|\n",
      "|   45.63643632368086|1.6324033387897732|  F|[45.6364363236808...|  0.0|[45.6364363236808...|\n",
      "|   45.69778360642726|1.7262065385926808|  F|[45.6977836064272...|  0.0|[45.6977836064272...|\n",
      "|  45.726071896032074|1.5909695047619385|  F|[45.7260718960320...|  0.0|[45.7260718960320...|\n",
      "|   47.62805626530646| 1.635809456763587|  F|[47.6280562653064...|  0.0|[47.6280562653064...|\n",
      "|   48.07448796239188|1.6844624077207482|  F|[48.0744879623918...|  0.0|[48.0744879623918...|\n",
      "|  49.412582850910255| 1.657030250326026|  F|[49.4125828509102...|  0.0|[49.4125828509102...|\n",
      "|   49.43415040026271| 1.740366977395313|  M|[49.4341504002627...|  1.0|[49.4341504002627...|\n",
      "|   49.46672989116655|1.6436653405250812|  F|[49.4667298911665...|  0.0|[49.4667298911665...|\n",
      "|   49.48398497888123| 1.660802466543692|  F|[49.4839849788812...|  0.0|[49.4839849788812...|\n",
      "+--------------------+------------------+---+--------------------+-----+--------------------+\n",
      "only showing top 20 rows\n",
      "\n"
     ]
    }
   ],
   "source": [
    "# Creo el pipeline con los Transformers y el Estimator\n",
    "pipaline = Pipeline(\n",
    "    stages=[vAssembler, strIndexer, polyExpansion])\n",
    "\n",
    "# Con fit el pipeline genera los fetures y entrena.\n",
    "prePro = pipaline.fit(trainDF)\n",
    "pipaPre = prePro.transform(trainDF)\n",
    "#model = lrEstimatorPoly.fit(pipaPre)\n",
    "pipaPre.show()"
   ]
  },
  {
   "cell_type": "markdown",
   "metadata": {},
   "source": [
    "6. LogisticRegression"
   ]
  },
  {
   "cell_type": "code",
   "execution_count": 20,
   "metadata": {},
   "outputs": [],
   "source": [
    "lrEstimatorPoly = LogisticRegression(\n",
    "    featuresCol=\"features_expansion\", # llenar\n",
    "    maxIter=100,\n",
    "    regParam=0.01)\n",
    "\n",
    "lrModelPoly = lrEstimatorPoly.fit(pipaPre) # llenar"
   ]
  },
  {
   "cell_type": "markdown",
   "metadata": {},
   "source": [
    "Grilla para test"
   ]
  },
  {
   "cell_type": "code",
   "execution_count": 21,
   "metadata": {},
   "outputs": [],
   "source": [
    "def createGrid():\n",
    "\n",
    "    from pyspark.sql.functions import min, max\n",
    "    \n",
    "    maxTics = 256\n",
    "\n",
    "    def fgrid (x, min, max, tics):\n",
    "        tics2 = tics - 2\n",
    "        return (float(x-1)*(max-min)+tics2*min)/tics2\n",
    "\n",
    "\n",
    "    minKgs, maxKgs, minMts, maxMts = people.agg(min(\"kgs\"), max(\"kgs\"), min(\"mts\"), max(\"mts\")).first()\n",
    "\n",
    "    # 1.- numeracion ticks en x \n",
    "    # 2.- numeracion ticks en (x, y)\n",
    "    # 3.- todos los (kgs, mts) \n",
    "    return sc.parallelize(range(maxTics)) \\\n",
    "            .flatMap(lambda x: [ (x, y) for y in range(maxTics)]) \\\n",
    "            .map(lambda x_y: (fgrid(x_y[0], minKgs, maxKgs, maxTics), fgrid(x_y[1], minMts, maxMts, maxTics))) \\\n",
    "            .toDF([\"kgs\", \"mts\"])\n"
   ]
  },
  {
   "cell_type": "code",
   "execution_count": 22,
   "metadata": {},
   "outputs": [
    {
     "name": "stdout",
     "output_type": "stream",
     "text": [
      "+-------------------+------------------+--------------------+--------------------+\n",
      "|                kgs|               mts|            features|  features_expansion|\n",
      "+-------------------+------------------+--------------------+--------------------+\n",
      "|-0.5960327326330384| 1.121333932803231|[-0.5960327326330...|[-0.5960327326330...|\n",
      "|-0.5960327326330384|1.1255756685431166|[-0.5960327326330...|[-0.5960327326330...|\n",
      "|-0.5960327326330384| 1.129817404283002|[-0.5960327326330...|[-0.5960327326330...|\n",
      "|-0.5960327326330384|1.1340591400228877|[-0.5960327326330...|[-0.5960327326330...|\n",
      "|-0.5960327326330384| 1.138300875762773|[-0.5960327326330...|[-0.5960327326330...|\n",
      "+-------------------+------------------+--------------------+--------------------+\n",
      "\n"
     ]
    }
   ],
   "source": [
    "gridPoly = prePro.transform(createGrid()).cache()\n",
    "gridPoly.limit(5).show()"
   ]
  },
  {
   "cell_type": "code",
   "execution_count": 23,
   "metadata": {},
   "outputs": [
    {
     "data": {
      "text/html": [
       "<div>\n",
       "<style scoped>\n",
       "    .dataframe tbody tr th:only-of-type {\n",
       "        vertical-align: middle;\n",
       "    }\n",
       "\n",
       "    .dataframe tbody tr th {\n",
       "        vertical-align: top;\n",
       "    }\n",
       "\n",
       "    .dataframe thead th {\n",
       "        text-align: right;\n",
       "    }\n",
       "</style>\n",
       "<table border=\"1\" class=\"dataframe\">\n",
       "  <thead>\n",
       "    <tr style=\"text-align: right;\">\n",
       "      <th></th>\n",
       "      <th>kgs</th>\n",
       "      <th>mts</th>\n",
       "      <th>features</th>\n",
       "      <th>features_expansion</th>\n",
       "      <th>rawPrediction</th>\n",
       "      <th>probability</th>\n",
       "      <th>prediction</th>\n",
       "    </tr>\n",
       "  </thead>\n",
       "  <tbody>\n",
       "    <tr>\n",
       "      <th>0</th>\n",
       "      <td>-0.596033</td>\n",
       "      <td>1.324937</td>\n",
       "      <td>[-0.5960327326330384, 1.3249372483177346]</td>\n",
       "      <td>[-0.5960327326330384, 0.355255018370007, -0.21...</td>\n",
       "      <td>[8.474524059593884, -8.474524059593884]</td>\n",
       "      <td>[0.999791325045094, 0.00020867495490597087]</td>\n",
       "      <td>0.0</td>\n",
       "    </tr>\n",
       "    <tr>\n",
       "      <th>1</th>\n",
       "      <td>-0.596033</td>\n",
       "      <td>2.067241</td>\n",
       "      <td>[-0.5960327326330384, 2.067241002797695]</td>\n",
       "      <td>[-0.5960327326330384, 0.355255018370007, -0.21...</td>\n",
       "      <td>[1.4960342076513413, -1.4960342076513413]</td>\n",
       "      <td>[0.8169822472378477, 0.1830177527621522]</td>\n",
       "      <td>0.0</td>\n",
       "    </tr>\n",
       "    <tr>\n",
       "      <th>2</th>\n",
       "      <td>-0.024399</td>\n",
       "      <td>1.948472</td>\n",
       "      <td>[-0.024399432391182807, 1.9484724020809017]</td>\n",
       "      <td>[-0.024399432391182807, 0.0005953323010119008,...</td>\n",
       "      <td>[2.7566515130073572, -2.7566515130073572]</td>\n",
       "      <td>[0.9402879049391791, 0.05971209506082093]</td>\n",
       "      <td>0.0</td>\n",
       "    </tr>\n",
       "    <tr>\n",
       "      <th>3</th>\n",
       "      <td>0.547234</td>\n",
       "      <td>1.990890</td>\n",
       "      <td>[0.5472338678506727, 1.9908897594797563]</td>\n",
       "      <td>[0.5472338678506727, 0.2994649061228076, 0.163...</td>\n",
       "      <td>[2.242867248300632, -2.242867248300632]</td>\n",
       "      <td>[0.9040335002869329, 0.09596649971306705]</td>\n",
       "      <td>0.0</td>\n",
       "    </tr>\n",
       "    <tr>\n",
       "      <th>4</th>\n",
       "      <td>0.547234</td>\n",
       "      <td>2.067241</td>\n",
       "      <td>[0.5472338678506727, 2.067241002797695]</td>\n",
       "      <td>[0.5472338678506727, 0.2994649061228076, 0.163...</td>\n",
       "      <td>[1.3857594935845867, -1.3857594935845867]</td>\n",
       "      <td>[0.7999144074621911, 0.200085592537809]</td>\n",
       "      <td>0.0</td>\n",
       "    </tr>\n",
       "  </tbody>\n",
       "</table>\n",
       "</div>"
      ],
      "text/plain": [
       "        kgs       mts                                     features  \\\n",
       "0 -0.596033  1.324937    [-0.5960327326330384, 1.3249372483177346]   \n",
       "1 -0.596033  2.067241     [-0.5960327326330384, 2.067241002797695]   \n",
       "2 -0.024399  1.948472  [-0.024399432391182807, 1.9484724020809017]   \n",
       "3  0.547234  1.990890     [0.5472338678506727, 1.9908897594797563]   \n",
       "4  0.547234  2.067241      [0.5472338678506727, 2.067241002797695]   \n",
       "\n",
       "                                  features_expansion  \\\n",
       "0  [-0.5960327326330384, 0.355255018370007, -0.21...   \n",
       "1  [-0.5960327326330384, 0.355255018370007, -0.21...   \n",
       "2  [-0.024399432391182807, 0.0005953323010119008,...   \n",
       "3  [0.5472338678506727, 0.2994649061228076, 0.163...   \n",
       "4  [0.5472338678506727, 0.2994649061228076, 0.163...   \n",
       "\n",
       "                               rawPrediction  \\\n",
       "0    [8.474524059593884, -8.474524059593884]   \n",
       "1  [1.4960342076513413, -1.4960342076513413]   \n",
       "2  [2.7566515130073572, -2.7566515130073572]   \n",
       "3    [2.242867248300632, -2.242867248300632]   \n",
       "4  [1.3857594935845867, -1.3857594935845867]   \n",
       "\n",
       "                                   probability  prediction  \n",
       "0  [0.999791325045094, 0.00020867495490597087]         0.0  \n",
       "1     [0.8169822472378477, 0.1830177527621522]         0.0  \n",
       "2    [0.9402879049391791, 0.05971209506082093]         0.0  \n",
       "3    [0.9040335002869329, 0.09596649971306705]         0.0  \n",
       "4      [0.7999144074621911, 0.200085592537809]         0.0  "
      ]
     },
     "execution_count": 23,
     "metadata": {},
     "output_type": "execute_result"
    }
   ],
   "source": [
    "gridPredictionLRPoly = lrModelPoly.transform(gridPoly)\n",
    "                            \n",
    "gridPredictionLRPoly.sample(False,0.001).toPandas().head(5)"
   ]
  },
  {
   "cell_type": "code",
   "execution_count": 24,
   "metadata": {},
   "outputs": [],
   "source": [
    "def plot_classification(df, surfaceDF=None, prob=False):\n",
    "    import matplotlib.pyplot as plt\n",
    "    import numpy as np\n",
    "    import matplotlib.cm as cm\n",
    "\n",
    "    from matplotlib.colors import ListedColormap, LinearSegmentedColormap\n",
    "\n",
    "    cmap_light = LinearSegmentedColormap.from_list(\"light\", ['#FF5555', '#5555FF'])\n",
    "    cmap_pastel = LinearSegmentedColormap.from_list(\"pastel\", ['#FF8888', '#8888FF'])\n",
    "    cmap_bold = ListedColormap(['#FF0000', '#00FF00', '#0000FF'])\n",
    "    \n",
    "    plt.close('all')\n",
    "\n",
    "    plt.autoscale(enable=True, axis='x', tight=True)\n",
    "\n",
    "    if surfaceDF:\n",
    "\n",
    "        if prob:\n",
    "            pSTable = surfaceDF.select('kgs','mts','prob').toPandas()\n",
    "            Z = pSTable['prob']\n",
    "        else:\n",
    "            pSTable = surfaceDF.select('kgs','mts','prediction').toPandas()\n",
    "            Z = pSTable['prediction']\n",
    "\n",
    "        xs = pSTable['kgs']\n",
    "        ys = pSTable['mts']\n",
    "\n",
    "        xUs = xs.unique()\n",
    "        yUs = ys.unique()\n",
    "\n",
    "        xx, yy = np.meshgrid(xUs,yUs)\n",
    "\n",
    "        Z = Z.values.reshape(xx.shape).transpose()\n",
    "\n",
    "        if prob:\n",
    "            plt.pcolormesh(xx, yy, Z, shading='auto', cmap=cmap_light)\n",
    "        else:\n",
    "            plt.pcolormesh(xx, yy, Z, shading='auto', cmap=cmap_pastel)\n",
    "\n",
    "        plt.axis([xs.min(), xs.max(), ys.min(), ys.max()])\n",
    "\n",
    "    pTable = df.select('kgs','mts','label').toPandas().sample(frac=1)\n",
    "\n",
    "    xs = pTable['kgs']\n",
    "    ys = pTable['mts']\n",
    "    cs = pTable['label']\n",
    "    plt.scatter(xs, ys, c=cs, cmap=cmap_bold, alpha=0.5, s=16)\n",
    "    plt.xlabel('kgs')\n",
    "    plt.ylabel('mts')\n",
    "\n",
    "    plt.show()"
   ]
  },
  {
   "cell_type": "code",
   "execution_count": 25,
   "metadata": {},
   "outputs": [
    {
     "data": {
      "image/png": "[encoded data removed]",
      "text/plain": [
       "<Figure size 432x288 with 1 Axes>"
      ]
     },
     "metadata": {
      "needs_background": "light"
     },
     "output_type": "display_data"
    }
   ],
   "source": [
    "plot_classification(pipaPre, surfaceDF=gridPredictionLRPoly, prob=False)"
   ]
  },
  {
   "cell_type": "markdown",
   "metadata": {},
   "source": [
    "Fin"
   ]
  }
 ],
 "metadata": {
  "kernelspec": {
   "display_name": "Python 3",
   "language": "python",
   "name": "python3"
  },
  "language_info": {
   "codemirror_mode": {
    "name": "ipython",
    "version": 3
   },
   "file_extension": ".py",
   "mimetype": "text/x-python",
   "name": "python",
   "nbconvert_exporter": "python",
   "pygments_lexer": "ipython3",
   "version": "3.6.12"
  }
 },
 "nbformat": 4,
 "nbformat_minor": 4
}
