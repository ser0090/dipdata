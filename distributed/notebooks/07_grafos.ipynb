{
 "cells": [
  {
   "cell_type": "markdown",
   "metadata": {},
   "source": [
    "# Diplomatura en Ciencia de Datos, Aprendizaje Automático y sus Aplicaciones\n",
    "## Programación Distribuida sobre Grandes Volúmenes de Datos\n",
    "\n",
    "Damián Barsotti \n",
    "\n",
    "### Facultad de Matemática Astronomía Física y Computación\n",
    "## Universidad Nacional de Córdoba\n",
    "\n",
    "<img src=\"http://program.ar/wp-content/uploads/2018/07/logo-UNC-FAMAF.png\" alt=\"Drawing\" style=\"width:80%;\"/>"
   ]
  },
  {
   "cell_type": "markdown",
   "metadata": {},
   "source": [
    "# Grandes Grafos Sociales\n",
    "---\n",
    "### Ejemplo Red de Usuarios Twitter"
   ]
  },
  {
   "cell_type": "code",
   "execution_count": 1,
   "metadata": {},
   "outputs": [
    {
     "name": "stdout",
     "output_type": "stream",
     "text": [
      "total 7603\n",
      "-rw-r--r-- 1 ssulca ssulca 1178897 Nov  1 20:47 part-00000-30555478-6859-4a3b-a8e1-6135ac631066.snappy.parquet\n",
      "-rw-r--r-- 1 ssulca ssulca 1170279 Nov  1 20:47 part-00001-30555478-6859-4a3b-a8e1-6135ac631066.snappy.parquet\n",
      "-rw-r--r-- 1 ssulca ssulca 1156050 Nov  1 20:47 part-00002-30555478-6859-4a3b-a8e1-6135ac631066.snappy.parquet\n",
      "-rw-r--r-- 1 ssulca ssulca 1141217 Nov  1 20:47 part-00003-30555478-6859-4a3b-a8e1-6135ac631066.snappy.parquet\n",
      "-rw-r--r-- 1 ssulca ssulca 1134385 Nov  1 20:47 part-00004-30555478-6859-4a3b-a8e1-6135ac631066.snappy.parquet\n",
      "-rw-r--r-- 1 ssulca ssulca 1121361 Nov  1 20:47 part-00005-30555478-6859-4a3b-a8e1-6135ac631066.snappy.parquet\n",
      "-rw-r--r-- 1 ssulca ssulca  620041 Nov  1 20:47 part-00006-30555478-6859-4a3b-a8e1-6135ac631066.snappy.parquet\n",
      "-rw-r--r-- 1 ssulca ssulca       0 Nov  1 20:47 _SUCCESS\n"
     ]
    }
   ],
   "source": [
    "!ls -l ../inputs/ds/tweets.pqt"
   ]
  },
  {
   "cell_type": "code",
   "execution_count": 2,
   "metadata": {},
   "outputs": [],
   "source": [
    "import os\n",
    "from pyspark.sql import SparkSession"
   ]
  },
  {
   "cell_type": "markdown",
   "metadata": {},
   "source": [
    "Spark usa graphs de manera interna pero esta basada en RDD\n",
    "\n",
    "[Databricks](https://databricks.com/) tiene una version de graph que usa dataframes llamda `graphframes`, Entonces vamos a usar esa, por cuestiones de comodidad ."
   ]
  },
  {
   "cell_type": "code",
   "execution_count": 3,
   "metadata": {},
   "outputs": [],
   "source": [
    "os.environ[\"PYSPARK_SUBMIT_ARGS\"] = (\n",
    "    \"--packages graphframes:graphframes:0.8.1-spark3.0-s_2.12 pyspark-shell\"\n",
    ")"
   ]
  },
  {
   "cell_type": "markdown",
   "metadata": {},
   "source": [
    "Para jupyter lab si tiene problemas en importar la libreria usar\n",
    "\n",
    "ver la version de la libreria correspondiente a la version de spark\n",
    "\n",
    "```sh\n",
    "pyspark --packages graphframes:graphframes:0.8.1-spark3.0-s_2.1\n",
    "```"
   ]
  },
  {
   "cell_type": "code",
   "execution_count": 4,
   "metadata": {},
   "outputs": [],
   "source": [
    "spark = SparkSession.builder.appName(\"07_grafos\").getOrCreate()\n",
    "sc = spark.sparkContext\n",
    "\n",
    "#sc.addPyFile('/users/ssulca/.ivy2/jars/graphframes_graphframes-0.8.1-spark3.0-s_2.12.jar')"
   ]
  },
  {
   "cell_type": "markdown",
   "metadata": {},
   "source": [
    "### Load Tweets\n",
    "\n",
    "* `pqt` - formato parket, \n",
    "* alamacena el file en partes separadas.\n",
    "* `RT_times` es la cantidad de veces que el usuario retweeteo el tweet"
   ]
  },
  {
   "cell_type": "code",
   "execution_count": 5,
   "metadata": {},
   "outputs": [
    {
     "name": "stdout",
     "output_type": "stream",
     "text": [
      "Cantidadtweets de tweets: 172040\n",
      "root\n",
      " |-- timestamp: long (nullable = true)\n",
      " |-- user: string (nullable = true)\n",
      " |-- RT_by: string (nullable = true)\n",
      " |-- RT_times: long (nullable = true)\n",
      " |-- text: string (nullable = true)\n",
      "\n"
     ]
    }
   ],
   "source": [
    "tweets = spark.read.parquet(\"../inputs/ds/tweets.pqt\")\n",
    "\n",
    "print(\"Cantidadtweets de tweets:\", tweets.count())\n",
    "\n",
    "tweets.printSchema()"
   ]
  },
  {
   "cell_type": "code",
   "execution_count": 6,
   "metadata": {},
   "outputs": [
    {
     "data": {
      "text/html": [
       "<div>\n",
       "<style scoped>\n",
       "    .dataframe tbody tr th:only-of-type {\n",
       "        vertical-align: middle;\n",
       "    }\n",
       "\n",
       "    .dataframe tbody tr th {\n",
       "        vertical-align: top;\n",
       "    }\n",
       "\n",
       "    .dataframe thead th {\n",
       "        text-align: right;\n",
       "    }\n",
       "</style>\n",
       "<table border=\"1\" class=\"dataframe\">\n",
       "  <thead>\n",
       "    <tr style=\"text-align: right;\">\n",
       "      <th></th>\n",
       "      <th>timestamp</th>\n",
       "      <th>user</th>\n",
       "      <th>RT_by</th>\n",
       "      <th>RT_times</th>\n",
       "      <th>text</th>\n",
       "    </tr>\n",
       "  </thead>\n",
       "  <tbody>\n",
       "    <tr>\n",
       "      <th>0</th>\n",
       "      <td>1487970896</td>\n",
       "      <td>ierrejon</td>\n",
       "      <td>teresapititesa</td>\n",
       "      <td>2</td>\n",
       "      <td>RT @ierrejon: Aulas masificadas, falta de prof...</td>\n",
       "    </tr>\n",
       "    <tr>\n",
       "      <th>1</th>\n",
       "      <td>1487971010</td>\n",
       "      <td>RobiBaradel</td>\n",
       "      <td>itoferrero</td>\n",
       "      <td>1</td>\n",
       "      <td>RT @RobiBaradel: Nos parece muy sano que los c...</td>\n",
       "    </tr>\n",
       "    <tr>\n",
       "      <th>2</th>\n",
       "      <td>1487971052</td>\n",
       "      <td>vilma_ripoll</td>\n",
       "      <td>PabloIannuzzi</td>\n",
       "      <td>3</td>\n",
       "      <td>RT @vilma_ripoll: Los \"voluntarios\"contra el p...</td>\n",
       "    </tr>\n",
       "    <tr>\n",
       "      <th>3</th>\n",
       "      <td>1487971121</td>\n",
       "      <td>fargosi</td>\n",
       "      <td>PiaAsao</td>\n",
       "      <td>3</td>\n",
       "      <td>RT @fargosi: Hay otros medios de protesta. Las...</td>\n",
       "    </tr>\n",
       "    <tr>\n",
       "      <th>4</th>\n",
       "      <td>1487971177</td>\n",
       "      <td>GFrondizi</td>\n",
       "      <td>tepergmailcomP1</td>\n",
       "      <td>3</td>\n",
       "      <td>RT @GFrondizi: Pido algún fiscal por incumplim...</td>\n",
       "    </tr>\n",
       "    <tr>\n",
       "      <th>5</th>\n",
       "      <td>1487971184</td>\n",
       "      <td>RobiBaradel</td>\n",
       "      <td>Analiavc1</td>\n",
       "      <td>41</td>\n",
       "      <td>RT @RobiBaradel: Nos parece muy sano que los c...</td>\n",
       "    </tr>\n",
       "    <tr>\n",
       "      <th>6</th>\n",
       "      <td>1487971345</td>\n",
       "      <td>SuperSecretario</td>\n",
       "      <td>ari2271</td>\n",
       "      <td>12</td>\n",
       "      <td>RT @SuperSecretario: #Cambiemos sacó solo 1,5%...</td>\n",
       "    </tr>\n",
       "    <tr>\n",
       "      <th>7</th>\n",
       "      <td>1487971368</td>\n",
       "      <td>MarinaVolpe12</td>\n",
       "      <td>BocaLocura312</td>\n",
       "      <td>1</td>\n",
       "      <td>RT @MarinaVolpe12: No se ofrezcan nunca como M...</td>\n",
       "    </tr>\n",
       "    <tr>\n",
       "      <th>8</th>\n",
       "      <td>1487971408</td>\n",
       "      <td>lanacionmas</td>\n",
       "      <td>susanamartimari</td>\n",
       "      <td>2</td>\n",
       "      <td>RT @lanacionmas: ¿Qué opinás de la propuesta #...</td>\n",
       "    </tr>\n",
       "    <tr>\n",
       "      <th>9</th>\n",
       "      <td>1487971469</td>\n",
       "      <td>aeronauticosCFK</td>\n",
       "      <td>andrea7533</td>\n",
       "      <td>17</td>\n",
       "      <td>RT @aeronauticosCFK: #ApoyoALosMaestros\\nPara ...</td>\n",
       "    </tr>\n",
       "  </tbody>\n",
       "</table>\n",
       "</div>"
      ],
      "text/plain": [
       "    timestamp             user            RT_by  RT_times  \\\n",
       "0  1487970896         ierrejon   teresapititesa         2   \n",
       "1  1487971010      RobiBaradel       itoferrero         1   \n",
       "2  1487971052     vilma_ripoll    PabloIannuzzi         3   \n",
       "3  1487971121          fargosi          PiaAsao         3   \n",
       "4  1487971177        GFrondizi  tepergmailcomP1         3   \n",
       "5  1487971184      RobiBaradel        Analiavc1        41   \n",
       "6  1487971345  SuperSecretario          ari2271        12   \n",
       "7  1487971368    MarinaVolpe12    BocaLocura312         1   \n",
       "8  1487971408      lanacionmas  susanamartimari         2   \n",
       "9  1487971469  aeronauticosCFK       andrea7533        17   \n",
       "\n",
       "                                                text  \n",
       "0  RT @ierrejon: Aulas masificadas, falta de prof...  \n",
       "1  RT @RobiBaradel: Nos parece muy sano que los c...  \n",
       "2  RT @vilma_ripoll: Los \"voluntarios\"contra el p...  \n",
       "3  RT @fargosi: Hay otros medios de protesta. Las...  \n",
       "4  RT @GFrondizi: Pido algún fiscal por incumplim...  \n",
       "5  RT @RobiBaradel: Nos parece muy sano que los c...  \n",
       "6  RT @SuperSecretario: #Cambiemos sacó solo 1,5%...  \n",
       "7  RT @MarinaVolpe12: No se ofrezcan nunca como M...  \n",
       "8  RT @lanacionmas: ¿Qué opinás de la propuesta #...  \n",
       "9  RT @aeronauticosCFK: #ApoyoALosMaestros\\nPara ...  "
      ]
     },
     "execution_count": 6,
     "metadata": {},
     "output_type": "execute_result"
    }
   ],
   "source": [
    "tweets.limit(10).toPandas()"
   ]
  },
  {
   "cell_type": "markdown",
   "metadata": {},
   "source": [
    "### Definición de la red de usuarios:\n",
    "\n",
    "La idea es generar una rede donde cada nodo sea si un usuriao\n",
    "y la relacion un usuario retwitteo a otro.\n",
    "\n",
    "* **Usuario A está conectado con usuario B** si B retweeteó un mensaje de A.\n",
    "* Queremos también la cantidad de retweets que hizo B de mensajes de A **distintos o no**.\n",
    "\n",
    "#### Generamos las conecciones por usuarios"
   ]
  },
  {
   "cell_type": "code",
   "execution_count": 7,
   "metadata": {},
   "outputs": [],
   "source": [
    "from pyspark.sql.functions import sum, count\n",
    "\n",
    "twitterConnections = tweets \\\n",
    "                        .groupBy(\"user\", \"RT_by\") \\\n",
    "                        .agg(sum(\"RT_times\").alias(\"count_RT\"), count(\"*\").alias(\"count_distinct_RT\"))\n"
   ]
  },
  {
   "cell_type": "markdown",
   "metadata": {},
   "source": [
    "## GraphFrames\n",
    "\n",
    "Esta api es utilizada para el manejo de grafos, ya que esta facilita \n",
    "el uso de los datos cuando no tenemos los datos almacenados en \n",
    "tablas.\n",
    "\n",
    "* Utiliza la interface Spark SQL (Dataframes).\n",
    "* Creada por [Databricks](https://databricks.com/).\n",
    "* Por ahora no viene en la distribución estandard de Spark (solo [GraphX](http://spark.apache.org/graphx/) sobre RDD's).\n",
    "* Algoritmos ya implementados como: \n",
    "    - Breadth-first search (BFS)\n",
    "    - Componentes (fuertemente) conexas\n",
    "    - Label Propagation Algorithm (para detectar comunidades)\n",
    "    - PageRank\n",
    "    - Shortest paths\n",
    "    - Triangle count.\n",
    "* **Agregación de mensajes** para hacer algoritmos.\n",
    "* **Motif finding** para queries. \n",
    "\n",
    "### Documentación De `Graphframes`:\n",
    "\n",
    "* [User Guide](https://graphframes.github.io/graphframes/docs/_site/user-guide.html).\n",
    "* [User Guide - Python](https://docs.databricks.com/spark/latest/graph-analysis/graphframes/user-guide-python.html).\n",
    "* [Documentación de la API](https://graphframes.github.io/graphframes/docs/_site/api/python/index.html).\n",
    "\n",
    "Tambine permite la conexion con diferentes fuentes, en las que se incluye base de datos para grafos."
   ]
  },
  {
   "cell_type": "markdown",
   "metadata": {},
   "source": [
    "### Creación de grafo\n",
    "Existen diferentes formas de almacenar grafos en tablas\n",
    "\n",
    "* Se crean a partir de `DataFrame` de aristas y/o vértices.\n",
    "  - Diferentes nodos en diferentes diferentes particiones (Edge Cut) \n",
    "    El problema es que pasar los datos de nodos a tablas, existe \n",
    "    redundacia de los datos. Las aristas puede estar almacenadas\n",
    "    de forma repetida.\n",
    "  - Spark almacena usando Vertex Cut, Almacena por aristas, \n",
    "    Si hay vertices que tienen distintas aristas a distintos nodos\n",
    "    se repite ese vertice. \n",
    "    > Ejm. Imagen el vertice central de almacena 3 veces.\n",
    "* DataFrame de aristas debe tener las columnas `src` y `dst` (por lo menos).\n",
    "  - Alamcena por defecto grafos dirigidos\n",
    "* DataFrame de vértices debe tener la columna `id` (por lo menos).\n",
    "  - Idetificador del Nodo.\n",
    "* Los grafos son dirigidos.\n",
    "* Se almacenan con redundancia (vertex cut):\n",
    "  ![](http://spark.apache.org/docs/latest/img/edge_cut_vs_vertex_cut.png)\n",
    "  \n",
    "La informacion extra relacionada con la conexion o con el nodo, se \n",
    "almacena en columas extra."
   ]
  },
  {
   "cell_type": "markdown",
   "metadata": {},
   "source": [
    "### Ejemplo:\n",
    "\n",
    "* Para los vertices es obligatorio tener la columna `id`\n",
    "* para las aristas es obligatorio `src` `dst`"
   ]
  },
  {
   "cell_type": "code",
   "execution_count": 8,
   "metadata": {},
   "outputs": [],
   "source": [
    "from graphframes import *\n",
    "\n",
    "# DataFrame de vértices\n",
    "v = spark.createDataFrame([\n",
    "  (\"a\", \"Alice\", 34),\n",
    "  (\"b\", \"Bob\", 36),\n",
    "  (\"c\", \"Charlie\", 30),\n",
    "  (\"d\", \"David\", 29),\n",
    "  (\"e\", \"Esther\", 32),\n",
    "  (\"f\", \"Fanny\", 36),\n",
    "  (\"g\", \"Gabby\", 60)\n",
    "],[\"id\", \"name\", \"age\"])\n",
    "\n",
    "# DataFrame de aristas\n",
    "e = spark.createDataFrame([\n",
    "  (\"a\", \"b\", \"amigo\"),\n",
    "  (\"b\", \"c\", \"sigue\"),\n",
    "  (\"c\", \"b\", \"sigue\"),\n",
    "  (\"f\", \"c\", \"sigue\"),\n",
    "  (\"e\", \"f\", \"sigue\"),\n",
    "  (\"e\", \"d\", \"amigo\"),\n",
    "  (\"d\", \"a\", \"amigo\"),\n",
    "  (\"a\", \"e\", \"amigo\"),\n",
    "  (\"a\", \"h\", \"amigo\")\n",
    "], [\"src\", \"dst\", \"relationship\"])\n",
    "\n",
    "# Creacion de GraphFrame\n",
    "g = GraphFrame(v, e)"
   ]
  },
  {
   "cell_type": "code",
   "execution_count": 9,
   "metadata": {},
   "outputs": [
    {
     "name": "stdout",
     "output_type": "stream",
     "text": [
      "+---+-------+---+\n",
      "| id|   name|age|\n",
      "+---+-------+---+\n",
      "|  a|  Alice| 34|\n",
      "|  b|    Bob| 36|\n",
      "|  c|Charlie| 30|\n",
      "|  d|  David| 29|\n",
      "|  e| Esther| 32|\n",
      "|  f|  Fanny| 36|\n",
      "|  g|  Gabby| 60|\n",
      "+---+-------+---+\n",
      "\n"
     ]
    }
   ],
   "source": [
    "g.vertices.show()"
   ]
  },
  {
   "cell_type": "code",
   "execution_count": 10,
   "metadata": {},
   "outputs": [
    {
     "name": "stdout",
     "output_type": "stream",
     "text": [
      "+---+---+------------+\n",
      "|src|dst|relationship|\n",
      "+---+---+------------+\n",
      "|  a|  b|       amigo|\n",
      "|  b|  c|       sigue|\n",
      "|  c|  b|       sigue|\n",
      "|  f|  c|       sigue|\n",
      "|  e|  f|       sigue|\n",
      "|  e|  d|       amigo|\n",
      "|  d|  a|       amigo|\n",
      "|  a|  e|       amigo|\n",
      "|  a|  h|       amigo|\n",
      "+---+---+------------+\n",
      "\n"
     ]
    }
   ],
   "source": [
    "g.edges.show()"
   ]
  },
  {
   "cell_type": "markdown",
   "metadata": {},
   "source": [
    "`inDegrees` cuantas aristas llegan a cada uno de los vertices."
   ]
  },
  {
   "cell_type": "code",
   "execution_count": 11,
   "metadata": {},
   "outputs": [
    {
     "name": "stdout",
     "output_type": "stream",
     "text": [
      "+---+--------+\n",
      "| id|inDegree|\n",
      "+---+--------+\n",
      "|  f|       1|\n",
      "|  e|       1|\n",
      "|  h|       1|\n",
      "|  d|       1|\n",
      "|  c|       2|\n",
      "|  b|       2|\n",
      "|  a|       1|\n",
      "+---+--------+\n",
      "\n"
     ]
    }
   ],
   "source": [
    "g.inDegrees.show()"
   ]
  },
  {
   "cell_type": "code",
   "execution_count": 12,
   "metadata": {},
   "outputs": [
    {
     "name": "stdout",
     "output_type": "stream",
     "text": [
      "Cantidad de amistades: 5\n"
     ]
    }
   ],
   "source": [
    "# Query: Count the number of \"follow\" connections in the graph.\n",
    "\n",
    "print(\"Cantidad de amistades:\", \n",
    "        g.edges.filter(\"relationship = 'amigo'\").count())"
   ]
  },
  {
   "cell_type": "markdown",
   "metadata": {},
   "source": [
    "#### PageRank\n",
    "\n",
    "Algorimo de Google, Que simula como los usuaros navegan de pagina en \n",
    "pagina, siguiendo links.\n",
    "\n",
    "Es un proceso iterativo, en donde cada pagina tiene un importancia\n",
    "incial pagina, y en cada iteracion un pagina transmite su importancia\n",
    "a otras paginas.\n",
    "\n",
    "En cada iteracion se va cambiando la importancia de cada nodo, hasta \n",
    "que el algorimo converge, y dando como resultado la importancia de\n",
    "cada pagina."
   ]
  },
  {
   "cell_type": "code",
   "execution_count": 13,
   "metadata": {},
   "outputs": [
    {
     "name": "stdout",
     "output_type": "stream",
     "text": [
      "+---+--------------------+\n",
      "| id|            pagerank|\n",
      "+---+--------------------+\n",
      "|  g|0.011647254575707162|\n",
      "|  b|  3.6199424699159937|\n",
      "|  e| 0.03848486478566412|\n",
      "|  a| 0.05421739436354941|\n",
      "|  f|  0.0347707909956736|\n",
      "|  d|  0.0347707909956736|\n",
      "|  c|   3.206166434367738|\n",
      "+---+--------------------+\n",
      "\n"
     ]
    }
   ],
   "source": [
    "# Run PageRank algorithm, and show results.\n",
    "results = g.pageRank(resetProbability=0.01, maxIter=10)\n",
    "\n",
    "results.vertices.select(\"id\", \"pagerank\").show()"
   ]
  },
  {
   "cell_type": "markdown",
   "metadata": {},
   "source": [
    "#### Cambios para visualizar con Guepi\n",
    "\n",
    "`coalese(1)`, es para guardar los arhivos como una sola parte\n",
    "ya que spark siempre almacena los files por partes.\n"
   ]
  },
  {
   "cell_type": "code",
   "execution_count": 14,
   "metadata": {},
   "outputs": [
    {
     "name": "stdout",
     "output_type": "stream",
     "text": [
      "root\n",
      " |-- src: string (nullable = true)\n",
      " |-- dst: string (nullable = true)\n",
      " |-- relationship: string (nullable = true)\n",
      "\n"
     ]
    }
   ],
   "source": [
    "from pyspark.sql.functions import col\n",
    "\n",
    "g.edges.printSchema()\n",
    "\n",
    "g.edges \\\n",
    "        .select(col(\"src\").alias(\"Source\"), \n",
    "                col(\"dst\").alias(\"Target\"), \n",
    "                \"relationship\") \\\n",
    "        .coalesce(1) \\\n",
    "        .write \\\n",
    "        .csv(\"../outputs/g_edges.csv\", mode=\"overwrite\", header=True)\n",
    "# Ver que pasa sin coalesce"
   ]
  },
  {
   "cell_type": "markdown",
   "metadata": {},
   "source": [
    "#### Show using gepi\n",
    "<img src=\"../docs/grafo_1.png\" alt=\"Drawing\" style=\"width:60%;\"/>"
   ]
  },
  {
   "cell_type": "markdown",
   "metadata": {},
   "source": [
    "### Volvamos a los tweets\n",
    "#### Hay que renombrar las conexiones de tweeter:"
   ]
  },
  {
   "cell_type": "code",
   "execution_count": 15,
   "metadata": {},
   "outputs": [
    {
     "name": "stdout",
     "output_type": "stream",
     "text": [
      "+---------------+--------------+--------+-----------------+\n",
      "|            src|           dst|count_RT|count_distinct_RT|\n",
      "+---------------+--------------+--------+-----------------+\n",
      "|     WolffWaldo| xenia43sailor|      69|                1|\n",
      "|  atlanticsurff|     paulobeni|       8|                1|\n",
      "|Ruben_Rischmann|PPperonoelsapo|      23|                1|\n",
      "|     WolffWaldo|    MariePes72|      14|                1|\n",
      "|   romerodiario|     RcaRawson|       4|                1|\n",
      "|     pablen2012|  NattyJuliAle|       4|                1|\n",
      "|MaestroPortenio|  samuelevyARG|      14|                1|\n",
      "|   LaAlfareraOk|    aka_Mister|      33|                1|\n",
      "|    ertenembaum|        fertso|       4|                1|\n",
      "| BrujaUniversal|        O_Fer_|       6|                1|\n",
      "+---------------+--------------+--------+-----------------+\n",
      "\n"
     ]
    }
   ],
   "source": [
    "from pyspark.sql.functions import col\n",
    "\n",
    "edgesDF = twitterConnections \\\n",
    "    .select(col(\"user\").alias(\"src\"), \n",
    "            col(\"RT_by\").alias(\"dst\"),\n",
    "            \"count_RT\", \"count_distinct_RT\")\n",
    "                                       \n",
    "edgesDF.limit(10).show()"
   ]
  },
  {
   "cell_type": "markdown",
   "metadata": {},
   "source": [
    "#### Hay que crear el DF de vértices\n",
    "generar un dataframe solamente con los usuarios."
   ]
  },
  {
   "cell_type": "code",
   "execution_count": 16,
   "metadata": {},
   "outputs": [
    {
     "name": "stdout",
     "output_type": "stream",
     "text": [
      "+---------------+\n",
      "|             id|\n",
      "+---------------+\n",
      "|     ElGorilaje|\n",
      "|   flordecaribe|\n",
      "|          l_p_o|\n",
      "|     Piru_laura|\n",
      "| budano_ignacio|\n",
      "|   RepettoLidia|\n",
      "|    LilianaTren|\n",
      "| defensoria_bol|\n",
      "|   MIGUE67MIGUE|\n",
      "|carlito60322427|\n",
      "+---------------+\n",
      "\n"
     ]
    }
   ],
   "source": [
    "srcs = edgesDF.select(col(\"src\").alias(\"id\"))\n",
    "\n",
    "dsts = edgesDF.select(col(\"dst\").alias(\"id\"))\n",
    "    \n",
    "vertexDF = srcs.unionAll(dsts).distinct()\n",
    "\n",
    "vertexDF.limit(10).show()"
   ]
  },
  {
   "cell_type": "markdown",
   "metadata": {},
   "source": [
    "#### Creación de GraphFrame:\n",
    "Los grae frame tambien se puede almancenar en memoria"
   ]
  },
  {
   "cell_type": "code",
   "execution_count": 17,
   "metadata": {},
   "outputs": [],
   "source": [
    "graph = GraphFrame(vertexDF, edgesDF).cache()"
   ]
  },
  {
   "cell_type": "markdown",
   "metadata": {},
   "source": [
    "### Operaciones básicas sobre grafos\n",
    "\n",
    "#### A continuación veremos como calcular: \n",
    "* la cantidad de vértices (usuarios)\n",
    "* la cantidad de arístas (conexiones)\n",
    "* el grado de cada vértice (cantidad de conexiones por usuario)\n",
    "\n",
    "#### Tamaño del grafo"
   ]
  },
  {
   "cell_type": "code",
   "execution_count": 18,
   "metadata": {},
   "outputs": [
    {
     "name": "stdout",
     "output_type": "stream",
     "text": [
      "Cantidad de nodos: 57138\n",
      "Cantidad de conecciones:  152613\n"
     ]
    }
   ],
   "source": [
    "verticesCount = graph.vertices.count()\n",
    "print(\"Cantidad de nodos:\", verticesCount)\n",
    "\n",
    "edgesCount = graph.edges.count()\n",
    "print(\"Cantidad de conecciones: \", edgesCount)"
   ]
  },
  {
   "cell_type": "markdown",
   "metadata": {},
   "source": [
    "#### Cantidad de conecciones por usuario\n",
    "Se obtiene usando el atributo `degree`. \n",
    "\n",
    "Esto me da una idea de la importancia de cada nodo. Esto una importancia local, de acuerdo a la cantidad de conexiones.\n",
    "\n",
    "Un proximo paso sera analizar la calidad de las conexiones."
   ]
  },
  {
   "cell_type": "code",
   "execution_count": 19,
   "metadata": {},
   "outputs": [
    {
     "name": "stdout",
     "output_type": "stream",
     "text": [
      "+---------------+------+\n",
      "|             id|degree|\n",
      "+---------------+------+\n",
      "|Winston_Dunhill|  2325|\n",
      "|fernandocarnota|  1745|\n",
      "|   santosjorgeh|  1657|\n",
      "|lanatoparatodos|  1529|\n",
      "|  JorgeFavaloro|  1483|\n",
      "|    RobiBaradel|  1483|\n",
      "|     elcoya1977|  1471|\n",
      "|   eldestapeweb|  1441|\n",
      "| lucaslauriente|  1422|\n",
      "|     betovaldez|  1407|\n",
      "+---------------+------+\n",
      "\n"
     ]
    }
   ],
   "source": [
    "nodesDegree = graph.degrees\n",
    "\n",
    "sortedByDegree = nodesDegree.orderBy(\"degree\", ascending=False)\n",
    "\n",
    "sortedByDegree.limit(10).show()"
   ]
  },
  {
   "cell_type": "markdown",
   "metadata": {},
   "source": [
    "## Agregación de Mensajes\n",
    "---\n",
    "### Influencia Colectiva\n",
    "Me da importancia del usuario viendo sus conexiones y las conexiones \n",
    "de sus conexiones.\n",
    "\n",
    "#### Aplicaciones: \n",
    "* Marketing viral (influencia de opinión)\n",
    "* Detección de focos de dispersión de enfermedades\n",
    "* ...\n",
    "\n",
    "#### Cómo funciona:\n",
    "* Primero se calcula la **Influencia Colectiva (CI)**\n",
    "  - rank segun cantida de conexiones y segun las conexiones de las \n",
    "    conexiones.\n",
    "* En cada iteración elimina del grafo el nodo de mayor CI y recalcula el CI de los nodos restantes.\n",
    "  - Saco de la red al usuario mas importante.\n",
    "* Termina cuando la componente gigante se destruye\n",
    "* Solución básica: \\\\(O(N2)\\\\). Optimizada: \\\\(O(NlogN)\\\\)\n",
    "\n",
    "> Influence maximization in complex networks through optimal percolation” (Flaviano Morone, Hernán A. Makse, 27 Jun 2015) https://arxiv.org/abs/1506.08326\n",
    "\n",
    "Cuando la red se divide en partes, todos los usuarios que saque son \n",
    "los mas importantes, por lo tanto son los objetivos para viralizar un \n",
    "contenido."
   ]
  },
  {
   "cell_type": "markdown",
   "metadata": {},
   "source": [
    "### Fórmula de CI\n",
    "\n",
    "La formula de collective influence para un vértice \\\\(i\\\\) es:\n",
    "\n",
    "$$ CI(i) = (degree_i -  1) \\times \\sum\\limits_{j \\in vecinos(i)} (degree_j -  1)$$\n",
    "\n",
    "Se supone un grafo **no dirigido**.\n",
    "\n",
    "Es decir, degree, es el la cantidad de aristas de entrada y salida \n",
    "menos uno multiplicado por los grados menos 1 de todos los vecinos que \n",
    "estan al rededor.\n",
    "\n",
    "### Pasos para calcular collective influence son:\n",
    "\n",
    "* agregar el grado (degree) de cada nodo al grafo.\n",
    "* importar `AggregateMessages`.\n",
    "* calcular collective influence de cada individuo usando `AggregateMessages` de `GraphFrame`\n",
    "* ordenar los individuos por su collective influence de mayor a menor\n",
    "* imprimir el listado de individuos\n",
    "\n",
    "\n",
    "#### Documentación para implementar con GraphFrames:\n",
    "\n",
    "* Documentación sobre [AggregateMessages](https://graphframes.github.io/graphframes/docs/_site/user-guide.html#message-passing-via-aggregatemessages) con ejemplo.\n",
    "* Documentación de [API AggregateMessages](https://graphframes.github.io/graphframes/docs/_site/api/python/graphframes.html).\n"
   ]
  },
  {
   "cell_type": "markdown",
   "metadata": {},
   "source": [
    "Cree un nuevo grafo usando los nodos con su degree disponible en nodesDegree y las aristas originales\n",
    "\n",
    "Aristas y vértices están bien particionadas"
   ]
  },
  {
   "cell_type": "code",
   "execution_count": 20,
   "metadata": {},
   "outputs": [],
   "source": [
    "from pyspark.sql.functions import sum\n",
    "from graphframes.lib import AggregateMessages as AM\n",
    "\n",
    "#Cree un nuevo grafo usando los nodos con su degree disponible en nodesDegree y las aristas originales\n",
    "degreeGraph = GraphFrame(nodesDegree, graph.edges )\n",
    "# Aristas y vértices están bien particionadas"
   ]
  },
  {
   "cell_type": "markdown",
   "metadata": {},
   "source": [
    "Comenzamos a calcular CI: Por cada nodo calcula la sumatoria del degree-1 de sus vecinos.\n",
    "\n",
    "> Lo que hago es generar mensajes, cada nodo va a enviar a sus\n",
    "vecionos cual es el grado el tiene. Esto tanto para conexiones\n",
    "entrantes como para conexiones salientes.\n",
    "\n",
    "> Despues cada nodo recibe ese mensaje y hace algo con esos mensaje.\n"
   ]
  },
  {
   "cell_type": "code",
   "execution_count": 21,
   "metadata": {},
   "outputs": [],
   "source": [
    "msgToSrc = AM.dst[\"degree\"] - 1\n",
    "msgToDst = AM.src[\"degree\"] - 1"
   ]
  },
  {
   "cell_type": "markdown",
   "metadata": {},
   "source": [
    "Luego defino la operacion de agregacion sobre los mensajes\n",
    "\n",
    "El DataFrame sumNeighborDegrees debe tener 2 columnas: \n",
    "* `id` identficador del nodo\n",
    "* `sum_neighbor_degree` la suma de los grados menos 1 de los vecions"
   ]
  },
  {
   "cell_type": "code",
   "execution_count": 22,
   "metadata": {},
   "outputs": [],
   "source": [
    "sumNeighborDegrees = degreeGraph.aggregateMessages(\n",
    "    sum(AM.msg).alias(\"sum_neighbor_degree\"), # Hacer aggregation sobre el valor de AM.msg\n",
    "    sendToSrc=msgToSrc, #  send destination user's age to source\n",
    "    sendToDst=msgToDst) # send source user's age to destination"
   ]
  },
  {
   "cell_type": "markdown",
   "metadata": {},
   "source": [
    "Join de sumNeighborDegrees con degrees para tener todas las columnas necesarias para calcular CI.\n",
    "\n",
    "> Se hace el join  para multiplicar mi grado con la sumatoria de los grados de los vecinos. Entonces tengo en una columa mi grado y entra la suma de los grados de los vecions.\n"
   ]
  },
  {
   "cell_type": "code",
   "execution_count": 23,
   "metadata": {},
   "outputs": [],
   "source": [
    "nodesDegreeJoin = nodesDegree.join(sumNeighborDegrees,\"id\")"
   ]
  },
  {
   "cell_type": "markdown",
   "metadata": {},
   "source": [
    "Calculamos CI: para terminar de calcularlo debemos multiplicar la sumatoria del paso anterior por degree - 1 de cada nodo.\n",
    "El DataFrame collectiveInfluence debe tener 2 columnas: id, ci y degree\n",
    "\n",
    "Por ultimo ordena descendentemente por ci "
   ]
  },
  {
   "cell_type": "code",
   "execution_count": 24,
   "metadata": {},
   "outputs": [
    {
     "name": "stdout",
     "output_type": "stream",
     "text": [
      "+--------+---------------+------+\n",
      "|      ci|             id|degree|\n",
      "+--------+---------------+------+\n",
      "|71551312|Winston_Dunhill|  2325|\n",
      "|57822552|   santosjorgeh|  1657|\n",
      "|55026688|fernandocarnota|  1745|\n",
      "|45848634|  JorgeFavaloro|  1483|\n",
      "|42052088|lanatoparatodos|  1529|\n",
      "|37856910|     elcoya1977|  1471|\n",
      "|33925374|     betovaldez|  1407|\n",
      "|31175045|     LaBelgrana|   606|\n",
      "|30129480|        fargosi|  1271|\n",
      "|29494764|    RobiBaradel|  1483|\n",
      "|27043120|         copi__|  1041|\n",
      "|23379462|      NunkMasKs|  1027|\n",
      "|18770024| ConCiencia2015|   533|\n",
      "|17316472|     WolffWaldo|   812|\n",
      "|16165470|      HugoYasky|   987|\n",
      "|15975882|   mis2centavos|  1020|\n",
      "|15693120|   eldestapeweb|  1441|\n",
      "|15118908|Carlos_AD_Viola|   533|\n",
      "|14284499|          CTAok|   830|\n",
      "|14149350|  EdgardoRovira|  1176|\n",
      "+--------+---------------+------+\n",
      "\n"
     ]
    }
   ],
   "source": [
    "collectiveInfluence = nodesDegreeJoin \\\n",
    "                          .select( ((col(\"degree\") - 1) * col(\"sum_neighbor_degree\")).alias(\"ci\"), \n",
    "                                    \"id\", \n",
    "                                    \"degree\") \\\n",
    "                          .orderBy(\"ci\", ascending=False) \\\n",
    "                          .cache()\n",
    "\n",
    "collectiveInfluence.limit(20).show()"
   ]
  },
  {
   "cell_type": "markdown",
   "metadata": {},
   "source": [
    "Para el caso de `LaBelgrana` por mas que no tenga tantas conexiones\n",
    "estas conexiones son importantes."
   ]
  },
  {
   "cell_type": "markdown",
   "metadata": {},
   "source": [
    "## Motif Finding\n",
    "\n",
    "* Es un Domain-Specific Language (DSL) para expresar queries.\n",
    "* La unidad básica es la expresión de una arista\n",
    "\n",
    "### Nomesclatura\n",
    " * `()` nodos\n",
    " * `[]` aristas\n",
    " * `-->` arista dirigida \n",
    "\n",
    "### Ejemplos\n",
    "\n",
    "* `graph.find(\"(a)-[e]->(b); (b)-[e2]->(a)\")` expresa vértices unidos en ambas direcciones.\n",
    "    - Devuelve un DataFrame con columnas `\"a\"`, `\"b\"`, `\"e\"` y `\"e2\"`.\n",
    "* `graph.find(\"(a)-[e]->(b); (b)-[e2]->(c)\")` expresa dos aristas pegadas con un vértice común `b`. \n",
    "\n",
    "### Documentacion y ejemplo\n",
    "\n",
    "* [GraphFrame User Guide](https://graphframes.github.io/graphframes/docs/_site/user-guide.html#motif-finding).\n",
    "\n",
    "devolver las aristas en ambas direcciones"
   ]
  },
  {
   "cell_type": "code",
   "execution_count": 25,
   "metadata": {},
   "outputs": [
    {
     "name": "stdout",
     "output_type": "stream",
     "text": [
      "+----------------+-------------+----------------+-------------+\n",
      "|               a|            e|               b|           e2|\n",
      "+----------------+-------------+----------------+-------------+\n",
      "|[c, Charlie, 30]|[c, b, sigue]|    [b, Bob, 36]|[b, c, sigue]|\n",
      "|    [b, Bob, 36]|[b, c, sigue]|[c, Charlie, 30]|[c, b, sigue]|\n",
      "+----------------+-------------+----------------+-------------+\n",
      "\n"
     ]
    }
   ],
   "source": [
    "g.find(\"(a)-[e]->(b); (b)-[e2]->(a)\").show()"
   ]
  },
  {
   "cell_type": "markdown",
   "metadata": {},
   "source": [
    "Buscar pares de vértices en ambas direccione:"
   ]
  },
  {
   "cell_type": "code",
   "execution_count": 26,
   "metadata": {},
   "outputs": [
    {
     "name": "stdout",
     "output_type": "stream",
     "text": [
      "root\n",
      " |-- a: struct (nullable = false)\n",
      " |    |-- id: string (nullable = true)\n",
      " |    |-- name: string (nullable = true)\n",
      " |    |-- age: long (nullable = true)\n",
      " |-- e1: struct (nullable = false)\n",
      " |    |-- src: string (nullable = true)\n",
      " |    |-- dst: string (nullable = true)\n",
      " |    |-- relationship: string (nullable = true)\n",
      " |-- b: struct (nullable = false)\n",
      " |    |-- id: string (nullable = true)\n",
      " |    |-- name: string (nullable = true)\n",
      " |    |-- age: long (nullable = true)\n",
      " |-- e2: struct (nullable = false)\n",
      " |    |-- src: string (nullable = true)\n",
      " |    |-- dst: string (nullable = true)\n",
      " |    |-- relationship: string (nullable = true)\n",
      "\n"
     ]
    }
   ],
   "source": [
    "motifs = g.find(\"(a)-[e1]->(b); (b)-[e2]->(a)\")\n",
    "\n",
    "motifs.printSchema()"
   ]
  },
  {
   "cell_type": "code",
   "execution_count": 27,
   "metadata": {},
   "outputs": [
    {
     "name": "stdout",
     "output_type": "stream",
     "text": [
      "+----------------+-------------+----------------+-------------+\n",
      "|               a|           e1|               b|           e2|\n",
      "+----------------+-------------+----------------+-------------+\n",
      "|[c, Charlie, 30]|[c, b, sigue]|    [b, Bob, 36]|[b, c, sigue]|\n",
      "|    [b, Bob, 36]|[b, c, sigue]|[c, Charlie, 30]|[c, b, sigue]|\n",
      "+----------------+-------------+----------------+-------------+\n",
      "\n"
     ]
    }
   ],
   "source": [
    "motifs.show()"
   ]
  },
  {
   "cell_type": "markdown",
   "metadata": {},
   "source": [
    "Despues se pueden aplicar filtros para queries mas complejos."
   ]
  },
  {
   "cell_type": "code",
   "execution_count": 28,
   "metadata": {},
   "outputs": [
    {
     "name": "stdout",
     "output_type": "stream",
     "text": [
      "+----------------+-------------+------------+-------------+\n",
      "|               a|           e1|           b|           e2|\n",
      "+----------------+-------------+------------+-------------+\n",
      "|[c, Charlie, 30]|[c, b, sigue]|[b, Bob, 36]|[b, c, sigue]|\n",
      "+----------------+-------------+------------+-------------+\n",
      "\n"
     ]
    }
   ],
   "source": [
    "motifs.filter(\"b.age > 30\").show()"
   ]
  },
  {
   "cell_type": "markdown",
   "metadata": {},
   "source": [
    "## Visualización\n",
    "\n",
    "A continuación visualizaremos con [Gephi](https://gephi.org/) la parte del grafo (subgrafo) que contiene los mayores influencers.\n",
    "\n",
    "Para ello generaremos archivos *csv* como entrada de esta herramienta "
   ]
  },
  {
   "cell_type": "code",
   "execution_count": 29,
   "metadata": {},
   "outputs": [
    {
     "name": "stdout",
     "output_type": "stream",
     "text": [
      "Cantidad de top influencers: 35\n",
      "root\n",
      " |-- a: struct (nullable = false)\n",
      " |    |-- ci: long (nullable = true)\n",
      " |    |-- id: string (nullable = true)\n",
      " |    |-- degree: integer (nullable = false)\n",
      " |-- e: struct (nullable = false)\n",
      " |    |-- src: string (nullable = true)\n",
      " |    |-- dst: string (nullable = true)\n",
      " |    |-- count_RT: long (nullable = true)\n",
      " |    |-- count_distinct_RT: long (nullable = false)\n",
      " |-- b: struct (nullable = false)\n",
      " |    |-- ci: long (nullable = true)\n",
      " |    |-- id: string (nullable = true)\n",
      " |    |-- degree: integer (nullable = false)\n",
      "\n"
     ]
    }
   ],
   "source": [
    "minCI = 29000000\n",
    "minDegree = 600\n",
    "\n",
    "# tomo los usarios con mayor influencia o con más conecciones\n",
    "ciTops = collectiveInfluence \\\n",
    "    .filter((col(\"ci\") >= minCI) | (col(\"degree\") >= minDegree))\n",
    "\n",
    "gInfluencers = GraphFrame(ciTops, graph.edges)\n",
    "\n",
    "# Tomo solo las aristas que tengan vértices\n",
    "veTops = gInfluencers.find(\"(a)-[e]->(b)\") \\\n",
    "                .cache()\n",
    "      \n",
    "                \n",
    "print(\"Cantidad de top influencers:\", veTops.count())\n",
    "\n",
    "veTops.printSchema()"
   ]
  },
  {
   "cell_type": "code",
   "execution_count": 30,
   "metadata": {},
   "outputs": [
    {
     "name": "stdout",
     "output_type": "stream",
     "text": [
      "root\n",
      " |-- src: string (nullable = true)\n",
      " |-- dst: string (nullable = true)\n",
      " |-- count_RT: long (nullable = true)\n",
      " |-- count_distinct_RT: long (nullable = false)\n",
      "\n"
     ]
    },
    {
     "data": {
      "text/html": [
       "<div>\n",
       "<style scoped>\n",
       "    .dataframe tbody tr th:only-of-type {\n",
       "        vertical-align: middle;\n",
       "    }\n",
       "\n",
       "    .dataframe tbody tr th {\n",
       "        vertical-align: top;\n",
       "    }\n",
       "\n",
       "    .dataframe thead th {\n",
       "        text-align: right;\n",
       "    }\n",
       "</style>\n",
       "<table border=\"1\" class=\"dataframe\">\n",
       "  <thead>\n",
       "    <tr style=\"text-align: right;\">\n",
       "      <th></th>\n",
       "      <th>ci</th>\n",
       "      <th>id</th>\n",
       "      <th>degree</th>\n",
       "      <th>Label</th>\n",
       "    </tr>\n",
       "  </thead>\n",
       "  <tbody>\n",
       "    <tr>\n",
       "      <th>0</th>\n",
       "      <td>71551312</td>\n",
       "      <td>Winston_Dunhill</td>\n",
       "      <td>2325</td>\n",
       "      <td>Winston_Dunhill</td>\n",
       "    </tr>\n",
       "    <tr>\n",
       "      <th>1</th>\n",
       "      <td>57822552</td>\n",
       "      <td>santosjorgeh</td>\n",
       "      <td>1657</td>\n",
       "      <td>santosjorgeh</td>\n",
       "    </tr>\n",
       "    <tr>\n",
       "      <th>2</th>\n",
       "      <td>55026688</td>\n",
       "      <td>fernandocarnota</td>\n",
       "      <td>1745</td>\n",
       "      <td>fernandocarnota</td>\n",
       "    </tr>\n",
       "    <tr>\n",
       "      <th>3</th>\n",
       "      <td>45848634</td>\n",
       "      <td>JorgeFavaloro</td>\n",
       "      <td>1483</td>\n",
       "      <td>JorgeFavaloro</td>\n",
       "    </tr>\n",
       "    <tr>\n",
       "      <th>4</th>\n",
       "      <td>42052088</td>\n",
       "      <td>lanatoparatodos</td>\n",
       "      <td>1529</td>\n",
       "      <td>lanatoparatodos</td>\n",
       "    </tr>\n",
       "    <tr>\n",
       "      <th>5</th>\n",
       "      <td>37856910</td>\n",
       "      <td>elcoya1977</td>\n",
       "      <td>1471</td>\n",
       "      <td>elcoya1977</td>\n",
       "    </tr>\n",
       "    <tr>\n",
       "      <th>6</th>\n",
       "      <td>33925374</td>\n",
       "      <td>betovaldez</td>\n",
       "      <td>1407</td>\n",
       "      <td>betovaldez</td>\n",
       "    </tr>\n",
       "    <tr>\n",
       "      <th>7</th>\n",
       "      <td>31175045</td>\n",
       "      <td>LaBelgrana</td>\n",
       "      <td>606</td>\n",
       "      <td>LaBelgrana</td>\n",
       "    </tr>\n",
       "    <tr>\n",
       "      <th>8</th>\n",
       "      <td>30129480</td>\n",
       "      <td>fargosi</td>\n",
       "      <td>1271</td>\n",
       "      <td>fargosi</td>\n",
       "    </tr>\n",
       "    <tr>\n",
       "      <th>9</th>\n",
       "      <td>29494764</td>\n",
       "      <td>RobiBaradel</td>\n",
       "      <td>1483</td>\n",
       "      <td>RobiBaradel</td>\n",
       "    </tr>\n",
       "  </tbody>\n",
       "</table>\n",
       "</div>"
      ],
      "text/plain": [
       "         ci               id  degree            Label\n",
       "0  71551312  Winston_Dunhill    2325  Winston_Dunhill\n",
       "1  57822552     santosjorgeh    1657     santosjorgeh\n",
       "2  55026688  fernandocarnota    1745  fernandocarnota\n",
       "3  45848634    JorgeFavaloro    1483    JorgeFavaloro\n",
       "4  42052088  lanatoparatodos    1529  lanatoparatodos\n",
       "5  37856910       elcoya1977    1471       elcoya1977\n",
       "6  33925374       betovaldez    1407       betovaldez\n",
       "7  31175045       LaBelgrana     606       LaBelgrana\n",
       "8  30129480          fargosi    1271          fargosi\n",
       "9  29494764      RobiBaradel    1483      RobiBaradel"
      ]
     },
     "execution_count": 30,
     "metadata": {},
     "output_type": "execute_result"
    }
   ],
   "source": [
    "eTops = veTops.select(\"e.*\")\n",
    "\n",
    "eTops.printSchema()\n",
    "\n",
    "# Grafo de los tops\n",
    "gTops = GraphFrame(ciTops, eTops)\n",
    "\n",
    "\n",
    "# guardo un csv con los vertices para Gephi \n",
    "gTopsInf = gTops.vertices \\\n",
    "        .select(\"*\", col(\"id\").alias(\"Label\"))\n",
    "\n",
    "gTopsInf.limit(10).toPandas()"
   ]
  },
  {
   "cell_type": "code",
   "execution_count": 31,
   "metadata": {},
   "outputs": [],
   "source": [
    "# guardo un csv con los vertices para Gephi \n",
    "gTopsInf.coalesce(1) \\\n",
    "        .write \\\n",
    "        .csv(\"../outputs/top_influencers.csv\", mode=\"overwrite\", header=True)"
   ]
  },
  {
   "cell_type": "code",
   "execution_count": 32,
   "metadata": {},
   "outputs": [
    {
     "data": {
      "text/html": [
       "<div>\n",
       "<style scoped>\n",
       "    .dataframe tbody tr th:only-of-type {\n",
       "        vertical-align: middle;\n",
       "    }\n",
       "\n",
       "    .dataframe tbody tr th {\n",
       "        vertical-align: top;\n",
       "    }\n",
       "\n",
       "    .dataframe thead th {\n",
       "        text-align: right;\n",
       "    }\n",
       "</style>\n",
       "<table border=\"1\" class=\"dataframe\">\n",
       "  <thead>\n",
       "    <tr style=\"text-align: right;\">\n",
       "      <th></th>\n",
       "      <th>Source</th>\n",
       "      <th>Target</th>\n",
       "      <th>count_RT</th>\n",
       "      <th>count_distinct_RT</th>\n",
       "    </tr>\n",
       "  </thead>\n",
       "  <tbody>\n",
       "    <tr>\n",
       "      <th>0</th>\n",
       "      <td>todonoticias</td>\n",
       "      <td>LaBelgrana</td>\n",
       "      <td>170</td>\n",
       "      <td>1</td>\n",
       "    </tr>\n",
       "    <tr>\n",
       "      <th>1</th>\n",
       "      <td>Winston_Dunhill</td>\n",
       "      <td>LaBelgrana</td>\n",
       "      <td>340</td>\n",
       "      <td>2</td>\n",
       "    </tr>\n",
       "    <tr>\n",
       "      <th>2</th>\n",
       "      <td>betovaldez</td>\n",
       "      <td>LaBelgrana</td>\n",
       "      <td>510</td>\n",
       "      <td>3</td>\n",
       "    </tr>\n",
       "    <tr>\n",
       "      <th>3</th>\n",
       "      <td>fargosi</td>\n",
       "      <td>LaBelgrana</td>\n",
       "      <td>170</td>\n",
       "      <td>1</td>\n",
       "    </tr>\n",
       "    <tr>\n",
       "      <th>4</th>\n",
       "      <td>WolffWaldo</td>\n",
       "      <td>WolffWaldo</td>\n",
       "      <td>35</td>\n",
       "      <td>5</td>\n",
       "    </tr>\n",
       "    <tr>\n",
       "      <th>5</th>\n",
       "      <td>JonatanViale</td>\n",
       "      <td>LaBelgrana</td>\n",
       "      <td>170</td>\n",
       "      <td>1</td>\n",
       "    </tr>\n",
       "    <tr>\n",
       "      <th>6</th>\n",
       "      <td>HugoYasky</td>\n",
       "      <td>FernandezAnibal</td>\n",
       "      <td>13</td>\n",
       "      <td>1</td>\n",
       "    </tr>\n",
       "    <tr>\n",
       "      <th>7</th>\n",
       "      <td>fernandocarnota</td>\n",
       "      <td>LaBelgrana</td>\n",
       "      <td>170</td>\n",
       "      <td>1</td>\n",
       "    </tr>\n",
       "    <tr>\n",
       "      <th>8</th>\n",
       "      <td>CTAok</td>\n",
       "      <td>CasaRosadaAR</td>\n",
       "      <td>36</td>\n",
       "      <td>2</td>\n",
       "    </tr>\n",
       "    <tr>\n",
       "      <th>9</th>\n",
       "      <td>NunkMasKs</td>\n",
       "      <td>LaBelgrana</td>\n",
       "      <td>170</td>\n",
       "      <td>1</td>\n",
       "    </tr>\n",
       "  </tbody>\n",
       "</table>\n",
       "</div>"
      ],
      "text/plain": [
       "            Source           Target  count_RT  count_distinct_RT\n",
       "0     todonoticias       LaBelgrana       170                  1\n",
       "1  Winston_Dunhill       LaBelgrana       340                  2\n",
       "2       betovaldez       LaBelgrana       510                  3\n",
       "3          fargosi       LaBelgrana       170                  1\n",
       "4       WolffWaldo       WolffWaldo        35                  5\n",
       "5     JonatanViale       LaBelgrana       170                  1\n",
       "6        HugoYasky  FernandezAnibal        13                  1\n",
       "7  fernandocarnota       LaBelgrana       170                  1\n",
       "8            CTAok     CasaRosadaAR        36                  2\n",
       "9        NunkMasKs       LaBelgrana       170                  1"
      ]
     },
     "execution_count": 32,
     "metadata": {},
     "output_type": "execute_result"
    }
   ],
   "source": [
    "# guardo un csv con las aristas para Gephi\n",
    "gTopsEdg = gTops.edges \\\n",
    "        .select(col(\"src\").alias(\"Source\"), \n",
    "                col(\"dst\").alias(\"Target\"), \n",
    "                \"count_RT\",\"count_distinct_RT\")\n",
    "gTopsEdg.limit(10).toPandas()"
   ]
  },
  {
   "cell_type": "code",
   "execution_count": 33,
   "metadata": {},
   "outputs": [],
   "source": [
    "# guardo un csv con las aristas para Gephi\n",
    "gTopsEdg.coalesce(1) \\\n",
    "        .write \\\n",
    "        .csv(\"../outputs/top_edges.csv\", mode=\"overwrite\", header=True)"
   ]
  },
  {
   "cell_type": "markdown",
   "metadata": {},
   "source": [
    "#### Visualizacion\n",
    "\n",
    "<img src=\"../docs/grafo_2.png\" alt=\"Drawing\" style=\"width:50%;\"/>\n",
    "\n",
    "Aqui se puede observar que la belgrana tiene un degree bajo\n",
    "pero tiene un ci alto debido a las conexiones sus conexiones."
   ]
  },
  {
   "cell_type": "markdown",
   "metadata": {},
   "source": [
    "### Gephi\n",
    "\n",
    "Lanzar el programa desde una terminal ejecutando:\n",
    "\n",
    "```sh\n",
    "cd\n",
    "spark/gephi-0.9.2/bin/gephi\n",
    "```\n",
    "\n",
    "Seguir las instrucciones del profesor."
   ]
  },
  {
   "cell_type": "markdown",
   "metadata": {},
   "source": [
    "### Ejercicio\n",
    "\n",
    "Complete el siguiente programa para calcular el grafo de todas las posibles conexiones a los 5 mayores influenciadores y graficar el resultado con Gephi. \n",
    "\n",
    "#### Ayuda\n",
    "* Busque en la documentación [Api Datasets](http://spark.apache.org/docs/latest/api/scala/index.html#org.apache.spark.sql.Dataset) algún método que devuelva las *n* primeras files de un Dataset equivalente a la directiva SQL `LIMIT`. \n",
    "* Para llenar el comando `find` busque la documentación de [Motif finding](https://graphframes.github.io/graphframes/docs/_site/user-guide.html#motif-finding)."
   ]
  },
  {
   "cell_type": "code",
   "execution_count": 34,
   "metadata": {},
   "outputs": [
    {
     "data": {
      "text/plain": [
       "['Winston_Dunhill',\n",
       " 'santosjorgeh',\n",
       " 'fernandocarnota',\n",
       " 'JorgeFavaloro',\n",
       " 'lanatoparatodos']"
      ]
     },
     "execution_count": 34,
     "metadata": {},
     "output_type": "execute_result"
    }
   ],
   "source": [
    "fiveInfluence = [(row['id']) for row in collectiveInfluence.limit(5).collect()]\n",
    "fiveInfluence"
   ]
  },
  {
   "cell_type": "code",
   "execution_count": 35,
   "metadata": {},
   "outputs": [
    {
     "name": "stdout",
     "output_type": "stream",
     "text": [
      "+---------------+---------------+--------+-----------------+\n",
      "|            src|            dst|count_RT|count_distinct_RT|\n",
      "+---------------+---------------+--------+-----------------+\n",
      "|        au9beat|  JorgeFavaloro|      79|                1|\n",
      "| RODRIGOSOLER64|  JorgeFavaloro|      79|                1|\n",
      "|      Pitinardy|  JorgeFavaloro|      79|                1|\n",
      "|KTEPASACALABAZA|  JorgeFavaloro|      79|                1|\n",
      "|   santosjorgeh|  JorgeFavaloro|      79|                1|\n",
      "|       Andy4500|   santosjorgeh|      30|                1|\n",
      "|       LAZZUBIA|   santosjorgeh|      30|                1|\n",
      "|     vatica2015|   santosjorgeh|      30|                1|\n",
      "|        infobae|fernandocarnota|      12|                1|\n",
      "|Lauramoreiras52|   santosjorgeh|      30|                1|\n",
      "|fernandocarnota|fernandocarnota|      24|                2|\n",
      "|   edgyportenio|  JorgeFavaloro|      79|                1|\n",
      "+---------------+---------------+--------+-----------------+\n",
      "\n"
     ]
    }
   ],
   "source": [
    "edgesFive = edgesDF.filter(\n",
    "    col(\"dst\").isin(fiveInfluence)\n",
    ")\n",
    "edgesFive.show()"
   ]
  },
  {
   "cell_type": "code",
   "execution_count": 36,
   "metadata": {},
   "outputs": [
    {
     "name": "stdout",
     "output_type": "stream",
     "text": [
      "+---------------+\n",
      "|             id|\n",
      "+---------------+\n",
      "|KTEPASACALABAZA|\n",
      "|     vatica2015|\n",
      "|Lauramoreiras52|\n",
      "|Winston_Dunhill|\n",
      "|       LAZZUBIA|\n",
      "|        infobae|\n",
      "|fernandocarnota|\n",
      "|  JorgeFavaloro|\n",
      "|lanatoparatodos|\n",
      "|      Pitinardy|\n",
      "|   edgyportenio|\n",
      "| RODRIGOSOLER64|\n",
      "|       Andy4500|\n",
      "|   santosjorgeh|\n",
      "|        au9beat|\n",
      "+---------------+\n",
      "\n"
     ]
    }
   ],
   "source": [
    "srcFive = edgesFive.select(col(\"src\").alias(\"id\"))\n",
    "vertexFive = srcFive.unionAll(collectiveInfluence.select(\"id\").limit(5)).distinct()\n",
    "vertexFive.show()"
   ]
  },
  {
   "cell_type": "code",
   "execution_count": 37,
   "metadata": {},
   "outputs": [
    {
     "name": "stdout",
     "output_type": "stream",
     "text": [
      "+--------+---------------+------+\n",
      "|      ci|             id|degree|\n",
      "+--------+---------------+------+\n",
      "|71551312|Winston_Dunhill|  2325|\n",
      "|57822552|   santosjorgeh|  1657|\n",
      "|55026688|fernandocarnota|  1745|\n",
      "|45848634|  JorgeFavaloro|  1483|\n",
      "|42052088|lanatoparatodos|  1529|\n",
      "| 9260920|        infobae|   681|\n",
      "| 6188952|     vatica2015|   198|\n",
      "| 2967154|       Andy4500|   114|\n",
      "|  979336|   edgyportenio|    69|\n",
      "|  969651|KTEPASACALABAZA|    82|\n",
      "|  635629|        au9beat|    54|\n",
      "|  442060|Lauramoreiras52|    47|\n",
      "|  439988|       LAZZUBIA|    59|\n",
      "|  259653| RODRIGOSOLER64|    42|\n",
      "|   37791|      Pitinardy|    18|\n",
      "+--------+---------------+------+\n",
      "\n"
     ]
    }
   ],
   "source": [
    "veFive = collectiveInfluence.filter(\n",
    "    col(\"id\").isin([(row['id']) for row in vertexFive.collect()])\n",
    ")\n",
    "veFive.show()"
   ]
  },
  {
   "cell_type": "code",
   "execution_count": 38,
   "metadata": {},
   "outputs": [],
   "source": [
    "veFive.coalesce(1) \\\n",
    "        .write \\\n",
    "        .csv(\"../outputs/five_vertex.csv\", mode=\"overwrite\", header=True)\n",
    "\n",
    "edgesFive.select(\n",
    "    col(\"src\").alias(\"Source\"), \n",
    "    col(\"dst\").alias(\"Target\"), \n",
    "    \"count_RT\",\"count_distinct_RT\")\\\n",
    "        .coalesce(1) \\\n",
    "        .write \\\n",
    "        .csv(\"../outputs/five_edges.csv\", mode=\"overwrite\", header=True)"
   ]
  },
  {
   "cell_type": "markdown",
   "metadata": {},
   "source": [
    "### Visualizacion\n",
    "<img src=\"../docs/grafo_3.png\" alt=\"Drawing\" style=\"width:60%;\"/>\n"
   ]
  },
  {
   "cell_type": "markdown",
   "metadata": {},
   "source": [
    "### Ejercicio\n",
    "\n",
    "0. Tomar el grafo de tweets y crear un dataframe con todas las aristas y vértices que forman triángulos dirigidos. O sea, todos los casos donde un usuario *A* retuitea a *B* que retuitea a *C* que retuitea a *A*.\n",
    "\n",
    "0. Hay casos donde los tres usuarios sean distintos?\n",
    "\n",
    "0. Graficar con Gephi el resultado."
   ]
  },
  {
   "cell_type": "code",
   "execution_count": 39,
   "metadata": {},
   "outputs": [
    {
     "name": "stdout",
     "output_type": "stream",
     "text": [
      "+-----------------+--------------------+-----------------+--------------------+-----------------+--------------------+\n",
      "|                a|                  ab|                b|                  bc|                c|                  ca|\n",
      "+-----------------+--------------------+-----------------+--------------------+-----------------+--------------------+\n",
      "|    [dccolectivo]|[dccolectivo, jud...|          [judrh]|[judrh, mamibel09...|      [mamibel09]|[mamibel09, dccol...|\n",
      "|     [agapearg51]|[agapearg51, Gabr...|[GabrielaMasista]|[GabrielaMasista,...|[adrianapellaca1]|[adrianapellaca1,...|\n",
      "|   [rodolfoCeniz]|[rodolfoCeniz, Ru...|      [RuthPizzi]|[RuthPizzi, Pablo...|    [PabloMGener]|[PabloMGener, rod...|\n",
      "|  [SandraDocente]|[SandraDocente, C...|    [C_Echegoyen]|[C_Echegoyen, Rip...|  [RipamontiRita]|[RipamontiRita, S...|\n",
      "|  [donofriojorge]|[donofriojorge, w...|[waltervazquez21]|[waltervazquez21,...|     [GurtzDario]|[GurtzDario, dono...|\n",
      "|  [donofriojorge]|[donofriojorge, w...|[waltervazquez21]|[waltervazquez21,...|[Florenc32693350]|[Florenc32693350,...|\n",
      "|       [lizzieyn]|[lizzieyn, ConCie...| [ConCiencia2015]|[ConCiencia2015, ...|     [LaBelgrana]|[LaBelgrana, lizz...|\n",
      "|[Carlos_AD_Viola]|[Carlos_AD_Viola,...| [PatriciaConti9]|[PatriciaConti9, ...|[lilifinochietta]|[lilifinochietta,...|\n",
      "|[ajfernandez2001]|[ajfernandez2001,...|   [interinosMAD]|[interinosMAD, Ju...|  [JuanaSinarco3]|[JuanaSinarco3, a...|\n",
      "|[ajfernandez2001]|[ajfernandez2001,...|   [interinosMAD]|[interinosMAD, Ac...| [AccesojustoNAD]|[AccesojustoNAD, ...|\n",
      "|[ajfernandez2001]|[ajfernandez2001,...|   [interinosMAD]|[interinosMAD, Ma...|[MargaMachnJimne]|[MargaMachnJimne,...|\n",
      "|[ajfernandez2001]|[ajfernandez2001,...|   [interinosMAD]|[interinosMAD, sa...|  [sariogallardo]|[sariogallardo, a...|\n",
      "|  [kiwiportuario]|[kiwiportuario, M...|[MartaLiliaRiva1]|[MartaLiliaRiva1,...|       [normymdq]|[normymdq, kiwipo...|\n",
      "|  [Laura_Capurro]|[Laura_Capurro, J...|  [Jennifer_Fari]|[Jennifer_Fari, M...|[Mariel_UdocbaSN]|[Mariel_UdocbaSN,...|\n",
      "|         [PTSarg]|[PTSarg, mavirgin...|[mavirginiagomez]|[mavirginiagomez,...| [NicolasdelCano]|[NicolasdelCano, ...|\n",
      "|         [PTSarg]|[PTSarg, mavirgin...|[mavirginiagomez]|[mavirginiagomez,...|     [LiluzLisam]|[LiluzLisam, PTSa...|\n",
      "|         [PTSarg]|[PTSarg, mavirgin...|[mavirginiagomez]|[mavirginiagomez,...|[payasobarricada]|[payasobarricada,...|\n",
      "|         [PTSarg]|[PTSarg, mavirgin...|[mavirginiagomez]|[mavirginiagomez,...|  [Fte_Izquierda]|[Fte_Izquierda, P...|\n",
      "|         [PTSarg]|[PTSarg, mavirgin...|[mavirginiagomez]|[mavirginiagomez,...|  [chipicastillo]|[chipicastillo, P...|\n",
      "|    [maraluz2015]|[maraluz2015, tap...|    [tapetolomei]|[tapetolomei, mar...|[marianavogler10]|[marianavogler10,...|\n",
      "+-----------------+--------------------+-----------------+--------------------+-----------------+--------------------+\n",
      "\n"
     ]
    }
   ],
   "source": [
    "triangles = graph.find(\n",
    "    \"(a)-[ab]->(b); (b)-[bc]->(c); (c)-[ca]->(a)\")\n",
    "\n",
    "triangles = triangles.filter(\n",
    "    (col(\"a\") != col(\"b\")) &\n",
    "    (col(\"c\") != col(\"b\")) &\n",
    "    (col(\"a\") != col(\"c\")))\n",
    "# limito a 20\n",
    "triangles = triangles.limit(20)\n",
    "triangles.show()"
   ]
  },
  {
   "cell_type": "code",
   "execution_count": 40,
   "metadata": {},
   "outputs": [
    {
     "data": {
      "text/html": [
       "<div>\n",
       "<style scoped>\n",
       "    .dataframe tbody tr th:only-of-type {\n",
       "        vertical-align: middle;\n",
       "    }\n",
       "\n",
       "    .dataframe tbody tr th {\n",
       "        vertical-align: top;\n",
       "    }\n",
       "\n",
       "    .dataframe thead th {\n",
       "        text-align: right;\n",
       "    }\n",
       "</style>\n",
       "<table border=\"1\" class=\"dataframe\">\n",
       "  <thead>\n",
       "    <tr style=\"text-align: right;\">\n",
       "      <th></th>\n",
       "      <th>src</th>\n",
       "      <th>dst</th>\n",
       "      <th>count_RT</th>\n",
       "      <th>count_distinct_RT</th>\n",
       "    </tr>\n",
       "  </thead>\n",
       "  <tbody>\n",
       "    <tr>\n",
       "      <th>0</th>\n",
       "      <td>dccolectivo</td>\n",
       "      <td>judrh</td>\n",
       "      <td>2</td>\n",
       "      <td>1</td>\n",
       "    </tr>\n",
       "    <tr>\n",
       "      <th>1</th>\n",
       "      <td>agapearg51</td>\n",
       "      <td>GabrielaMasista</td>\n",
       "      <td>58</td>\n",
       "      <td>1</td>\n",
       "    </tr>\n",
       "    <tr>\n",
       "      <th>2</th>\n",
       "      <td>rodolfoCeniz</td>\n",
       "      <td>RuthPizzi</td>\n",
       "      <td>5</td>\n",
       "      <td>1</td>\n",
       "    </tr>\n",
       "    <tr>\n",
       "      <th>3</th>\n",
       "      <td>SandraDocente</td>\n",
       "      <td>C_Echegoyen</td>\n",
       "      <td>108</td>\n",
       "      <td>3</td>\n",
       "    </tr>\n",
       "    <tr>\n",
       "      <th>4</th>\n",
       "      <td>donofriojorge</td>\n",
       "      <td>waltervazquez21</td>\n",
       "      <td>18</td>\n",
       "      <td>3</td>\n",
       "    </tr>\n",
       "    <tr>\n",
       "      <th>5</th>\n",
       "      <td>donofriojorge</td>\n",
       "      <td>waltervazquez21</td>\n",
       "      <td>18</td>\n",
       "      <td>3</td>\n",
       "    </tr>\n",
       "    <tr>\n",
       "      <th>6</th>\n",
       "      <td>lizzieyn</td>\n",
       "      <td>ConCiencia2015</td>\n",
       "      <td>76</td>\n",
       "      <td>1</td>\n",
       "    </tr>\n",
       "    <tr>\n",
       "      <th>7</th>\n",
       "      <td>Carlos_AD_Viola</td>\n",
       "      <td>PatriciaConti9</td>\n",
       "      <td>36</td>\n",
       "      <td>1</td>\n",
       "    </tr>\n",
       "    <tr>\n",
       "      <th>8</th>\n",
       "      <td>ajfernandez2001</td>\n",
       "      <td>interinosMAD</td>\n",
       "      <td>52</td>\n",
       "      <td>4</td>\n",
       "    </tr>\n",
       "    <tr>\n",
       "      <th>9</th>\n",
       "      <td>ajfernandez2001</td>\n",
       "      <td>interinosMAD</td>\n",
       "      <td>52</td>\n",
       "      <td>4</td>\n",
       "    </tr>\n",
       "  </tbody>\n",
       "</table>\n",
       "</div>"
      ],
      "text/plain": [
       "               src              dst  count_RT  count_distinct_RT\n",
       "0      dccolectivo            judrh         2                  1\n",
       "1       agapearg51  GabrielaMasista        58                  1\n",
       "2     rodolfoCeniz        RuthPizzi         5                  1\n",
       "3    SandraDocente      C_Echegoyen       108                  3\n",
       "4    donofriojorge  waltervazquez21        18                  3\n",
       "5    donofriojorge  waltervazquez21        18                  3\n",
       "6         lizzieyn   ConCiencia2015        76                  1\n",
       "7  Carlos_AD_Viola   PatriciaConti9        36                  1\n",
       "8  ajfernandez2001     interinosMAD        52                  4\n",
       "9  ajfernandez2001     interinosMAD        52                  4"
      ]
     },
     "execution_count": 40,
     "metadata": {},
     "output_type": "execute_result"
    }
   ],
   "source": [
    "triEdges = triangles.select(\"ab.*\")\n",
    "triEdges = triEdges.unionAll(triangles.select(\"bc.*\"))\n",
    "triEdges = triEdges.unionAll(triangles.select(\"ca.*\"))\n",
    "\n",
    "triEdges.limit(10).toPandas()"
   ]
  },
  {
   "cell_type": "code",
   "execution_count": 41,
   "metadata": {},
   "outputs": [
    {
     "name": "stdout",
     "output_type": "stream",
     "text": [
      "+---------------+\n",
      "|             id|\n",
      "+---------------+\n",
      "|payasobarricada|\n",
      "|  Laura_Capurro|\n",
      "| AccesojustoNAD|\n",
      "|     LaBelgrana|\n",
      "|    dccolectivo|\n",
      "|     LiluzLisam|\n",
      "|     agapearg51|\n",
      "|    C_Echegoyen|\n",
      "|  Fte_Izquierda|\n",
      "|     GurtzDario|\n",
      "+---------------+\n",
      "\n"
     ]
    }
   ],
   "source": [
    "srcs = triEdges.select(col(\"src\").alias(\"id\"))\n",
    "\n",
    "dsts = triEdges.select(col(\"dst\").alias(\"id\"))\n",
    "    \n",
    "triVertex = srcs.unionAll(dsts).distinct()\n",
    "\n",
    "triVertex.limit(10).show()"
   ]
  },
  {
   "cell_type": "code",
   "execution_count": 42,
   "metadata": {},
   "outputs": [],
   "source": [
    "triVertex.select(\"*\")\\\n",
    "        .coalesce(1) \\\n",
    "        .write \\\n",
    "        .csv(\"../outputs/tri_vertex.csv\", mode=\"overwrite\", header=True)\n",
    "\n",
    "triEdges.select(\n",
    "    col(\"src\").alias(\"Source\"), \n",
    "    col(\"dst\").alias(\"Target\"), \n",
    "    \"count_RT\",\"count_distinct_RT\")\\\n",
    "        .coalesce(1) \\\n",
    "        .write \\\n",
    "        .csv(\"../outputs/tri_edges.csv\", mode=\"overwrite\", header=True)"
   ]
  },
  {
   "cell_type": "markdown",
   "metadata": {},
   "source": [
    "### Visualizacion\n",
    "\n",
    "<img src=\"../docs/grafo_4.png\" alt=\"Drawing\" style=\"width:50%;\"/>"
   ]
  },
  {
   "cell_type": "markdown",
   "metadata": {},
   "source": [
    "Fin"
   ]
  }
 ],
 "metadata": {
  "kernelspec": {
   "display_name": "Python 3",
   "language": "python",
   "name": "python3"
  },
  "language_info": {
   "codemirror_mode": {
    "name": "ipython",
    "version": 3
   },
   "file_extension": ".py",
   "mimetype": "text/x-python",
   "name": "python",
   "nbconvert_exporter": "python",
   "pygments_lexer": "ipython3",
   "version": "3.6.12"
  }
 },
 "nbformat": 4,
 "nbformat_minor": 4
}
