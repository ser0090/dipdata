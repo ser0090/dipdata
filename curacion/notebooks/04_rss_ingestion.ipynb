{
 "cells": [
  {
   "cell_type": "markdown",
   "metadata": {
    "colab_type": "text",
    "id": "5zxI7DKSSD6c"
   },
   "source": [
    "# SSS - RSS Ingestion\n",
    "\n",
    "*Super simple script (SSS) on getting data from a RSS feed*\n",
    "\n"
   ]
  },
  {
   "cell_type": "markdown",
   "metadata": {
    "colab_type": "text",
    "id": "ccAaJNjNeGGl"
   },
   "source": [
    "## Import the libraries\n",
    "---"
   ]
  },
  {
   "cell_type": "code",
   "execution_count": 1,
   "metadata": {
    "colab": {
     "base_uri": "https://localhost:8080/",
     "height": 69
    },
    "colab_type": "code",
    "id": "-20tW-SuSWDG",
    "outputId": "ddb3b0d0-de8c-499e-8707-05a0c35a38d4"
   },
   "outputs": [
    {
     "name": "stdout",
     "output_type": "stream",
     "text": [
      "Collecting bs4\n",
      "  Downloading https://files.pythonhosted.org/packages/10/ed/7e8b97591f6f456174139ec089c769f89a94a1a4025fe967691de971f314/bs4-0.0.1.tar.gz\n",
      "Collecting beautifulsoup4 (from bs4)\n",
      "\u001b[?25l  Downloading https://files.pythonhosted.org/packages/66/25/ff030e2437265616a1e9b25ccc864e0371a0bc3adb7c5a404fd661c6f4f6/beautifulsoup4-4.9.1-py3-none-any.whl (115kB)\n",
      "\u001b[K     |████████████████████████████████| 122kB 1.0MB/s eta 0:00:01\n",
      "\u001b[?25hCollecting soupsieve>1.2 (from beautifulsoup4->bs4)\n",
      "  Downloading https://files.pythonhosted.org/packages/6f/8f/457f4a5390eeae1cc3aeab89deb7724c965be841ffca6cfca9197482e470/soupsieve-2.0.1-py3-none-any.whl\n",
      "Installing collected packages: soupsieve, beautifulsoup4, bs4\n",
      "  Running setup.py install for bs4 ... \u001b[?25ldone\n",
      "\u001b[?25hSuccessfully installed beautifulsoup4-4.9.1 bs4-0.0.1 soupsieve-2.0.1\n",
      "\u001b[33mWARNING: You are using pip version 19.2.3, however version 20.1.1 is available.\n",
      "You should consider upgrading via the 'pip install --upgrade pip' command.\u001b[0m\n",
      "Requirement already satisfied: feedparser in /home/sergio/development/dipdata/curacion/cura/lib/python3.8/site-packages (5.2.1)\n",
      "\u001b[33mWARNING: You are using pip version 19.2.3, however version 20.1.1 is available.\n",
      "You should consider upgrading via the 'pip install --upgrade pip' command.\u001b[0m\n"
     ]
    }
   ],
   "source": [
    "import sys\n",
    "in_colab = 'google.colab' in sys.modules\n",
    "\n",
    "if 'bs4' not in sys.modules:\n",
    "    !pip install 'bs4'\n",
    "\n",
    "if 'feedparser' not in sys.modules:\n",
    "    !pip install 'feedparser'"
   ]
  },
  {
   "cell_type": "code",
   "execution_count": 2,
   "metadata": {
    "colab": {},
    "colab_type": "code",
    "id": "SJC_HIDaSD6w"
   },
   "outputs": [],
   "source": [
    "import os\n",
    "import bs4\n",
    "import feedparser\n",
    "from slugify import slugify"
   ]
  },
  {
   "cell_type": "markdown",
   "metadata": {
    "colab_type": "text",
    "id": "7dXi4rXeSD7H"
   },
   "source": [
    "## Set the source - the rss feed you would like to get data from\n",
    "---"
   ]
  },
  {
   "cell_type": "code",
   "execution_count": 3,
   "metadata": {
    "colab": {
     "base_uri": "https://localhost:8080/",
     "height": 34
    },
    "colab_type": "code",
    "id": "-aEDpielSD7K",
    "outputId": "f36db7b4-a68a-44bb-dbff-f2492bf6d8d1"
   },
   "outputs": [
    {
     "data": {
      "text/plain": [
       "1"
      ]
     },
     "execution_count": 3,
     "metadata": {},
     "output_type": "execute_result"
    }
   ],
   "source": [
    "feeds = ['https://www.lavoz.com.ar/rss/tecnologia.xml']\n",
    "len(feeds)"
   ]
  },
  {
   "cell_type": "markdown",
   "metadata": {
    "colab_type": "text",
    "id": "c46z2VIkSD7j"
   },
   "source": [
    "Get feeds from the first source above"
   ]
  },
  {
   "cell_type": "code",
   "execution_count": 4,
   "metadata": {
    "colab": {},
    "colab_type": "code",
    "id": "BC35m75LSD7o"
   },
   "outputs": [],
   "source": [
    "parsed = feedparser.parse(feeds[0])"
   ]
  },
  {
   "cell_type": "markdown",
   "metadata": {
    "colab_type": "text",
    "id": "dmbvFBNPSD7-"
   },
   "source": [
    "Breaks up the parsed rss feed into posts"
   ]
  },
  {
   "cell_type": "code",
   "execution_count": 5,
   "metadata": {
    "colab": {
     "base_uri": "https://localhost:8080/",
     "height": 34
    },
    "colab_type": "code",
    "id": "vK568GD1SD8D",
    "outputId": "336a8295-f40d-421f-a19f-efa9729796b0"
   },
   "outputs": [
    {
     "data": {
      "text/plain": [
       "30"
      ]
     },
     "execution_count": 5,
     "metadata": {},
     "output_type": "execute_result"
    }
   ],
   "source": [
    "posts = parsed.entries\n",
    "len(posts)"
   ]
  },
  {
   "cell_type": "markdown",
   "metadata": {
    "colab_type": "text",
    "id": "vWzpgzrZSD8a"
   },
   "source": [
    "Get the first post"
   ]
  },
  {
   "cell_type": "code",
   "execution_count": 6,
   "metadata": {
    "colab": {
     "base_uri": "https://localhost:8080/",
     "height": 536
    },
    "colab_type": "code",
    "id": "LeIh_Si6SD8d",
    "outputId": "5b770c88-26ee-4a41-957f-9036bebd09be"
   },
   "outputs": [
    {
     "data": {
      "text/plain": [
       "{'title': 'Hackearon las cuentas de Twitter de Obama, Biden y Gates',\n",
       " 'title_detail': {'type': 'text/plain',\n",
       "  'language': None,\n",
       "  'base': 'https://www.lavoz.com.ar/rss/tecnologia.xml',\n",
       "  'value': 'Hackearon las cuentas de Twitter de Obama, Biden y Gates'},\n",
       " 'links': [{'rel': 'alternate',\n",
       "   'type': 'text/html',\n",
       "   'href': 'https://www.lavoz.com.ar/tecnologia/hackearon-cuentas-de-twitter-de-obama-biden-y-gates'},\n",
       "  {'length': '0',\n",
       "   'type': 'image/jpg',\n",
       "   'href': 'https://cdn.lavoz.com.ar/sites/default/files/nota_periodistica/ObtenerFoto_1_1594853040.jpeg',\n",
       "   'rel': 'enclosure'}],\n",
       " 'link': 'https://www.lavoz.com.ar/tecnologia/hackearon-cuentas-de-twitter-de-obama-biden-y-gates',\n",
       " 'summary': 'Los magnates de la tecnología, figuras políticas y grandes empresas fueron víctimas de un aparente fraude con Bitcoins.\\n            Estafadores hackearon este miércoles las cuentas de Twitter de magnates de la tecnología, figuras políticas y grandes empresas en un aparente fraude con Bitcoin.',\n",
       " 'summary_detail': {'type': 'text/html',\n",
       "  'language': None,\n",
       "  'base': 'https://www.lavoz.com.ar/rss/tecnologia.xml',\n",
       "  'value': 'Los magnates de la tecnología, figuras políticas y grandes empresas fueron víctimas de un aparente fraude con Bitcoins.\\n            Estafadores hackearon este miércoles las cuentas de Twitter de magnates de la tecnología, figuras políticas y grandes empresas en un aparente fraude con Bitcoin.'},\n",
       " 'content': [{'type': 'text/html',\n",
       "   'language': None,\n",
       "   'base': 'https://www.lavoz.com.ar/rss/tecnologia.xml',\n",
       "   'value': '<p>Estafadores hackearon este miércoles las cuentas de Twitter de magnates de la tecnología, figuras políticas y grandes empresas en un aparente fraude con Bitcoin.</p>\\n            <p>La estafa incluyó tuits falsos de Barack Obama, Joe Biden, Mike Bloomberg y varios multimillonarios del sector tecnológico, como el director general de Amazon Jeff Bezos, el cofundador de Microsoft, Bill Gates, y el presidente de Tesla, Elon Musk. Las publicaciones ofrecían enviar 2.000 dólares por cada 1.000 dólares que fueran depositados en una dirección de bitcoin.</p>\\n            <p class=\"TextoDestacado\">Twitter emitió un comunicado en el que señaló que estaba al tanto de un “incidente de seguridad que afecta cuentas de Twitter”. La compañía informó que está investigando el hecho y que trabaja para solucionarlo, además de que prometió una actualización a la brevedad.</p>\\n            <p>Bezos, Gates y Musk se ubican entre las 10 personas más ricas del mundo y cuentan con decenas de millones de seguidores en Twitter.</p>\\n            <p>Los aparentes tuits falsos fueron borrados poco después.</p>\\n            <section class=\"type:slideshow\">\\n                <figure>\\n                    <img src=\"https://cdn.lavoz.com.ar/sites/default/files/nota_periodistica/ObtenerFoto_1_1594853040.jpeg\">\\n                    <figcaption>Barack Obama (AP).</figcaption>\\n                </figure>\\n            </section>'}],\n",
       " 'id': 'https://www.lavoz.com.ar/tecnologia/hackearon-cuentas-de-twitter-de-obama-biden-y-gates',\n",
       " 'guidislink': False,\n",
       " 'published': 'Wed, 15 Jul 2020 19:45:39 -0300',\n",
       " 'published_parsed': time.struct_time(tm_year=2020, tm_mon=7, tm_mday=15, tm_hour=22, tm_min=45, tm_sec=39, tm_wday=2, tm_yday=197, tm_isdst=0),\n",
       " 'authors': [{'name': 'LaVoz.com.ar | Tecnología'}],\n",
       " 'author': 'LaVoz.com.ar | Tecnología',\n",
       " 'author_detail': {'name': 'LaVoz.com.ar | Tecnología'}}"
      ]
     },
     "execution_count": 6,
     "metadata": {},
     "output_type": "execute_result"
    }
   ],
   "source": [
    "posts[0]"
   ]
  },
  {
   "cell_type": "markdown",
   "metadata": {
    "colab_type": "text",
    "id": "tOS496sdebZ3"
   },
   "source": [
    "## Títulos de artículos de Tecnología\n",
    "---"
   ]
  },
  {
   "cell_type": "code",
   "execution_count": 7,
   "metadata": {
    "colab": {
     "base_uri": "https://localhost:8080/",
     "height": 533
    },
    "colab_type": "code",
    "id": "ajFJ7UaxSD8t",
    "outputId": "71f12781-3cfc-42a6-f7e5-82cff7bfd6ec"
   },
   "outputs": [
    {
     "name": "stdout",
     "output_type": "stream",
     "text": [
      " 0 Hackearon las cuentas de Twitter de Obama, Biden y Gates\n",
      " 1 Facebook transmitirá videos musicales con licencia oficial a partir de agosto\n",
      " 2 Google Maps permite calibrar la ubicación del usuario con Live View\n",
      " 3 El nuevo diseño de Gmail integrará Chat, Rooms y Meet\n",
      " 4 Con el 5G aún en pañales, Samsung tiene fecha estimada para la llegada del 6G\n",
      " 5 Descubren una app de chat para Android que espía a los usuarios y roba sus datos\n",
      " 6 Venden un Súper Mario Bros de 1985 precintado por U$S 114.000 y se convierte en el juego más caro del mundo\n",
      " 7 Apple aconseja no usar protectores para tapar la webcam de los MacBook: qué alternativas propone\n",
      " 8 Un ratito más: la pulsera de Fitbit despertará a los usuarios \"en el mejor momento\"\n",
      " 9 ¿TikTok es divertido? El mundo lo ve como un asunto muy serio y con razón\n",
      "10 Instagram prohibirá publicidades de \"terapias de conversión\" para personas LGTB\n",
      "11 Microsoft toma el control de los dominios que usaban la Covid como anzuelo para estafas\n",
      "12 Microsoft Teams: ahora los que estén en una videollamada podrán verse \"uno al lado del otro\"\n",
      "13 Instagram permite fijar hasta tres comentarios en una publicación\n",
      "14 Google Maps empieza a mostrar los semáforos en Android\n",
      "15 TikTok se retirará en los próximos días de Hong Kong y EE.UU. estudia prohibir la red social china\n",
      "16 Sony ensambla su consola PlayStation 4 en 30 segundos a través de robots\n",
      "17 Sony lanza un 'wearable' para llevar aire acondicionado en la ropa\n",
      "18 Samsung creó una funda con \"recubrimiento antimicrobiano\" para smartphones y tablets\n",
      "19 Ubisoft lanza el juego marcado para ser un nuevo \"battle royal\", sólo que urbano y futurista\n",
      "20 El primer smartphone enrollable ya se está fabricando: LG se anota primero\n",
      "21 Este guante con sensores traduce la lengua de signos a voz en tiempo real\n",
      "22 Microsoft muestra el nuevo diseño del menú de Windows: fondo unificado y disponible en temas de color claro y oscuro\n",
      "23 Una campaña de 'malware' envía SMS falsos a usuarios de Android para robar datos\n",
      "24 Lo que se viene en WhatsApp: stickers animados, códigos QR y más\n",
      "25 Huawei y Samsung acaparan el mercado mundial de smartphones\n",
      "26 Duró poco: Facebook cierra Hobbi, su 'app' experimental similar a Pinterest\n",
      "27 Los altavoces portátiles Xboom Gode LG son resistentes al agua y traen una batería de hasta 24 horas\n",
      "28 Google Fotos desactiva la copia de seguridad y la sincronización con las carpetas de apps de mensajería como WhatsApp\n",
      "29 Facebook lanza una campaña de alfabetización mediática para ayudar a detectar noticias falsas\n"
     ]
    }
   ],
   "source": [
    "text = '{:>2} {}'\n",
    "for i in range(len(posts)):\n",
    "  print(text.format(i, posts[i].title))\n",
    "# end for"
   ]
  }
 ],
 "metadata": {
  "colab": {
   "collapsed_sections": [],
   "name": "RSS Ingestion.ipynb",
   "provenance": []
  },
  "kernelspec": {
   "display_name": "Python 3",
   "language": "python",
   "name": "python3"
  },
  "language_info": {
   "codemirror_mode": {
    "name": "ipython",
    "version": 3
   },
   "file_extension": ".py",
   "mimetype": "text/x-python",
   "name": "python",
   "nbconvert_exporter": "python",
   "pygments_lexer": "ipython3",
   "version": "3.8.3"
  }
 },
 "nbformat": 4,
 "nbformat_minor": 4
}
