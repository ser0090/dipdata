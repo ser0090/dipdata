{
 "cells": [
  {
   "cell_type": "markdown",
   "metadata": {
    "colab_type": "text",
    "id": "5zxI7DKSSD6c"
   },
   "source": [
    "# SSS - RSS Ingestion\n",
    "\n",
    "*Super simple script (SSS) on getting data from a RSS feed*\n",
    "\n"
   ]
  },
  {
   "cell_type": "markdown",
   "metadata": {
    "colab_type": "text",
    "id": "ccAaJNjNeGGl"
   },
   "source": [
    "## Import the libraries\n",
    "---"
   ]
  },
  {
   "cell_type": "code",
   "execution_count": 1,
   "metadata": {
    "colab": {
     "base_uri": "https://localhost:8080/",
     "height": 69
    },
    "colab_type": "code",
    "id": "-20tW-SuSWDG",
    "outputId": "ddb3b0d0-de8c-499e-8707-05a0c35a38d4"
   },
   "outputs": [
    {
     "name": "stdout",
     "output_type": "stream",
     "text": [
      "Requirement already satisfied: bs4 in /home/sergio/.cache/pypoetry/virtualenvs/curacion-68F3RafI-py3.8/lib/python3.8/site-packages (0.0.1)\n",
      "Requirement already satisfied: beautifulsoup4 in /home/sergio/.cache/pypoetry/virtualenvs/curacion-68F3RafI-py3.8/lib/python3.8/site-packages (from bs4) (4.9.3)\n",
      "Requirement already satisfied: soupsieve>1.2 in /home/sergio/.cache/pypoetry/virtualenvs/curacion-68F3RafI-py3.8/lib/python3.8/site-packages (from beautifulsoup4->bs4) (2.1)\n",
      "\u001b[33mWARNING: You are using pip version 20.3.1; however, version 20.3.3 is available.\n",
      "You should consider upgrading via the '/home/sergio/.cache/pypoetry/virtualenvs/curacion-68F3RafI-py3.8/bin/python -m pip install --upgrade pip' command.\u001b[0m\n",
      "Requirement already satisfied: feedparser in /home/sergio/.cache/pypoetry/virtualenvs/curacion-68F3RafI-py3.8/lib/python3.8/site-packages (6.0.2)\n",
      "Requirement already satisfied: sgmllib3k in /home/sergio/.cache/pypoetry/virtualenvs/curacion-68F3RafI-py3.8/lib/python3.8/site-packages (from feedparser) (1.0.0)\n",
      "\u001b[33mWARNING: You are using pip version 20.3.1; however, version 20.3.3 is available.\n",
      "You should consider upgrading via the '/home/sergio/.cache/pypoetry/virtualenvs/curacion-68F3RafI-py3.8/bin/python -m pip install --upgrade pip' command.\u001b[0m\n"
     ]
    }
   ],
   "source": [
    "import sys\n",
    "in_colab = 'google.colab' in sys.modules\n",
    "\n",
    "if 'bs4' not in sys.modules:\n",
    "    !pip install 'bs4'\n",
    "\n",
    "if 'feedparser' not in sys.modules:\n",
    "    !pip install 'feedparser'"
   ]
  },
  {
   "cell_type": "code",
   "execution_count": 2,
   "metadata": {
    "colab": {},
    "colab_type": "code",
    "id": "SJC_HIDaSD6w"
   },
   "outputs": [],
   "source": [
    "import os\n",
    "import bs4\n",
    "import feedparser\n",
    "from slugify import slugify"
   ]
  },
  {
   "cell_type": "markdown",
   "metadata": {
    "colab_type": "text",
    "id": "7dXi4rXeSD7H"
   },
   "source": [
    "## Set the source - the rss feed you would like to get data from\n",
    "---"
   ]
  },
  {
   "cell_type": "code",
   "execution_count": 3,
   "metadata": {
    "colab": {
     "base_uri": "https://localhost:8080/",
     "height": 34
    },
    "colab_type": "code",
    "id": "-aEDpielSD7K",
    "outputId": "f36db7b4-a68a-44bb-dbff-f2492bf6d8d1"
   },
   "outputs": [
    {
     "data": {
      "text/plain": [
       "1"
      ]
     },
     "execution_count": 3,
     "metadata": {},
     "output_type": "execute_result"
    }
   ],
   "source": [
    "feeds = ['https://www.lavoz.com.ar/rss/tecnologia.xml']\n",
    "len(feeds)"
   ]
  },
  {
   "cell_type": "markdown",
   "metadata": {
    "colab_type": "text",
    "id": "c46z2VIkSD7j"
   },
   "source": [
    "Get feeds from the first source above"
   ]
  },
  {
   "cell_type": "code",
   "execution_count": 4,
   "metadata": {
    "colab": {},
    "colab_type": "code",
    "id": "BC35m75LSD7o"
   },
   "outputs": [],
   "source": [
    "parsed = feedparser.parse(feeds[0])"
   ]
  },
  {
   "cell_type": "markdown",
   "metadata": {
    "colab_type": "text",
    "id": "dmbvFBNPSD7-"
   },
   "source": [
    "Breaks up the parsed rss feed into posts"
   ]
  },
  {
   "cell_type": "code",
   "execution_count": 5,
   "metadata": {
    "colab": {
     "base_uri": "https://localhost:8080/",
     "height": 34
    },
    "colab_type": "code",
    "id": "vK568GD1SD8D",
    "outputId": "336a8295-f40d-421f-a19f-efa9729796b0"
   },
   "outputs": [
    {
     "data": {
      "text/plain": [
       "30"
      ]
     },
     "execution_count": 5,
     "metadata": {},
     "output_type": "execute_result"
    }
   ],
   "source": [
    "posts = parsed.entries\n",
    "len(posts)"
   ]
  },
  {
   "cell_type": "markdown",
   "metadata": {
    "colab_type": "text",
    "id": "vWzpgzrZSD8a"
   },
   "source": [
    "Get the first post"
   ]
  },
  {
   "cell_type": "code",
   "execution_count": 6,
   "metadata": {
    "colab": {
     "base_uri": "https://localhost:8080/",
     "height": 536
    },
    "colab_type": "code",
    "id": "LeIh_Si6SD8d",
    "outputId": "5b770c88-26ee-4a41-957f-9036bebd09be"
   },
   "outputs": [
    {
     "data": {
      "text/plain": [
       "{'title': 'Samsung trabaja en su propio dispositivo rastreador de objetivos con Bluetooth',\n",
       " 'title_detail': {'type': 'text/plain',\n",
       "  'language': None,\n",
       "  'base': 'https://www.lavoz.com.ar/rss/tecnologia.xml',\n",
       "  'value': 'Samsung trabaja en su propio dispositivo rastreador de objetivos con Bluetooth'},\n",
       " 'links': [{'rel': 'alternate',\n",
       "   'type': 'text/html',\n",
       "   'href': 'https://www.lavoz.com.ar/tecnologia/samsung-trabaja-en-su-propio-dispositivo-rastreador-de-objetivos-con-bluetooth'},\n",
       "  {'length': '0',\n",
       "   'type': 'image/jpg',\n",
       "   'href': 'https://cdn.lavoz.com.ar/sites/default/files/nota_periodistica/samsung_1_1609152124.jpg',\n",
       "   'rel': 'enclosure'}],\n",
       " 'link': 'https://www.lavoz.com.ar/tecnologia/samsung-trabaja-en-su-propio-dispositivo-rastreador-de-objetivos-con-bluetooth',\n",
       " 'summary': 'Samsung está trabajando en su propio dispositivo rastreador, un componente que funciona mediante conectividad Bluetooth y que permite localizar los objetos donde se ha colocado, en caso de perderlos.',\n",
       " 'summary_detail': {'type': 'text/html',\n",
       "  'language': None,\n",
       "  'base': 'https://www.lavoz.com.ar/rss/tecnologia.xml',\n",
       "  'value': 'Samsung está trabajando en su propio dispositivo rastreador, un componente que funciona mediante conectividad Bluetooth y que permite localizar los objetos donde se ha colocado, en caso de perderlos.'},\n",
       " 'content': [{'type': 'text/html',\n",
       "   'language': None,\n",
       "   'base': 'https://www.lavoz.com.ar/rss/tecnologia.xml',\n",
       "   'value': '<p>Samsung está trabajando en su propio dispositivo rastreador, un componente que funciona mediante conectividad Bluetooth y que permite localizar los objetos donde se ha colocado, en caso de perderlos.</p>\\n            <p>El dispositivo rastreador, denominado Galaxy Smart Tag, ha aparecido en la aplicación SmartThings de Samsung, en la última versión de la apk, donde se muestran imágenes y un gif, como recogen en 91Mobiles.</p>\\n            <p>El dispositivo de Samsung tendría un diseño cuadrado con bordes redondeados, y un anillo en el centro, que podría alojar un botón para conectarlo con el \\'smartphone\\'. Contaría, además, con conectividad Bluetooth 5.1.</p>\\n            <p>Galaxy Smart Tag, al igual que otros dispositivos rastreadores, permitiría localizar objetos como la cartera, las llaves o los auriculares en los que se hubiera enganchado, en caso de pérdida.</p>\\n            <p>Se espera que este elemento se presente junto con el próximo \\'smartphone\\' insignia de la compañía surcoreana, Galaxy S21, en enero.</p>\\n            <section class=\"type:slideshow\">\\n                <figure>\\n                    <img src=\"https://cdn.lavoz.com.ar/sites/default/files/nota_periodistica/samsung_1_1609152124.jpg\" />\\n                    <figcaption>samsung_1_1609152124.jpg</figcaption>\\n                </figure>\\n            </section>'}],\n",
       " 'id': 'https://www.lavoz.com.ar/tecnologia/samsung-trabaja-en-su-propio-dispositivo-rastreador-de-objetivos-con-bluetooth',\n",
       " 'guidislink': False,\n",
       " 'published': 'Mon, 28 Dec 2020 07:43:05 -0300',\n",
       " 'published_parsed': time.struct_time(tm_year=2020, tm_mon=12, tm_mday=28, tm_hour=10, tm_min=43, tm_sec=5, tm_wday=0, tm_yday=363, tm_isdst=0),\n",
       " 'authors': [{'name': 'LaVoz.com.ar | Tecnología'}],\n",
       " 'author': 'LaVoz.com.ar | Tecnología',\n",
       " 'author_detail': {'name': 'LaVoz.com.ar | Tecnología'}}"
      ]
     },
     "execution_count": 6,
     "metadata": {},
     "output_type": "execute_result"
    }
   ],
   "source": [
    "posts[0]"
   ]
  },
  {
   "cell_type": "markdown",
   "metadata": {
    "colab_type": "text",
    "id": "tOS496sdebZ3"
   },
   "source": [
    "## Títulos de artículos de Tecnología\n",
    "---"
   ]
  },
  {
   "cell_type": "code",
   "execution_count": 7,
   "metadata": {
    "colab": {
     "base_uri": "https://localhost:8080/",
     "height": 533
    },
    "colab_type": "code",
    "id": "ajFJ7UaxSD8t",
    "outputId": "71f12781-3cfc-42a6-f7e5-82cff7bfd6ec"
   },
   "outputs": [
    {
     "name": "stdout",
     "output_type": "stream",
     "text": [
      " 0 Samsung trabaja en su propio dispositivo rastreador de objetivos con Bluetooth\n",
      " 1 El precio del Bitcoin alcanzó un nuevo máximo de US$ 24.661\n",
      " 2 El comercio electrónico sumó más de 2 millones de nuevos usuarios en Argentina durante la pandemia\n",
      " 3 Qué buscan los ciberdelincuentes en los juegos online, un dato clave para proteger a los menores\n",
      " 4 Cómo usar los estados de WhatsApp para saludar por la Navidad\n",
      " 5 A hacer plata: Telegram empezará a monetizar el servicio el próximo año\n",
      " 6 En qué consiste el ciberataque que roba la cuenta de WhatsApp y cómo evitarlo\n",
      " 7 Twitter reseteará a 0 los seguidores del perfil de @potus con la llegada de Biden a la presidencia\n",
      " 8 Los productos para 'home office' y 'gaming' serán los regalos estrella de esta Navidad\n",
      " 9 iPhone 12 se convierte en el móvil 5G más vendido de octubre a nivel global\n",
      "10 Ciberespionaje en WhatsApp: ¿hackearon celulares de periodistas y activistas?\n",
      "11 Gobierno oficializó plan básico obligatorio para telecomunicaciones y aumentos entre 5% y 8%\n",
      "12 Twitter inicia las pruebas de Spaces, su función para comunicarse con mensajes de voz\n",
      "13 ¿Será cierto que el “home office” llegó para quedarse?\n",
      "14 Este robot humanoide simula el comportamiento de un niño en el dentista\n",
      "15 Desde 2021, Twitter identificará las cuentas de \"bots\"\n",
      "16 Confirmado: unos cables cruzados causaron la millonaria pérdida del satélite español Ingenio\n",
      "17 Nuevo récord para el bitcoin: cada unidad cuesta más de 3,5 millones de pesos\n",
      "18 Zoom elimina el límite de los 40 minutos en las videollamadas de cuentas gratuitas por Navidad\n",
      "19 Las empresas ya pueden añadir un botón de chat de WhatsApp a su perfil en Instagram\n",
      "20 TikTok refuerza sus políticas sobre el acoso, la intimidación y los retos peligrosos\n",
      "21 Twitter cerrará Periscope en marzo de 2021\n",
      "22 Gmail afectado nuevamente por problemas técnicos\n",
      "23 WhatsApp: qué modelos de celulares no tendrán más servicio en 2021\n",
      "24 EE.UU. ordena a Facebook, Twitter, TikTok, YouTube y WhatsApp que expliquen cómo tratan los datos privados de los usuarios\n",
      "25 Google explicó la razón por la que se cayeron globalmente sus servicios\n",
      "26 Qué es Collab de Facebook y para qué sirve\n",
      "27 YouTube, Gmail, Drive y otros servicios de Google sufrieron una caída a nivel mundial\n",
      "28 Con ayuda de inteligencia artificial, así decide Netflix sobre los contenidos que crea para su plataforma\n",
      "29 ¿Twitter cerrará Periscope?\n"
     ]
    }
   ],
   "source": [
    "text = '{:>2} {}'\n",
    "for i in range(len(posts)):\n",
    "  print(text.format(i, posts[i].title))\n",
    "# end for"
   ]
  }
 ],
 "metadata": {
  "colab": {
   "collapsed_sections": [],
   "name": "RSS Ingestion.ipynb",
   "provenance": []
  },
  "kernelspec": {
   "display_name": "Python 3",
   "language": "python",
   "name": "python3"
  },
  "language_info": {
   "codemirror_mode": {
    "name": "ipython",
    "version": 3
   },
   "file_extension": ".py",
   "mimetype": "text/x-python",
   "name": "python",
   "nbconvert_exporter": "python",
   "pygments_lexer": "ipython3",
   "version": "3.8.6"
  }
 },
 "nbformat": 4,
 "nbformat_minor": 4
}
