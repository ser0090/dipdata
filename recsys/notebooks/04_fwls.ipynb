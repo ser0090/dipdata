{
 "cells": [
  {
   "cell_type": "markdown",
   "metadata": {
    "slideshow": {
     "slide_type": "slide"
    }
   },
   "source": [
    "<h1 style=\"font-size:2.5em;text-align:center;\">Sistemas de Recomendación - Clase IV</h1>"
   ]
  },
  {
   "cell_type": "markdown",
   "metadata": {
    "slideshow": {
     "slide_type": "slide"
    }
   },
   "source": [
    "# Implementación de un FWLS\n",
    "\n",
    "En este notebook veremos los pasos para crear (y evaluar) un modelo de Ensemble de **Feature Weighted Linear Stacking** basado en dos sistemas de recomendación: un filtrado colaborativo y un filtrado por contenido."
   ]
  },
  {
   "cell_type": "markdown",
   "metadata": {
    "slideshow": {
     "slide_type": "slide"
    }
   },
   "source": [
    "# Modelo de Filtrado Colaborativo\n",
    "\n",
    "Para el primer modelo vamos a utilizar [Surpr!se](http://surpriselib.com/) como lo venimos haciendo. Además, haremos uso de su sistema de `Dataset`s que nos serviará para la división del conjunto de datos en entrenamiento y evaluación."
   ]
  },
  {
   "cell_type": "code",
   "execution_count": 1,
   "metadata": {
    "slideshow": {
     "slide_type": "-"
    }
   },
   "outputs": [],
   "source": [
    "import pandas as pd\n",
    "import numpy as np\n",
    "from sklearn.metrics.pairwise import cosine_similarity\n",
    "\n",
    "from surprise import Dataset\n",
    "from surprise import Reader\n",
    "from surprise import KNNWithMeans\n",
    "from surprise.model_selection import train_test_split"
   ]
  },
  {
   "cell_type": "code",
   "execution_count": 2,
   "metadata": {
    "slideshow": {
     "slide_type": "-"
    }
   },
   "outputs": [],
   "source": [
    "ratings = pd.read_csv(\"../data/ml-latest-small/ratings.csv\")\n",
    "reader = Reader(rating_scale=(ratings.rating.min(), ratings.rating.max()))\n",
    "ratings = Dataset.load_from_df(ratings[[\"userId\", \"movieId\", \"rating\"]], reader)\n",
    "ratings_train, ratings_test = train_test_split(ratings, test_size=0.2)"
   ]
  },
  {
   "cell_type": "markdown",
   "metadata": {
    "slideshow": {
     "slide_type": "-"
    }
   },
   "source": [
    "Notar que en este casos el filtrado es basado en items (películas), en lugar de usuarios."
   ]
  },
  {
   "cell_type": "code",
   "execution_count": 3,
   "metadata": {
    "slideshow": {
     "slide_type": "-"
    }
   },
   "outputs": [
    {
     "name": "stdout",
     "output_type": "stream",
     "text": [
      "Computing the pearson similarity matrix...\n",
      "Done computing similarity matrix.\n"
     ]
    }
   ],
   "source": [
    "# filtrado colaborativo basado en KNN\n",
    "cf_model = KNNWithMeans(\n",
    "    k=5, sim_options={\"user_based\": False, \"name\": \"pearson\"}\n",
    ").fit(ratings_train)"
   ]
  },
  {
   "cell_type": "markdown",
   "metadata": {
    "slideshow": {
     "slide_type": "slide"
    }
   },
   "source": [
    "# Modelo predictivo basado en contenido\n",
    "\n",
    "Primero debemos crear nuestro modelo predictivo basado en información de contenido. En este caso, basado en los géneros de las películas. La idea es, a partir de los géneros de las películas, buscar aquellas más similares. Luego, en base a los ratings hechos por un usuario, se pueden generar ratings usando algún algoritmo clásico de KNearestNeigbors y en base a ello devolver lo predicho."
   ]
  },
  {
   "cell_type": "code",
   "execution_count": 4,
   "metadata": {
    "slideshow": {
     "slide_type": "subslide"
    }
   },
   "outputs": [],
   "source": [
    "class GenresBasedFilter(object):\n",
    "    def __init__(self, movies, k=5):\n",
    "        \"\"\"\n",
    "        Crea matriz de simulitud.\n",
    "        \"\"\"\n",
    "        self.movie_to_idx = {row[\"movieId\"]: idx for idx, row in movies.iterrows()}\n",
    "        self.idx_to_movie = {idx: movie for movie, idx in self.movie_to_idx.items()}\n",
    "        self.k = k\n",
    "\n",
    "        genres = set(g for G in movies['genres'] for g in G)\n",
    "        for g in genres:\n",
    "            movies[g] = movies.genres.transform(lambda x: int(g in x))\n",
    "\n",
    "        self.movie_genres = movies.drop(columns=['movieId', 'title', 'genres'])\n",
    "\n",
    "    def fit(self, ratings):\n",
    "        self.movies_cosine_sim_ = cosine_similarity(self.movie_genres, self.movie_genres)\n",
    "\n",
    "        self.user_ratings_ = {}\n",
    "        for (user_id, movie_id, rating) in ratings.build_testset():\n",
    "            if user_id not in self.user_ratings_:\n",
    "                self.user_ratings_[user_id] = {}\n",
    "            self.user_ratings_[user_id][movie_id] = rating\n",
    "\n",
    "        return self\n",
    "\n",
    "    def predict(self, user, movie):\n",
    "        if not user in self.user_ratings_ or not movie in self.movie_to_idx:\n",
    "            global_mean = np.mean([\n",
    "                rating for movies in self.user_ratings_.values() for rating in movies.values()\n",
    "            ])\n",
    "            return global_mean\n",
    "\n",
    "        movie_idx = self.movie_to_idx[movie]\n",
    "        sim_scores = list(enumerate(self.movies_cosine_sim_[movie_idx]))\n",
    "        sim_scores = sorted(sim_scores, key=lambda x: x[1], reverse=True)\n",
    "        sim_scores = sim_scores[1:]\n",
    "\n",
    "        sims = []\n",
    "\n",
    "        for movie, score in sim_scores:\n",
    "            if self.idx_to_movie[movie] in self.user_ratings_[user]:\n",
    "                sims.append((self.user_ratings_[user][self.idx_to_movie[movie]], score))\n",
    "                if len(sims) >= self.k:\n",
    "                    break\n",
    "\n",
    "        user_mean = np.mean(list(self.user_ratings_[user].values()))\n",
    "\n",
    "        pred = 0\n",
    "        sim_sum = 0\n",
    "\n",
    "        for rating, score in sims:\n",
    "            pred += score * (rating - user_mean)\n",
    "            sim_sum += score\n",
    "\n",
    "        if sim_sum == 0:\n",
    "            return user_mean\n",
    "\n",
    "        return user_mean + pred / sim_sum"
   ]
  },
  {
   "cell_type": "markdown",
   "metadata": {
    "slideshow": {
     "slide_type": "subslide"
    }
   },
   "source": [
    "Para este modelo cargamos el conjunto de datos que tiene información de los géneros de las películas. Necesitamos esta información para calcular la matriz de similitud coseno. Por otra parte, utilizamos el conjunto de entrenamiento de Surpr!se para entrenar el modelo."
   ]
  },
  {
   "cell_type": "code",
   "execution_count": 5,
   "metadata": {
    "slideshow": {
     "slide_type": "-"
    }
   },
   "outputs": [],
   "source": [
    "movies = pd.read_csv(\"../data/ml-latest-small/movies.csv\")\n",
    "movies['genres'] = movies['genres'].apply(lambda x: x.split(\"|\"))"
   ]
  },
  {
   "cell_type": "code",
   "execution_count": 6,
   "metadata": {
    "slideshow": {
     "slide_type": "-"
    }
   },
   "outputs": [],
   "source": [
    "cb_model = GenresBasedFilter(movies).fit(ratings_train)"
   ]
  },
  {
   "cell_type": "markdown",
   "metadata": {
    "slideshow": {
     "slide_type": "slide"
    }
   },
   "source": [
    "# Feature Weighted Linear Stacking\n",
    "---"
   ]
  },
  {
   "cell_type": "markdown",
   "metadata": {
    "slideshow": {
     "slide_type": "subslide"
    }
   },
   "source": [
    "## Meta atributos de modelos\n",
    "\n",
    "Con nuestros dos modelos bases, pasamos a crear nuestro modelo FWLS. Para ello, lo primero que tenemos que hacer es transformar los meta atributos de los modelos a partir de la información de usuario y película (esto lleva un tiempo, porque el algoritmo de filtrado por contenido no está optimizado)."
   ]
  },
  {
   "cell_type": "code",
   "execution_count": 7,
   "metadata": {
    "slideshow": {
     "slide_type": "-"
    }
   },
   "outputs": [
    {
     "data": {
      "application/vnd.jupyter.widget-view+json": {
       "model_id": "dd182a20f5f64944b303a6bcd587fee0",
       "version_major": 2,
       "version_minor": 0
      },
      "text/plain": [
       "HBox(children=(HTML(value=''), FloatProgress(value=0.0, max=80668.0), HTML(value='')))"
      ]
     },
     "metadata": {},
     "output_type": "display_data"
    },
    {
     "name": "stdout",
     "output_type": "stream",
     "text": [
      "\n"
     ]
    }
   ],
   "source": [
    "from tqdm.notebook import tqdm\n",
    "\n",
    "transformed_ratings_train = []\n",
    "\n",
    "for u, m, r in tqdm(ratings_train.build_testset()):\n",
    "    transformed_ratings_train.append({\n",
    "        \"userId\": u,\n",
    "        \"movieId\": m,\n",
    "        \"cb_rating\": cb_model.predict(u, m),\n",
    "        \"cf_rating\": cf_model.predict(u, m).est,\n",
    "        \"rating\": r\n",
    "    })\n",
    "\n",
    "transformed_ratings_train = pd.DataFrame(transformed_ratings_train)"
   ]
  },
  {
   "cell_type": "code",
   "execution_count": 8,
   "metadata": {},
   "outputs": [
    {
     "data": {
      "text/html": [
       "<div>\n",
       "<style scoped>\n",
       "    .dataframe tbody tr th:only-of-type {\n",
       "        vertical-align: middle;\n",
       "    }\n",
       "\n",
       "    .dataframe tbody tr th {\n",
       "        vertical-align: top;\n",
       "    }\n",
       "\n",
       "    .dataframe thead th {\n",
       "        text-align: right;\n",
       "    }\n",
       "</style>\n",
       "<table border=\"1\" class=\"dataframe\">\n",
       "  <thead>\n",
       "    <tr style=\"text-align: right;\">\n",
       "      <th></th>\n",
       "      <th>userId</th>\n",
       "      <th>movieId</th>\n",
       "      <th>cb_rating</th>\n",
       "      <th>cf_rating</th>\n",
       "      <th>rating</th>\n",
       "    </tr>\n",
       "  </thead>\n",
       "  <tbody>\n",
       "    <tr>\n",
       "      <th>0</th>\n",
       "      <td>306</td>\n",
       "      <td>117590</td>\n",
       "      <td>3.913651</td>\n",
       "      <td>4.030000</td>\n",
       "      <td>4.0</td>\n",
       "    </tr>\n",
       "    <tr>\n",
       "      <th>1</th>\n",
       "      <td>306</td>\n",
       "      <td>56152</td>\n",
       "      <td>3.209344</td>\n",
       "      <td>3.556197</td>\n",
       "      <td>3.5</td>\n",
       "    </tr>\n",
       "    <tr>\n",
       "      <th>2</th>\n",
       "      <td>306</td>\n",
       "      <td>152077</td>\n",
       "      <td>3.054097</td>\n",
       "      <td>3.196000</td>\n",
       "      <td>2.5</td>\n",
       "    </tr>\n",
       "    <tr>\n",
       "      <th>3</th>\n",
       "      <td>306</td>\n",
       "      <td>5957</td>\n",
       "      <td>3.300000</td>\n",
       "      <td>3.656667</td>\n",
       "      <td>4.0</td>\n",
       "    </tr>\n",
       "    <tr>\n",
       "      <th>4</th>\n",
       "      <td>306</td>\n",
       "      <td>86833</td>\n",
       "      <td>3.000000</td>\n",
       "      <td>4.040242</td>\n",
       "      <td>4.0</td>\n",
       "    </tr>\n",
       "  </tbody>\n",
       "</table>\n",
       "</div>"
      ],
      "text/plain": [
       "   userId  movieId  cb_rating  cf_rating  rating\n",
       "0     306   117590   3.913651   4.030000     4.0\n",
       "1     306    56152   3.209344   3.556197     3.5\n",
       "2     306   152077   3.054097   3.196000     2.5\n",
       "3     306     5957   3.300000   3.656667     4.0\n",
       "4     306    86833   3.000000   4.040242     4.0"
      ]
     },
     "execution_count": 8,
     "metadata": {},
     "output_type": "execute_result"
    }
   ],
   "source": [
    "transformed_ratings_train.iloc[:5, :5]"
   ]
  },
  {
   "cell_type": "markdown",
   "metadata": {
    "slideshow": {
     "slide_type": "subslide"
    }
   },
   "source": [
    "## Funciones atributo\n",
    "\n",
    "El siguiente paso se basa en definir nuestras funciones atributo que se le darán en conjunto a los meta atributos de los modelos para entrenar el algoritmo de regresión logística. En este caso solo definiremos tres muy sencillas."
   ]
  },
  {
   "cell_type": "code",
   "execution_count": 9,
   "metadata": {
    "slideshow": {
     "slide_type": "-"
    }
   },
   "outputs": [],
   "source": [
    "from collections import defaultdict\n",
    "\n",
    "user_mean_rating = defaultdict(\n",
    "    lambda: transformed_ratings_train[\"rating\"].mean(),\n",
    "    transformed_ratings_train.groupby(\"userId\")[\"rating\"].mean().to_dict()\n",
    ")\n",
    "user_num_rating = defaultdict(\n",
    "    lambda: 0,\n",
    "    transformed_ratings_train.groupby(\"userId\").size().to_dict()\n",
    ")\n",
    "\n",
    "\n",
    "# Funcion atributo.\n",
    "\n",
    "def feature_function_constant():\n",
    "    return 1\n",
    "\n",
    "def feature_function_mean(user_id):\n",
    "    \"\"\"\n",
    "    Funcion atributo retorna la media del usuario\n",
    "    \"\"\"\n",
    "    return user_mean_rating[user_id]\n",
    "\n",
    "def feature_function_over(user_id, min_ratings=3):\n",
    "    \"\"\"\n",
    "    Si el rating es mayor o igual al min_raing.\n",
    "    \"\"\"\n",
    "    return int(user_num_rating[user_id] >= min_ratings)"
   ]
  },
  {
   "cell_type": "markdown",
   "metadata": {
    "slideshow": {
     "slide_type": "subslide"
    }
   },
   "source": [
    "## Generación de atributos de entrenamiento\n",
    "\n",
    "A partir de nuestros meta atributos de lo modelos y nuestras funciones atributo, podemos definir nuestros atributos finales que serán utilizados en el modelo de regresión logística. Para ello tenemos que aplicar las funciones atributo a los meta atributos de los modelos."
   ]
  },
  {
   "cell_type": "code",
   "execution_count": 10,
   "metadata": {
    "slideshow": {
     "slide_type": "-"
    }
   },
   "outputs": [],
   "source": [
    "for base_model in [\"cb\", \"cf\"]:\n",
    "    transformed_ratings_train[\"{}_rating_fc\".format(base_model)] =\\\n",
    "        transformed_ratings_train.apply(\n",
    "            lambda row: row[\"{}_rating\".format(base_model)] * feature_function_constant(),\n",
    "            axis=1\n",
    "        )\n",
    "    transformed_ratings_train[\"{}_rating_fm\".format(base_model)] =\\\n",
    "        transformed_ratings_train.apply(\n",
    "            lambda row: row[\"{}_rating\".format(base_model)] * feature_function_mean(row[\"userId\"]),\n",
    "            axis=1\n",
    "        )\n",
    "    transformed_ratings_train[\"{}_rating_fo\".format(base_model)] =\\\n",
    "        transformed_ratings_train.apply(\n",
    "            lambda row: row[\"{}_rating\".format(base_model)] * feature_function_over(row[\"userId\"]),\n",
    "            axis=1\n",
    "        )"
   ]
  },
  {
   "cell_type": "code",
   "execution_count": 11,
   "metadata": {},
   "outputs": [
    {
     "data": {
      "text/html": [
       "<div>\n",
       "<style scoped>\n",
       "    .dataframe tbody tr th:only-of-type {\n",
       "        vertical-align: middle;\n",
       "    }\n",
       "\n",
       "    .dataframe tbody tr th {\n",
       "        vertical-align: top;\n",
       "    }\n",
       "\n",
       "    .dataframe thead th {\n",
       "        text-align: right;\n",
       "    }\n",
       "</style>\n",
       "<table border=\"1\" class=\"dataframe\">\n",
       "  <thead>\n",
       "    <tr style=\"text-align: right;\">\n",
       "      <th></th>\n",
       "      <th>userId</th>\n",
       "      <th>movieId</th>\n",
       "      <th>cb_rating</th>\n",
       "      <th>cf_rating</th>\n",
       "      <th>rating</th>\n",
       "      <th>cb_rating_fc</th>\n",
       "      <th>cb_rating_fm</th>\n",
       "      <th>cb_rating_fo</th>\n",
       "      <th>cf_rating_fc</th>\n",
       "      <th>cf_rating_fm</th>\n",
       "      <th>cf_rating_fo</th>\n",
       "    </tr>\n",
       "  </thead>\n",
       "  <tbody>\n",
       "    <tr>\n",
       "      <th>0</th>\n",
       "      <td>306</td>\n",
       "      <td>117590</td>\n",
       "      <td>3.913651</td>\n",
       "      <td>4.030000</td>\n",
       "      <td>4.0</td>\n",
       "      <td>3.913651</td>\n",
       "      <td>12.833134</td>\n",
       "      <td>3.913651</td>\n",
       "      <td>4.030000</td>\n",
       "      <td>13.214651</td>\n",
       "      <td>4.030000</td>\n",
       "    </tr>\n",
       "    <tr>\n",
       "      <th>1</th>\n",
       "      <td>306</td>\n",
       "      <td>56152</td>\n",
       "      <td>3.209344</td>\n",
       "      <td>3.556197</td>\n",
       "      <td>3.5</td>\n",
       "      <td>3.209344</td>\n",
       "      <td>10.523662</td>\n",
       "      <td>3.209344</td>\n",
       "      <td>3.556197</td>\n",
       "      <td>11.661017</td>\n",
       "      <td>3.556197</td>\n",
       "    </tr>\n",
       "    <tr>\n",
       "      <th>2</th>\n",
       "      <td>306</td>\n",
       "      <td>152077</td>\n",
       "      <td>3.054097</td>\n",
       "      <td>3.196000</td>\n",
       "      <td>2.5</td>\n",
       "      <td>3.054097</td>\n",
       "      <td>10.014597</td>\n",
       "      <td>3.054097</td>\n",
       "      <td>3.196000</td>\n",
       "      <td>10.479907</td>\n",
       "      <td>3.196000</td>\n",
       "    </tr>\n",
       "    <tr>\n",
       "      <th>3</th>\n",
       "      <td>306</td>\n",
       "      <td>5957</td>\n",
       "      <td>3.300000</td>\n",
       "      <td>3.656667</td>\n",
       "      <td>4.0</td>\n",
       "      <td>3.300000</td>\n",
       "      <td>10.820930</td>\n",
       "      <td>3.300000</td>\n",
       "      <td>3.656667</td>\n",
       "      <td>11.990465</td>\n",
       "      <td>3.656667</td>\n",
       "    </tr>\n",
       "    <tr>\n",
       "      <th>4</th>\n",
       "      <td>306</td>\n",
       "      <td>86833</td>\n",
       "      <td>3.000000</td>\n",
       "      <td>4.040242</td>\n",
       "      <td>4.0</td>\n",
       "      <td>3.000000</td>\n",
       "      <td>9.837209</td>\n",
       "      <td>3.000000</td>\n",
       "      <td>4.040242</td>\n",
       "      <td>13.248234</td>\n",
       "      <td>4.040242</td>\n",
       "    </tr>\n",
       "  </tbody>\n",
       "</table>\n",
       "</div>"
      ],
      "text/plain": [
       "   userId  movieId  cb_rating  cf_rating  rating  cb_rating_fc  cb_rating_fm  \\\n",
       "0     306   117590   3.913651   4.030000     4.0      3.913651     12.833134   \n",
       "1     306    56152   3.209344   3.556197     3.5      3.209344     10.523662   \n",
       "2     306   152077   3.054097   3.196000     2.5      3.054097     10.014597   \n",
       "3     306     5957   3.300000   3.656667     4.0      3.300000     10.820930   \n",
       "4     306    86833   3.000000   4.040242     4.0      3.000000      9.837209   \n",
       "\n",
       "   cb_rating_fo  cf_rating_fc  cf_rating_fm  cf_rating_fo  \n",
       "0      3.913651      4.030000     13.214651      4.030000  \n",
       "1      3.209344      3.556197     11.661017      3.556197  \n",
       "2      3.054097      3.196000     10.479907      3.196000  \n",
       "3      3.300000      3.656667     11.990465      3.656667  \n",
       "4      3.000000      4.040242     13.248234      4.040242  "
      ]
     },
     "execution_count": 11,
     "metadata": {},
     "output_type": "execute_result"
    }
   ],
   "source": [
    "transformed_ratings_train.head(5)"
   ]
  },
  {
   "cell_type": "markdown",
   "metadata": {
    "slideshow": {
     "slide_type": "subslide"
    }
   },
   "source": [
    "## Entrenamiento del modelo\n",
    "\n",
    "El último paso es el entrenamiento del modelo de regresión lineal en base a nuestros atributos generados en el paso anterior. Este es el paso más sencillo porque utilizamos directamente el algoritmo de `scikit-learn` para regresión lineal."
   ]
  },
  {
   "cell_type": "code",
   "execution_count": 12,
   "metadata": {},
   "outputs": [
    {
     "data": {
      "text/plain": [
       "LinearRegression()"
      ]
     },
     "execution_count": 12,
     "metadata": {},
     "output_type": "execute_result"
    }
   ],
   "source": [
    "from sklearn.linear_model import LinearRegression\n",
    "\n",
    "fwls_model = LinearRegression()\n",
    "\n",
    "feature_cols = [\"{}_rating_{}\".format(fm, ff) for fm in [\"cb\", \"cf\"] for ff in [\"fc\", \"fo\", \"fm\"]]\n",
    "\n",
    "fwls_model.fit(\n",
    "    transformed_ratings_train[feature_cols],\n",
    "    transformed_ratings_train[\"rating\"]\n",
    ")"
   ]
  },
  {
   "cell_type": "markdown",
   "metadata": {
    "slideshow": {
     "slide_type": "subslide"
    }
   },
   "source": [
    "## Evaluación del modelo\n",
    "\n",
    "Para evaluar los modelos tenemos que realizar el mismo paso de transformación sobre los datos de evaluación que se utilizaron para los datos de entrenamiento. Empezando por la obtención de meta atributos de los modelos."
   ]
  },
  {
   "cell_type": "code",
   "execution_count": 14,
   "metadata": {
    "slideshow": {
     "slide_type": "-"
    }
   },
   "outputs": [
    {
     "data": {
      "application/vnd.jupyter.widget-view+json": {
       "model_id": "ac39fd5d57784cff8c2026db4603c2b5",
       "version_major": 2,
       "version_minor": 0
      },
      "text/plain": [
       "HBox(children=(HTML(value=''), FloatProgress(value=0.0, max=20168.0), HTML(value='')))"
      ]
     },
     "metadata": {},
     "output_type": "display_data"
    },
    {
     "name": "stdout",
     "output_type": "stream",
     "text": [
      "\n"
     ]
    }
   ],
   "source": [
    "transformed_ratings_test = []\n",
    "\n",
    "for u, m, r in tqdm(ratings_test):\n",
    "    transformed_ratings_test.append({\n",
    "        \"userId\": u,\n",
    "        \"movieId\": m,\n",
    "        \"cb_rating\": cb_model.predict(u, m),\n",
    "        \"cf_rating\": cf_model.predict(u, m).est,\n",
    "        \"rating\": r\n",
    "    })\n",
    "\n",
    "transformed_ratings_test = pd.DataFrame(transformed_ratings_test)"
   ]
  },
  {
   "cell_type": "markdown",
   "metadata": {
    "slideshow": {
     "slide_type": "subslide"
    }
   },
   "source": [
    "Y siguiendo por los atributos a partir de las funciones atributo."
   ]
  },
  {
   "cell_type": "code",
   "execution_count": 15,
   "metadata": {
    "slideshow": {
     "slide_type": "-"
    }
   },
   "outputs": [],
   "source": [
    "for base_model in [\"cb\", \"cf\"]:\n",
    "    transformed_ratings_test[\"{}_rating_fc\".format(base_model)] =\\\n",
    "        transformed_ratings_test.apply(\n",
    "            lambda row: row[\"{}_rating\".format(base_model)] * feature_function_constant(),\n",
    "            axis=1\n",
    "        )\n",
    "    transformed_ratings_test[\"{}_rating_fm\".format(base_model)] =\\\n",
    "        transformed_ratings_test.apply(\n",
    "            lambda row: row[\"{}_rating\".format(base_model)] * feature_function_mean(row[\"userId\"]),\n",
    "            axis=1\n",
    "        )\n",
    "    transformed_ratings_test[\"{}_rating_fo\".format(base_model)] =\\\n",
    "        transformed_ratings_test.apply(\n",
    "            lambda row: row[\"{}_rating\".format(base_model)] * feature_function_over(row[\"userId\"]),\n",
    "            axis=1\n",
    "        )\n",
    "\n",
    "transformed_ratings_test[\"fwls_rating\"] = fwls_model.predict(transformed_ratings_test[feature_cols])"
   ]
  },
  {
   "cell_type": "markdown",
   "metadata": {
    "slideshow": {
     "slide_type": "subslide"
    }
   },
   "source": [
    "## Comparación de los modelos\n",
    "\n",
    "Finalmente, tenemos todo lo necesario para hacer una comparación (e.g. midiento el error) de los distintos modelos sobre el conjunto de evaluación."
   ]
  },
  {
   "cell_type": "code",
   "execution_count": 16,
   "metadata": {},
   "outputs": [
    {
     "name": "stdout",
     "output_type": "stream",
     "text": [
      "RMSE for cf model: 0.958102\n",
      "RMSE for cb model: 0.975905\n",
      "RMSE for fwls model: 0.948719\n"
     ]
    }
   ],
   "source": [
    "from sklearn.metrics import mean_squared_error\n",
    "\n",
    "for model in [\"cf\", \"cb\", \"fwls\"]:\n",
    "    rmse = np.sqrt(\n",
    "        mean_squared_error(\n",
    "            transformed_ratings_test[\"rating\"],\n",
    "            transformed_ratings_test[\"{}_rating\".format(model)]\n",
    "        )\n",
    "    )\n",
    "    \n",
    "    print(\"RMSE for {} model: {:03f}\".format(model, rmse))"
   ]
  }
 ],
 "metadata": {
  "celltoolbar": "Slideshow",
  "kernelspec": {
   "display_name": "Python 3",
   "language": "python",
   "name": "python3"
  },
  "language_info": {
   "codemirror_mode": {
    "name": "ipython",
    "version": 3
   },
   "file_extension": ".py",
   "mimetype": "text/x-python",
   "name": "python",
   "nbconvert_exporter": "python",
   "pygments_lexer": "ipython3",
   "version": "3.8.6"
  },
  "rise": {
   "scroll": true
  }
 },
 "nbformat": 4,
 "nbformat_minor": 4
}
