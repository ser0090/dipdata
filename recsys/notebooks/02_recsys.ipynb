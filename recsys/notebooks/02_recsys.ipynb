{
 "cells": [
  {
   "cell_type": "markdown",
   "metadata": {
    "slideshow": {
     "slide_type": "slide"
    }
   },
   "source": [
    "<h1 style=\"font-size:2.5em;text-align:center;\">Sistemas de Recomendación - Clase II</h1>"
   ]
  },
  {
   "cell_type": "markdown",
   "metadata": {
    "slideshow": {
     "slide_type": "slide"
    }
   },
   "source": [
    "# Contenido\n",
    "\n",
    "1. [Ratings](#Ratings)\n",
    "1. [Similitud entre usuarios y contenido](#Similitud-entre-usuarios-y-contenido)\n",
    "1. [Algoritmos de recomendación](#Algoritmos-de-recomendación)\n",
    "1. [Problemas con sistemas de recomendación](#Problemas-con-sistemas-de-recomendación)"
   ]
  },
  {
   "cell_type": "markdown",
   "metadata": {
    "slideshow": {
     "slide_type": "slide"
    }
   },
   "source": [
    "# Ratings"
   ]
  },
  {
   "cell_type": "markdown",
   "metadata": {
    "slideshow": {
     "slide_type": "subslide"
    }
   },
   "source": [
    "## ¿Qué es un rating?\n",
    "\n",
    "- Es una herramienta que establece el sentimiento de un **usuario** sobre el **contenido** que está consumiendo.\n",
    "- Se representa internamente como **un número en una escala** (e.g. de 0 a 5). \n",
    "    - Se busca que ese número pueda ser traducido a una representación gráfica para el usuario.\n",
    "      Ejm Boton like y dislike o estrellas.\n",
    "- Pueden ser **explícitos** (dados directamente por el usuario) o **implícitos** (dados por las interacciones que realiza el usuario en una página).\n",
    "- Ejemplos: estrellas de Amazon, reputación de un vendedor en Mercado Libre, la cantidad de veces que uno reproduce una película en Netflix o una canción en Spotify."
   ]
  },
  {
   "cell_type": "markdown",
   "metadata": {
    "slideshow": {
     "slide_type": "subslide"
    }
   },
   "source": [
    "## Matriz de Usuario-Contenido\n",
    "\n",
    "- Es una matriz (tabla) con **una fila por cada usuario** y **una columna por cada item** de contenido (o visceversa). (similar al Dataset)\n",
    "- El **contenido** de la matriz es el **rating** (explícito o implícito) que le asigna un usuario a cierto item de contenido.\n",
    "    - Desafío en el diseño de un sistema de recomendación: ¿Qué tipo de información utilizar para rellenar el contenido de la matriz?.\n",
    "- Es el punto de entrada para entrenar la mayoría de los algoritmos de recomendación.\n",
    "- El objetivo de los algoritmos de recomendación es **llenar huecos** en la matriz de usuario-contenido.\n",
    "\n",
    "  Es por es que los sitemas de recomendacion utilza tanto aprendizaj\n",
    "  supervizado como el no supervisazo."
   ]
  },
  {
   "cell_type": "markdown",
   "metadata": {
    "slideshow": {
     "slide_type": "subslide"
    }
   },
   "source": [
    "## Matriz de Usuario-Contenido: Ejemplo\n",
    "\n",
    "<img \n",
    "     alt=\"User Item Matrix\" \n",
    "   src=\"https://github.com/DiploDatos/SistemasDeRecomendacion/blob/master/teorico/img/user-item-matrix.png?raw=true\"\n",
    "     style=\"width:80%;margin:auto;\"/>"
   ]
  },
  {
   "cell_type": "markdown",
   "metadata": {
    "slideshow": {
     "slide_type": "subslide"
    }
   },
   "source": [
    "## Matriz de Usuario-Contenido: Problemas de Dispersión\n",
    "\n",
    "- Las matrices de usuario-contenido tienden a ser **altamente dispersas**.\n",
    "- Las plataformas suelen tener **muchos usuarios e items**. \n",
    "    - Es raro encontrar a usuarios que interactúen con todos los items.\n",
    "- Deben poblarse con ratings (implícitos o explícitos), en caso contrario no brindan suficiente información a los algoritmos de recomendación."
   ]
  },
  {
   "cell_type": "markdown",
   "metadata": {
    "slideshow": {
     "slide_type": "subslide"
    }
   },
   "source": [
    "## Ratings explícitos vs. ratings implícitos.\n",
    "\n",
    "- Los datos para generar una matriz de usuario-contenido se obtienen de las **interacciones que el usuario hace con el sitio**.\n",
    "- Los **ratings explícitos** se consiguen a través de un **sistema específicamente diseñado**.\n",
    "    - El usuario nos provee su apreciación de un item.\n",
    "- Los **ratings implícitos** se consiguen a través de datos recolectados a partir del **comportamiento del usuario**.\n",
    "    - Se tiene que registrar lo que hace el usuario dentro del sitio. Desde compras hasta historial de revisión.\n",
    "- Sitios distintos tienen **distintas formas de capturar la información**. \n",
    "- No todas las aplicaciones se benefician de sistemas explícitos."
   ]
  },
  {
   "cell_type": "markdown",
   "metadata": {
    "slideshow": {
     "slide_type": "subslide"
    }
   },
   "source": [
    "## Ratings explícitos\n",
    "\n",
    "- Son la **forma más directa** de llenar la matriz de usuario-contenido.\n",
    "- Dependen de la **voluntad del usuario**.\n",
    "- ¿Qué tan **seguro está el usuario** de lo que le gusta?\n",
    "    - ¿Qué cosa en particular no le gusta? E.g. canción vs. género musical, artículo vs. tema de una noticia.\n",
    "- ¿Son confiables los sistemas de reputación?\n",
    "\n",
    "<img alt=\"User Item Matrix\" src=\"https://github.com/DiploDatos/SistemasDeRecomendacion/blob/master/teorico/img/yelp-hotel-review.jpg?raw=true\" style=\"margin:auto;\"/>"
   ]
  },
  {
   "cell_type": "markdown",
   "metadata": {
    "slideshow": {
     "slide_type": "subslide"
    }
   },
   "source": [
    "## Ratings implícitos\n",
    "\n",
    "- Se basan en el **monitoreo** de lo que hace el usuario.\n",
    "    - Dar un bajo rating a una película, pero reveerla una y otra vez.\n",
    "- Se busca encontrar un **número que defina la conformidad** de un usuario con un item.\n",
    "    - Cantidad de reproducciones de una canción, historial de navegación, compras, etc.\n",
    "- **No todo** lo que hace un usuario **es sinónimo de conformidad**. \n",
    "    - Traducir comportamiento en ratings es una tarea subjetiva, depende mucho del contexto.\n",
    "- El **tiempo es relevante**.\n",
    "    - No es lo mismo recomendar un bar de cerveza a las 9 a.m. que a las 9 p.m.\n",
    "    - Comprar algo que recién sale al mercado es más valioso que comprar algo más viejo."
   ]
  },
  {
   "cell_type": "markdown",
   "metadata": {
    "slideshow": {
     "slide_type": "subslide"
    }
   },
   "source": [
    "## Cálculo de ratings implícitos\n",
    "\n",
    "- Registramos las **acciones del usuario**.\n",
    "- Distintos **eventos** dan distintos **valores**.\n",
    "    - Buscar item.\n",
    "    - Entrar en los detalles de un item (o items de categoría similar).\n",
    "    - Averiguar medios de pago/envío.\n",
    "    - Preguntar.\n",
    "    - Comprar.\n",
    "- Buscamos llegar al rating máximo (e.g. comprar). \n",
    "    - Puede ser un valor continúo (e.g. porcentaje de una canción/video que el usuario reproduce)"
   ]
  },
  {
   "cell_type": "markdown",
   "metadata": {
    "slideshow": {
     "slide_type": "subslide"
    }
   },
   "source": [
    "## Cálculo de ratings implícitos: fórmula\n",
    "\n",
    "$$\n",
    "    IR_{i,u} = w_1 \\times \\#event_1 + w_2 \\times \\#event_2 + \\dots + w_n \\times \\#event_n\n",
    "$$\n",
    "\n",
    "- $IR_{i,u}$: Rating implícito entre usuario *u* e item *i*.\n",
    "- $\\#event_i$: Número de veces que un evento ocurre.\n",
    "    - Pueden estar **acotados por un valor máximo**.\n",
    "    - Se pueden **pesar por el tiempo** desde que ocurrió el evento.\n",
    "- $w_1, \\dots, w_n$: Pesos que se les da a los distintos eventos (basados en análisis).\n",
    "    - Estos pueden **calcularse mediante análisis o como parámetros de un clasificador** binario que busca encontrar la probabilidad de comprar un item."
   ]
  },
  {
   "cell_type": "markdown",
   "metadata": {
    "slideshow": {
     "slide_type": "subslide"
    }
   },
   "source": [
    "## Items poco frecuentes\n",
    "\n",
    "- Muchas veces los **eventos raros** nos dicen más sobre el usuario que cualquier otro evento.\n",
    "    - No es lo mismo comprar un DVD de \"Lord of the Rings\" que comprar una edición de coleccionista con un poster.\n",
    "- Los eventos raros hacen **subgrupos de usuarios** más específicos.\n",
    "- Podemos **reponderar el rating** de un item (implícito o explícito) mediante esta información.\n",
    "\n",
    "$$\n",
    "    R^{(final)}_{i,u} = R_{i,u} \\times \\log\\Big(\\frac{N}{1+n}\\Big)\n",
    "$$\n",
    "\n",
    "- $R_{i,u}$: Rating calculado originalmente (explícito o implícito)\n",
    "- $N$: Número total de usuarios.\n",
    "- $n$: Número de usuarios que compraron el item *i*.\n",
    "- $R^{(final)}_{i,u}$: Rating reponderado."
   ]
  },
  {
   "cell_type": "markdown",
   "metadata": {
    "slideshow": {
     "slide_type": "slide"
    }
   },
   "source": [
    "# Similitud entre usuarios y contenido"
   ]
  },
  {
   "cell_type": "markdown",
   "metadata": {
    "slideshow": {
     "slide_type": "subslide"
    }
   },
   "source": [
    "## Métricas de similitud\n",
    "\n",
    "- Buscamos ver que tan **cercanos están dos elementos**.\n",
    "- Se busca **recomendar contenido entre usuarios similares**.\n",
    "- Una **función (o métrica) de similitud** busca comparar dos elementos.\n",
    "    - $\\text{sim}(i_1, i_2) = 1$ implica igualdad.\n",
    "    - $\\text{sim}(i_1, i_2) = 0$ implica dos elementos completamente opuestos.\n",
    "- Las métricas de similitud **dependen del conjunto de datos**. Algunas funcionan mejor que otras."
   ]
  },
  {
   "cell_type": "markdown",
   "metadata": {
    "slideshow": {
     "slide_type": "subslide"
    }
   },
   "source": [
    "## Similitud de Jaccard\n",
    "\n",
    "- Se define **entre dos conjuntos**.\n",
    "- Suelen ser mejor aplicadas sobre datos binarios (e.g. un usuario compró o no un item).\n",
    "- Evalúa **cantidad de interacciones** en común vs. independientes.\n",
    "- La distancia entre dos elementos $i$ y $j$, se define formalmente como:\n",
    "\n",
    "$$\n",
    "    \\text{Jaccard}(i, j) = \\frac{|\\{u:~u~\\text{compró}~i \\land j\\}|}{|\\{u:~u~\\text{compró}~i \\lor j\\}|}\n",
    "$$\n",
    "\n",
    "- El término \"compró\" puede cambiarse por cualquier interacción que se busque modelar."
   ]
  },
  {
   "cell_type": "markdown",
   "metadata": {
    "slideshow": {
     "slide_type": "subslide"
    }
   },
   "source": [
    "## Distancia Manhattan\n",
    "\n",
    "- Se define entre **valores cuantitativos**.\n",
    "- Conocida también como norma $L_1$.\n",
    "- La distancia Manhattan se piensa como la **cantidad de cuadras que hay que hacer para llegar de un punto al otro** en Manhattan.\n",
    "- Se define formalmente entre dos elementos $i$ y $j$ como:\n",
    "\n",
    "$$\n",
    "    \\text{Manhattan}(i, j) = \\sum_{u=1}^{n}|r_{i,u} - r_{j,u}|\n",
    "$$"
   ]
  },
  {
   "cell_type": "markdown",
   "metadata": {
    "slideshow": {
     "slide_type": "subslide"
    }
   },
   "source": [
    "## Distancia Euclídea\n",
    "\n",
    "- Se define entre **valores cuantitativos**.\n",
    "- Conocida también como norma $L_2$.\n",
    "- Es la **distancia recta más corta entre dos puntos**. Proviene del teorema de Pitágoras.\n",
    "- Se define formalmente entre dos elementos $i$ y $j$ como:\n",
    "\n",
    "$$\n",
    "    \\text{Euclidean}(i, j) = \\sqrt{\\sum_{u=1}^{n}(r_{i,u} - r_{j,u})^2}\n",
    "$$"
   ]
  },
  {
   "cell_type": "markdown",
   "metadata": {
    "slideshow": {
     "slide_type": "subslide"
    }
   },
   "source": [
    "## Manhattan vs. Euclídea\n",
    "\n",
    "<img alt=\"Manhattan vs. Euclidean\" src=\"https://github.com/DiploDatos/SistemasDeRecomendacion/blob/master/teorico/img/distances.png?raw=true\" style=\"margin:auto;width:20em;height:auto;\"/>"
   ]
  },
  {
   "cell_type": "markdown",
   "metadata": {
    "slideshow": {
     "slide_type": "subslide"
    }
   },
   "source": [
    "## Similitud Coseno\n",
    "\n",
    "- Se define entre **valores cuantitativos**.\n",
    "- Mide el **ángulo entre vectores** que representen nuestros datos.\n",
    "- Se define formalmente entre dos elementos $i$ y $j$ como:\n",
    "\n",
    "$$\n",
    "    \\text{Cosine}(i, j) = \\frac{\\sum_{u=1}^{n}r_{i,u}r_{j,u}}{\\sqrt{\\sum_{u=1}^{n}r_{i,u}^2}\\sqrt{\\sum_{u=1}^{n}r_{j,u}^2}}\n",
    "$$\n",
    "\n",
    "- En general **se normaliza utilizando promedios** (parecido a lo que se hace con el coeficiente de Pearson).\n",
    "    - La idea es eliminar el sesgo de los usuarios."
   ]
  },
  {
   "cell_type": "markdown",
   "metadata": {
    "slideshow": {
     "slide_type": "subslide"
    }
   },
   "source": [
    "## Coeficiente de correlación de Pearson\n",
    "\n",
    "- Mide que tan **correlacionadas están las puntuaciones** entre dos elementos (pueden ser usuarios o items).\n",
    "- Compara los **elementos contra el promedio** y evalúa que tan diferentes son.\n",
    "- Se define formalmente entre dos elementos $i$ y $j$ como:\n",
    "\n",
    "$$\n",
    "    \\text{Pearson}(i, j) = \\frac{\\sum_{u=1}^{n}(r_{i,u}-\\bar{r_i})(r_{j,u}-\\bar{r_j})}{\\sqrt{\\sum_{u=1}^{n}(r_{i,u}-\\bar{r_{i}})^2}\\sqrt{\\sum_{u=1}^{n}(r_{j,u}-\\bar{r_{j}})^2}}\n",
    "$$"
   ]
  },
  {
   "cell_type": "markdown",
   "metadata": {
    "slideshow": {
     "slide_type": "subslide"
    }
   },
   "source": [
    "## Clustering\n",
    "\n",
    "- Definidas las métricas de similitud (o distancia) podemos hacer uso de **algoritmos de clustering**.\n",
    "- La idea es **buscar usuarios o items cercanos y agruparlos**.\n",
    "- Técnicas clásicas de clustering sirven: K-Means, Jerárquico, Expectation-Maximization."
   ]
  },
  {
   "cell_type": "markdown",
   "metadata": {
    "slideshow": {
     "slide_type": "slide"
    }
   },
   "source": [
    "# Algoritmos de recomendación"
   ]
  },
  {
   "cell_type": "markdown",
   "metadata": {
    "slideshow": {
     "slide_type": "subslide"
    }
   },
   "source": [
    "## Filtrado colaborativo\n",
    "\n",
    "- Es uno de los modelos de recomendación más básicos pero **muy robusto**.\n",
    "- Se basa en la idea **asociar usuarios similares de acuerdo a sus gustos**, expresados en los ratings.\n",
    "- Puede aplicarse sobre **usuarios** (user-based collaborative filtering).\n",
    "    - Dados dos usuarios similares $u$ y $v$, recomendamos el item $i$ al usuario $u$ que adquirió el usuario $v$ y todavía no fue consumido por $u$.\n",
    "- Puede aplicarse sobre **items** (item-based collaborative filtering).\n",
    "    - Dados dos items similares $i$ y $j$ y un usuario $u$ que adquirió $i$, le recomendamos $j$."
   ]
  },
  {
   "cell_type": "markdown",
   "metadata": {
    "slideshow": {
     "slide_type": "subslide"
    }
   },
   "source": [
    "### Filtrado basado en usuarios vs items\n",
    "\n",
    "- Los items se consideran **más estables**.\n",
    "- Un sistema puede tener **pocas interacciones para cada usuario**.\n",
    "- **Depende de la cantidad** de usuarios o items en el sistema y **su variabilidad**.\n",
    "- Los items proveen menos posibilidad de variación. Se **estancan rápido**.\n",
    "- Los **usuarios evolucionan**, las **recomendaciones pueden ser más dinámicas**."
   ]
  },
  {
   "cell_type": "markdown",
   "metadata": {
    "slideshow": {
     "slide_type": "subslide"
    }
   },
   "source": [
    "### Pipeline de filtrado colaborativo\n",
    "\n",
    "- Partimos de la **matriz de usuario-contenido**.\n",
    "- Calculamos la **similitud entre los elementos**.\n",
    "- Ordenamos los **elementos que más se parecen** al elemento actual.\n",
    "- Elegimos un **vecindario sobre el cuál calcular** la predicción.\n",
    "- Utilizamos los **ratings del usuario y su vecindario** para calcular el rating actual."
   ]
  },
  {
   "cell_type": "markdown",
   "metadata": {
    "slideshow": {
     "slide_type": "subslide"
    }
   },
   "source": [
    "### Vecindario para calcular predicción\n",
    "\n",
    "- A la hora de calcular un rating es necesario elegir aquellos **elementos que sean los más similares**.\n",
    "- La opción de **clustering** nos da un vecindario en el cluster de un elemento.\n",
    "- Los **K** vecinos más cercanos da un número fijo de vecinos.\n",
    "    - Siempre nos brinda valores con los que calcular.\n",
    "- Un **umbral** en los ratings más cercanos dá un número variable de vecinos.\n",
    "    - Puede dejar el algoritmo sin datos para calcular la predicción.\n",
    "- El **análisis de datos y la tolerancia** sobre las predicciones nos dan idea de qué método utilizar."
   ]
  },
  {
   "cell_type": "markdown",
   "metadata": {
    "slideshow": {
     "slide_type": "subslide"
    }
   },
   "source": [
    "### Cálculo de la predicción\n",
    "\n",
    "- A partir de los datos de ratings de un usuarios, las similitudes, y el vecindario, **completamos las matriz de usuario-contenido** con el cálculo de nuevos ratings:\n",
    "\n",
    "$$\n",
    "    r^{(p)}_{i,u} = \\bar{r_u} + \\frac{\\sum_{j \\in N}\\text{sim}(i,j)(r_{u,j}-\\bar{r_j})}{\\sum_{j \\in N}\\text{sim}(i,j)}\n",
    "$$\n",
    "\n",
    "- $r^{(p)}_{i,u}$: Es el valor predicho para el rating del item $i$ por el usuario $u$.\n",
    "- $\\bar{r_u}$: Es la media de ratings dada por el usuario $u$ a todos los items que puntuó.\n",
    "- $j \\in N$: Son todos los items $j$ del vecindario $N$.\n",
    "- $\\bar{r_j}$: Es el rating medio del item $j$ (es opcional).\n",
    "- $\\text{sim}(i,j)$: Es la métrica de similitud entre los items $i$ y $j$."
   ]
  },
  {
   "cell_type": "markdown",
   "metadata": {
    "slideshow": {
     "slide_type": "subslide"
    }
   },
   "source": [
    "### Surpr!se"
   ]
  },
  {
   "cell_type": "code",
   "execution_count": 1,
   "metadata": {
    "slideshow": {
     "slide_type": "-"
    }
   },
   "outputs": [],
   "source": [
    "import pandas as pd\n",
    "\n",
    "from surprise import Dataset\n",
    "from surprise import Reader\n",
    "from surprise import KNNWithMeans\n",
    "from surprise.accuracy import rmse\n",
    "from surprise.model_selection import cross_validate\n",
    "from surprise.model_selection import train_test_split"
   ]
  },
  {
   "cell_type": "markdown",
   "metadata": {},
   "source": [
    "### Matriz coordinate format\n",
    "\n",
    "`timestamp` puede ser usado para saber si se pone un rating hoy no es\n",
    "los mismo que el de año pasado (pesar por tiempo)."
   ]
  },
  {
   "cell_type": "code",
   "execution_count": 2,
   "metadata": {
    "slideshow": {
     "slide_type": "-"
    }
   },
   "outputs": [
    {
     "data": {
      "text/html": [
       "<div>\n",
       "<style scoped>\n",
       "    .dataframe tbody tr th:only-of-type {\n",
       "        vertical-align: middle;\n",
       "    }\n",
       "\n",
       "    .dataframe tbody tr th {\n",
       "        vertical-align: top;\n",
       "    }\n",
       "\n",
       "    .dataframe thead th {\n",
       "        text-align: right;\n",
       "    }\n",
       "</style>\n",
       "<table border=\"1\" class=\"dataframe\">\n",
       "  <thead>\n",
       "    <tr style=\"text-align: right;\">\n",
       "      <th></th>\n",
       "      <th>userId</th>\n",
       "      <th>movieId</th>\n",
       "      <th>rating</th>\n",
       "      <th>timestamp</th>\n",
       "    </tr>\n",
       "  </thead>\n",
       "  <tbody>\n",
       "    <tr>\n",
       "      <th>0</th>\n",
       "      <td>1</td>\n",
       "      <td>1</td>\n",
       "      <td>4.0</td>\n",
       "      <td>964982703</td>\n",
       "    </tr>\n",
       "    <tr>\n",
       "      <th>1</th>\n",
       "      <td>1</td>\n",
       "      <td>3</td>\n",
       "      <td>4.0</td>\n",
       "      <td>964981247</td>\n",
       "    </tr>\n",
       "    <tr>\n",
       "      <th>2</th>\n",
       "      <td>1</td>\n",
       "      <td>6</td>\n",
       "      <td>4.0</td>\n",
       "      <td>964982224</td>\n",
       "    </tr>\n",
       "    <tr>\n",
       "      <th>3</th>\n",
       "      <td>1</td>\n",
       "      <td>47</td>\n",
       "      <td>5.0</td>\n",
       "      <td>964983815</td>\n",
       "    </tr>\n",
       "    <tr>\n",
       "      <th>4</th>\n",
       "      <td>1</td>\n",
       "      <td>50</td>\n",
       "      <td>5.0</td>\n",
       "      <td>964982931</td>\n",
       "    </tr>\n",
       "    <tr>\n",
       "      <th>...</th>\n",
       "      <td>...</td>\n",
       "      <td>...</td>\n",
       "      <td>...</td>\n",
       "      <td>...</td>\n",
       "    </tr>\n",
       "    <tr>\n",
       "      <th>100831</th>\n",
       "      <td>610</td>\n",
       "      <td>166534</td>\n",
       "      <td>4.0</td>\n",
       "      <td>1493848402</td>\n",
       "    </tr>\n",
       "    <tr>\n",
       "      <th>100832</th>\n",
       "      <td>610</td>\n",
       "      <td>168248</td>\n",
       "      <td>5.0</td>\n",
       "      <td>1493850091</td>\n",
       "    </tr>\n",
       "    <tr>\n",
       "      <th>100833</th>\n",
       "      <td>610</td>\n",
       "      <td>168250</td>\n",
       "      <td>5.0</td>\n",
       "      <td>1494273047</td>\n",
       "    </tr>\n",
       "    <tr>\n",
       "      <th>100834</th>\n",
       "      <td>610</td>\n",
       "      <td>168252</td>\n",
       "      <td>5.0</td>\n",
       "      <td>1493846352</td>\n",
       "    </tr>\n",
       "    <tr>\n",
       "      <th>100835</th>\n",
       "      <td>610</td>\n",
       "      <td>170875</td>\n",
       "      <td>3.0</td>\n",
       "      <td>1493846415</td>\n",
       "    </tr>\n",
       "  </tbody>\n",
       "</table>\n",
       "<p>100836 rows × 4 columns</p>\n",
       "</div>"
      ],
      "text/plain": [
       "        userId  movieId  rating   timestamp\n",
       "0            1        1     4.0   964982703\n",
       "1            1        3     4.0   964981247\n",
       "2            1        6     4.0   964982224\n",
       "3            1       47     5.0   964983815\n",
       "4            1       50     5.0   964982931\n",
       "...        ...      ...     ...         ...\n",
       "100831     610   166534     4.0  1493848402\n",
       "100832     610   168248     5.0  1493850091\n",
       "100833     610   168250     5.0  1494273047\n",
       "100834     610   168252     5.0  1493846352\n",
       "100835     610   170875     3.0  1493846415\n",
       "\n",
       "[100836 rows x 4 columns]"
      ]
     },
     "execution_count": 2,
     "metadata": {},
     "output_type": "execute_result"
    }
   ],
   "source": [
    "ratings = pd.read_csv(\"../data/ml-latest-small/ratings.csv\")\n",
    "ratings"
   ]
  },
  {
   "cell_type": "markdown",
   "metadata": {},
   "source": [
    "Surprise\n",
    "\n",
    "Necesita un Reader, que pone una escala para el rating"
   ]
  },
  {
   "cell_type": "code",
   "execution_count": 3,
   "metadata": {},
   "outputs": [],
   "source": [
    "reader = Reader(rating_scale=(ratings.rating.min(), ratings.rating.max()))\n",
    "\n",
    "ratings = Dataset.load_from_df(ratings[[\"userId\", \"movieId\", \"rating\"]], reader)"
   ]
  },
  {
   "cell_type": "code",
   "execution_count": 4,
   "metadata": {
    "slideshow": {
     "slide_type": "-"
    }
   },
   "outputs": [
    {
     "name": "stdout",
     "output_type": "stream",
     "text": [
      "Computing the msd similarity matrix...\n",
      "Done computing similarity matrix.\n",
      "RMSE on test: 0.9300\n"
     ]
    }
   ],
   "source": [
    "ratings_train, ratings_test = train_test_split(ratings, test_size=0.2)\n",
    "model = KNNWithMeans(k=5).fit(ratings_train)\n",
    "predictions = model.test(ratings_test)\n",
    "print(\"RMSE on test: {:.4f}\".format(rmse(predictions, verbose=False)))"
   ]
  },
  {
   "cell_type": "markdown",
   "metadata": {},
   "source": [
    "Este modelo, tiene la caracteristica de que siempre devuelve un valor\n",
    "si el item o el id no son conocidos este devuelve la media \n",
    "de los ratings"
   ]
  },
  {
   "cell_type": "markdown",
   "metadata": {
    "slideshow": {
     "slide_type": "subslide"
    }
   },
   "source": [
    "### Surpr!se: Cross Validation"
   ]
  },
  {
   "cell_type": "code",
   "execution_count": 5,
   "metadata": {
    "slideshow": {
     "slide_type": "-"
    }
   },
   "outputs": [
    {
     "name": "stdout",
     "output_type": "stream",
     "text": [
      "Evaluating RMSE, MAE of algorithm KNNWithMeans on 5 split(s).\n",
      "\n",
      "                  Fold 1  Fold 2  Fold 3  Fold 4  Fold 5  Mean    Std     \n",
      "RMSE (testset)    0.9277  0.9257  0.9220  0.9337  0.9333  0.9285  0.0045  \n",
      "MAE (testset)     0.7142  0.7129  0.7084  0.7194  0.7183  0.7147  0.0040  \n",
      "Fit time          0.20    0.34    0.18    0.51    0.37    0.32    0.12    \n",
      "Test time         0.89    1.36    0.94    1.17    1.12    1.10    0.17    \n"
     ]
    }
   ],
   "source": [
    "model = KNNWithMeans(k=5, verbose=False)\n",
    "cross_validated_metrics = cross_validate(\n",
    "    model, ratings, measures=['RMSE', 'MAE'], cv=5, verbose=True\n",
    ")"
   ]
  },
  {
   "cell_type": "markdown",
   "metadata": {},
   "source": [
    "obtener 10 peliculas para el usuario en base a una pelicula 1 que le \n",
    "gusto.\n",
    "\n",
    "Obtiene 10 vecinos mas cercanos a la pelicula 10"
   ]
  },
  {
   "cell_type": "code",
   "execution_count": 6,
   "metadata": {},
   "outputs": [
    {
     "data": {
      "text/plain": [
       "[9, 10, 31, 121, 134, 144, 151, 161, 173, 185]"
      ]
     },
     "execution_count": 6,
     "metadata": {},
     "output_type": "execute_result"
    }
   ],
   "source": [
    "model.get_neighbors(1, 10)"
   ]
  },
  {
   "cell_type": "markdown",
   "metadata": {
    "slideshow": {
     "slide_type": "subslide"
    }
   },
   "source": [
    "## Filtrado basado en contenido\n",
    "\n",
    "- En lugar de utilizar los ratings, utilizamos la **información del contenido**.\n",
    "    - Metadatos como tema, descripción, género, etc.\n",
    "- Dependen mucho del **tipo de los datos**.\n",
    "    - Las películas tienen directores y actores. Podemos recomendar películas similares en base a actores que tengan en común.\n",
    "- Requiere de tres aspectos:\n",
    "    1. Analizador de contenido: Crea un modelo basado en la información de los items.\n",
    "    2. Perfil del usuario: Genera un perfil del usuario en base al contenido consumido. E.g. una lista de películas vistas.\n",
    "    3. Recuperación de contenido: Recomienda contenido basado en la similitud del perfil del usuario con el perfil de los items. E.g. iterando y comparando uno a uno los elementos de la lista."
   ]
  },
  {
   "cell_type": "markdown",
   "metadata": {
    "slideshow": {
     "slide_type": "subslide"
    }
   },
   "source": [
    "### Analizador de contenido\n",
    "\n",
    "- Se busca **describir los datos mediante sus metadatos**.\n",
    "- Puede dividirse entre **hechos** y **etiquetas** (tags).\n",
    "- Los **hechos** son indiscutibles, tienen que ver con los datos en sí. E.g. director o actor de una película.\n",
    "- Las **etiquetas** generalmente se piensan en cómo los usuarios **categorizan los items**. E.g. una lista de Spotify para **levantar el ánimo**.\n",
    "- **No hay división clara**. Pero los hechos tienden a ser menos subjetivos. Las etiquetas dependen más del usuario."
   ]
  },
  {
   "cell_type": "markdown",
   "metadata": {
    "slideshow": {
     "slide_type": "subslide"
    }
   },
   "source": [
    "### Vector del contenido\n",
    "\n",
    "- El analizador de contenido busca **representar items mediante vectores**.\n",
    "    - En filtrado colaborativo el **vector está dado por ratings**.\n",
    "    - Acá el vector es **producido mediante características**.\n",
    "- Se lo puede pensar como una **ingeniería de atributos** de aprendizaje automático.\n",
    "    - Los atributos pueden ser binarios, categóricos, cuantitativos, etc."
   ]
  },
  {
   "cell_type": "markdown",
   "metadata": {
    "slideshow": {
     "slide_type": "subslide"
    }
   },
   "source": [
    "### Vector del contenido: uso del texto\n",
    "\n",
    "- Muchas veces los **metadatos están en el texto** (e.g. título o descripción).\n",
    "- Las **técnicas clásicas de NLP** sirven para lidiar con esto.\n",
    "- Buscamos representar una descripción mediante una **bolsa de palabras**.\n",
    "    - Requerimos de un paso previo de **tokenización**.\n",
    "    - Generamos un **vector donde cada dimensión representa una palabra y el valor representa el conteo**.\n",
    "    - Es útil eliminar las **palabras vacías**."
   ]
  },
  {
   "cell_type": "markdown",
   "metadata": {
    "slideshow": {
     "slide_type": "subslide"
    }
   },
   "source": [
    "### Vector del contenido: TF-IDF\n",
    "\n",
    "- Podemos utilizar **TF-IDF** para reponderar de acuerdo a la **importancia de los términos**.\n",
    "- term frequency–inverse document frequency\n",
    "- La idea es **pesar una palabra en un metadato** de acuerdo a que tanto ocurre en todos los metadatos.\n",
    "\n",
    "$$\n",
    "    \\text{tf-idf}(w, d) = f_{w,d} \\times \\text{idf}(w)\n",
    "$$\n",
    "\n",
    "$$\n",
    "    \\text{idf}(w) = \\frac{|D|}{|\\{d \\in D : w \\in d\\}|}\n",
    "$$\n",
    "\n",
    "- $w$: Es una palabra.\n",
    "- $d$: Es un documento.\n",
    "- $f_{w,d}$: Es la cantidad de veces que $w$ ocurre en $d$.\n",
    "- $D$: Es el conjunto de todos los documentos.\n",
    "\n",
    "Esta tecinca es utilizada para repesar la importancia de las\n",
    "palabras mediante la importancia de los terminos.\n",
    "\n",
    "La idea es ver que tanto ocurre una palabra en un documento \n",
    "(term frequency) vs. que tanto ocurre la misma palabra en \n",
    "el todos los otros documento.\n",
    "\n",
    "Palabras que ocurren mucho en un solo documento van a ser\n",
    "mas identificadoras de ese documento. y palabras que ocurren \n",
    "mucho en mucho docuemntos no son idenficadoras y no tienen tanta \n",
    "relevancia."
   ]
  },
  {
   "cell_type": "markdown",
   "metadata": {
    "slideshow": {
     "slide_type": "subslide"
    }
   },
   "source": [
    "### Otras técnicas: LDA, LSA, word2vec\n",
    "\n",
    "- Otras formas de representar datos es mediante otras técnicas de NLP.\n",
    "- LDA permite **representar los documentos mediante temas**. Los temas son representados mediante **palabras**.\n",
    "- LSA (o LSI) obtiene **variables latentes entre documentos**. Busca encontrar relaciones que no están a simple vista.\n",
    "- word2vec es un **algoritmo para representar palabras** basado en información de co-ocurrencia.\n",
    "\n",
    "Es una tecnica de aprendizajo no supervisado. Consite en dividir el \n",
    "documento en temas y los temas en palabras. \n",
    "\n",
    "**LDA**: Trata de encontrar correlaciones entre palabras y temas, \n",
    "topic analisis. Las palabras tiene pesos por temas, y esos pesos \n",
    "determinan que tan ligado esta a un tema o topic.\n",
    "\n",
    "**LSA o LSI**: Usando SVD, Ejm. Bizcocho = Crillito, pero los dos aparecen junto con factura, pero no aparecen juntas. \n",
    "Entonces la idea es encontrar la relacion entre estas dos palabras\n",
    "ya que ocurren en contextos similares.\n",
    "\n",
    "**word2vec**: a grandes rasgos, encontrar la probabilidad de que \n",
    "ocurra un palabra dada la ocurrencia de otra.\n",
    "Para este caso se obtiene mas informacion latente que no es \n",
    "posible ver a simple vista.\n",
    "\n",
    "Sin importar la tecnica la idea es representar un texto como un vector\n",
    "para pasarselo al algoritmo."
   ]
  },
  {
   "cell_type": "markdown",
   "metadata": {
    "slideshow": {
     "slide_type": "subslide"
    }
   },
   "source": [
    "### Matriz de contenido: Ejemplo\n",
    "\n",
    "<img alt=\"Content Matrix\" src=\"https://raw.githubusercontent.com/DiploDatos/SistemasDeRecomendacion/master/teorico/img/movies-matrix.png\" style=\"width:80%;margin:auto;\"/>"
   ]
  },
  {
   "cell_type": "markdown",
   "metadata": {
    "slideshow": {
     "slide_type": "subslide"
    }
   },
   "source": [
    "### Crear el perfil de usuario\n",
    "\n",
    "- Ya habiendo creado el vector de contenido necesitamos crear **el perfil de usuario**.\n",
    "- Se puede hacer **sumando los vectores de contenido con los que el usuario interactuó**.\n",
    "    - Es sensato **normalizar este vectors**.\n",
    "- El vector final **sirve para encontrar contenido similar para el usuario**."
   ]
  },
  {
   "cell_type": "markdown",
   "metadata": {
    "slideshow": {
     "slide_type": "subslide"
    }
   },
   "source": [
    "### Perfil de usuario: Ejemplo\n",
    "\n",
    "- Suponiendo que el usuario haya puesto 5 estrellas para \"Raiders of the Lost Ark\" y 3 para \"La La Land\".\n",
    "\n",
    "<img alt=\"User Profile\" src=\"https://raw.githubusercontent.com/DiploDatos/SistemasDeRecomendacion/master/teorico/img/user-content.png\" style=\"width:80%;margin:auto;\"/>"
   ]
  },
  {
   "cell_type": "markdown",
   "metadata": {
    "slideshow": {
     "slide_type": "subslide"
    }
   },
   "source": [
    "### Ejemplo: Géneros de películas "
   ]
  },
  {
   "cell_type": "code",
   "execution_count": 7,
   "metadata": {
    "slideshow": {
     "slide_type": "-"
    }
   },
   "outputs": [
    {
     "data": {
      "text/html": [
       "<div>\n",
       "<style scoped>\n",
       "    .dataframe tbody tr th:only-of-type {\n",
       "        vertical-align: middle;\n",
       "    }\n",
       "\n",
       "    .dataframe tbody tr th {\n",
       "        vertical-align: top;\n",
       "    }\n",
       "\n",
       "    .dataframe thead th {\n",
       "        text-align: right;\n",
       "    }\n",
       "</style>\n",
       "<table border=\"1\" class=\"dataframe\">\n",
       "  <thead>\n",
       "    <tr style=\"text-align: right;\">\n",
       "      <th></th>\n",
       "      <th>movieId</th>\n",
       "      <th>title</th>\n",
       "      <th>genres</th>\n",
       "    </tr>\n",
       "  </thead>\n",
       "  <tbody>\n",
       "    <tr>\n",
       "      <th>0</th>\n",
       "      <td>1</td>\n",
       "      <td>Toy Story (1995)</td>\n",
       "      <td>[Adventure, Animation, Children, Comedy, Fantasy]</td>\n",
       "    </tr>\n",
       "    <tr>\n",
       "      <th>1</th>\n",
       "      <td>2</td>\n",
       "      <td>Jumanji (1995)</td>\n",
       "      <td>[Adventure, Children, Fantasy]</td>\n",
       "    </tr>\n",
       "    <tr>\n",
       "      <th>2</th>\n",
       "      <td>3</td>\n",
       "      <td>Grumpier Old Men (1995)</td>\n",
       "      <td>[Comedy, Romance]</td>\n",
       "    </tr>\n",
       "    <tr>\n",
       "      <th>3</th>\n",
       "      <td>4</td>\n",
       "      <td>Waiting to Exhale (1995)</td>\n",
       "      <td>[Comedy, Drama, Romance]</td>\n",
       "    </tr>\n",
       "    <tr>\n",
       "      <th>4</th>\n",
       "      <td>5</td>\n",
       "      <td>Father of the Bride Part II (1995)</td>\n",
       "      <td>[Comedy]</td>\n",
       "    </tr>\n",
       "  </tbody>\n",
       "</table>\n",
       "</div>"
      ],
      "text/plain": [
       "   movieId                               title  \\\n",
       "0        1                    Toy Story (1995)   \n",
       "1        2                      Jumanji (1995)   \n",
       "2        3             Grumpier Old Men (1995)   \n",
       "3        4            Waiting to Exhale (1995)   \n",
       "4        5  Father of the Bride Part II (1995)   \n",
       "\n",
       "                                              genres  \n",
       "0  [Adventure, Animation, Children, Comedy, Fantasy]  \n",
       "1                     [Adventure, Children, Fantasy]  \n",
       "2                                  [Comedy, Romance]  \n",
       "3                           [Comedy, Drama, Romance]  \n",
       "4                                           [Comedy]  "
      ]
     },
     "execution_count": 7,
     "metadata": {},
     "output_type": "execute_result"
    }
   ],
   "source": [
    "movies = pd.read_csv(\"../data/ml-latest-small/movies.csv\")\n",
    "movies['genres'] = movies['genres'].apply(lambda x: x.split(\"|\"))\n",
    "movies.head()"
   ]
  },
  {
   "cell_type": "markdown",
   "metadata": {
    "slideshow": {
     "slide_type": "subslide"
    }
   },
   "source": [
    "### Ejemplo: Géneros de películas - Vector de contenido"
   ]
  },
  {
   "cell_type": "code",
   "execution_count": 8,
   "metadata": {
    "slideshow": {
     "slide_type": "-"
    }
   },
   "outputs": [
    {
     "data": {
      "text/html": [
       "<div>\n",
       "<style scoped>\n",
       "    .dataframe tbody tr th:only-of-type {\n",
       "        vertical-align: middle;\n",
       "    }\n",
       "\n",
       "    .dataframe tbody tr th {\n",
       "        vertical-align: top;\n",
       "    }\n",
       "\n",
       "    .dataframe thead th {\n",
       "        text-align: right;\n",
       "    }\n",
       "</style>\n",
       "<table border=\"1\" class=\"dataframe\">\n",
       "  <thead>\n",
       "    <tr style=\"text-align: right;\">\n",
       "      <th></th>\n",
       "      <th>IMAX</th>\n",
       "      <th>(no genres listed)</th>\n",
       "      <th>Musical</th>\n",
       "      <th>Documentary</th>\n",
       "      <th>Adventure</th>\n",
       "      <th>Sci-Fi</th>\n",
       "      <th>Children</th>\n",
       "      <th>Film-Noir</th>\n",
       "      <th>Romance</th>\n",
       "      <th>Comedy</th>\n",
       "      <th>Thriller</th>\n",
       "      <th>Drama</th>\n",
       "      <th>Crime</th>\n",
       "      <th>Animation</th>\n",
       "      <th>Mystery</th>\n",
       "      <th>Horror</th>\n",
       "      <th>War</th>\n",
       "      <th>Fantasy</th>\n",
       "      <th>Western</th>\n",
       "      <th>Action</th>\n",
       "    </tr>\n",
       "  </thead>\n",
       "  <tbody>\n",
       "    <tr>\n",
       "      <th>0</th>\n",
       "      <td>0</td>\n",
       "      <td>0</td>\n",
       "      <td>0</td>\n",
       "      <td>0</td>\n",
       "      <td>1</td>\n",
       "      <td>0</td>\n",
       "      <td>1</td>\n",
       "      <td>0</td>\n",
       "      <td>0</td>\n",
       "      <td>1</td>\n",
       "      <td>0</td>\n",
       "      <td>0</td>\n",
       "      <td>0</td>\n",
       "      <td>1</td>\n",
       "      <td>0</td>\n",
       "      <td>0</td>\n",
       "      <td>0</td>\n",
       "      <td>1</td>\n",
       "      <td>0</td>\n",
       "      <td>0</td>\n",
       "    </tr>\n",
       "    <tr>\n",
       "      <th>1</th>\n",
       "      <td>0</td>\n",
       "      <td>0</td>\n",
       "      <td>0</td>\n",
       "      <td>0</td>\n",
       "      <td>1</td>\n",
       "      <td>0</td>\n",
       "      <td>1</td>\n",
       "      <td>0</td>\n",
       "      <td>0</td>\n",
       "      <td>0</td>\n",
       "      <td>0</td>\n",
       "      <td>0</td>\n",
       "      <td>0</td>\n",
       "      <td>0</td>\n",
       "      <td>0</td>\n",
       "      <td>0</td>\n",
       "      <td>0</td>\n",
       "      <td>1</td>\n",
       "      <td>0</td>\n",
       "      <td>0</td>\n",
       "    </tr>\n",
       "    <tr>\n",
       "      <th>2</th>\n",
       "      <td>0</td>\n",
       "      <td>0</td>\n",
       "      <td>0</td>\n",
       "      <td>0</td>\n",
       "      <td>0</td>\n",
       "      <td>0</td>\n",
       "      <td>0</td>\n",
       "      <td>0</td>\n",
       "      <td>1</td>\n",
       "      <td>1</td>\n",
       "      <td>0</td>\n",
       "      <td>0</td>\n",
       "      <td>0</td>\n",
       "      <td>0</td>\n",
       "      <td>0</td>\n",
       "      <td>0</td>\n",
       "      <td>0</td>\n",
       "      <td>0</td>\n",
       "      <td>0</td>\n",
       "      <td>0</td>\n",
       "    </tr>\n",
       "    <tr>\n",
       "      <th>3</th>\n",
       "      <td>0</td>\n",
       "      <td>0</td>\n",
       "      <td>0</td>\n",
       "      <td>0</td>\n",
       "      <td>0</td>\n",
       "      <td>0</td>\n",
       "      <td>0</td>\n",
       "      <td>0</td>\n",
       "      <td>1</td>\n",
       "      <td>1</td>\n",
       "      <td>0</td>\n",
       "      <td>1</td>\n",
       "      <td>0</td>\n",
       "      <td>0</td>\n",
       "      <td>0</td>\n",
       "      <td>0</td>\n",
       "      <td>0</td>\n",
       "      <td>0</td>\n",
       "      <td>0</td>\n",
       "      <td>0</td>\n",
       "    </tr>\n",
       "    <tr>\n",
       "      <th>4</th>\n",
       "      <td>0</td>\n",
       "      <td>0</td>\n",
       "      <td>0</td>\n",
       "      <td>0</td>\n",
       "      <td>0</td>\n",
       "      <td>0</td>\n",
       "      <td>0</td>\n",
       "      <td>0</td>\n",
       "      <td>0</td>\n",
       "      <td>1</td>\n",
       "      <td>0</td>\n",
       "      <td>0</td>\n",
       "      <td>0</td>\n",
       "      <td>0</td>\n",
       "      <td>0</td>\n",
       "      <td>0</td>\n",
       "      <td>0</td>\n",
       "      <td>0</td>\n",
       "      <td>0</td>\n",
       "      <td>0</td>\n",
       "    </tr>\n",
       "  </tbody>\n",
       "</table>\n",
       "</div>"
      ],
      "text/plain": [
       "   IMAX  (no genres listed)  Musical  Documentary  Adventure  Sci-Fi  \\\n",
       "0     0                   0        0            0          1       0   \n",
       "1     0                   0        0            0          1       0   \n",
       "2     0                   0        0            0          0       0   \n",
       "3     0                   0        0            0          0       0   \n",
       "4     0                   0        0            0          0       0   \n",
       "\n",
       "   Children  Film-Noir  Romance  Comedy  Thriller  Drama  Crime  Animation  \\\n",
       "0         1          0        0       1         0      0      0          1   \n",
       "1         1          0        0       0         0      0      0          0   \n",
       "2         0          0        1       1         0      0      0          0   \n",
       "3         0          0        1       1         0      1      0          0   \n",
       "4         0          0        0       1         0      0      0          0   \n",
       "\n",
       "   Mystery  Horror  War  Fantasy  Western  Action  \n",
       "0        0       0    0        1        0       0  \n",
       "1        0       0    0        1        0       0  \n",
       "2        0       0    0        0        0       0  \n",
       "3        0       0    0        0        0       0  \n",
       "4        0       0    0        0        0       0  "
      ]
     },
     "execution_count": 8,
     "metadata": {},
     "output_type": "execute_result"
    }
   ],
   "source": [
    "genres = set(g for G in movies['genres'] for g in G)\n",
    "\n",
    "for g in genres:\n",
    "    movies[g] = movies.genres.transform(lambda x: int(g in x))\n",
    "    \n",
    "movie_genres = movies.drop(columns=['movieId', 'title','genres'])\n",
    "movie_genres.head()"
   ]
  },
  {
   "cell_type": "markdown",
   "metadata": {
    "slideshow": {
     "slide_type": "subslide"
    }
   },
   "source": [
    "### Ejemplo: Géneros de película - Similitud entre géneros\n",
    "\n",
    "Similar a la matriz de correlacion."
   ]
  },
  {
   "cell_type": "code",
   "execution_count": 9,
   "metadata": {
    "slideshow": {
     "slide_type": "-"
    }
   },
   "outputs": [
    {
     "data": {
      "text/plain": [
       "(9742, 9742)"
      ]
     },
     "execution_count": 9,
     "metadata": {},
     "output_type": "execute_result"
    }
   ],
   "source": [
    "from sklearn.metrics.pairwise import cosine_similarity\n",
    "\n",
    "cosine_sim = cosine_similarity(movie_genres, movie_genres)\n",
    "cosine_sim.shape"
   ]
  },
  {
   "cell_type": "markdown",
   "metadata": {
    "slideshow": {
     "slide_type": "subslide"
    }
   },
   "source": [
    "### Ejemplo: Géneros de película - Sistema de recomendación\n",
    "\n",
    "Sistema de reomendacion simple\n",
    "\n",
    "Uno le pasa el titulo de la pelicula y a partir del titulo \n",
    "trata de generar el mejor contenido.\n",
    " 1. A partir del titulo obtengo el indice de la pelicula en la\n",
    "    matriz de similitud\n",
    " 2. Busco los similaritis scores, de acuerdo a los generos.\n",
    " 3. Se ordenan los generos en funcion del similitud coseno.\n",
    " 4. Obtengo las N recomendacion a partir del indice 1, \n",
    "    ya que 0 es la misma pelicula."
   ]
  },
  {
   "cell_type": "code",
   "execution_count": 10,
   "metadata": {
    "slideshow": {
     "slide_type": "-"
    }
   },
   "outputs": [
    {
     "name": "stdout",
     "output_type": "stream",
     "text": [
      "Recomendaciones para Toy Story (1995):\n",
      "\tAntz (1998)\n",
      "\tToy Story 2 (1999)\n",
      "\tAdventures of Rocky and Bullwinkle, The (2000)\n",
      "\tEmperor's New Groove, The (2000)\n",
      "\tMonsters, Inc. (2001)\n"
     ]
    }
   ],
   "source": [
    "def movie_finder(title):\n",
    "    return movies[movies['title'].str.contains(title)]['title'].tolist()\n",
    "\n",
    "movie_idx = dict(zip(movies['title'], list(movies.index)))\n",
    "title = movie_finder('Toy Story')[0]\n",
    "n_recommendations = 5\n",
    "\n",
    "idx = movie_idx[title]\n",
    "sim_scores = list(enumerate(cosine_sim[idx]))\n",
    "sim_scores = sorted(sim_scores, key=lambda x: x[1], reverse=True)\n",
    "sim_scores = sim_scores[1:(n_recommendations+1)]\n",
    "similar_movies = [i[0] for i in sim_scores]\n",
    "\n",
    "print(\"Recomendaciones para {}:\".format(title))\n",
    "for movie in movies['title'].iloc[similar_movies]:\n",
    "    print(\"\\t{}\".format(movie))"
   ]
  },
  {
   "cell_type": "markdown",
   "metadata": {
    "slideshow": {
     "slide_type": "subslide"
    }
   },
   "source": [
    "## Factorización de matrices\n",
    "\n",
    "- Se busca **reducir dimensiones** de manera que se elimine el ruido.\n",
    "  Ej. Eliminar usuarios trolls\n",
    "- Las dimensiones más importantes, que quedan cuando se reducen las demás, se llaman **factores latentes**.\n",
    "    - La idea es representar usuario y contenido a través de factores latentes.\n",
    "    - Nuevos usuarios (o items), con cierto contenido inicial, son fácilmente agregados.\n",
    "- El **algoritmo de SVD** del álgebra lineal nos brinda esa oportunidad."
   ]
  },
  {
   "cell_type": "markdown",
   "metadata": {
    "slideshow": {
     "slide_type": "subslide"
    }
   },
   "source": [
    "### Algoritmo de SVD\n",
    "\n",
    "- **M** es la matriz de ratings.\n",
    "- **U** es la matriz de características de usuarios.\n",
    "- **$\\sigma$** es la matriz de valores singulares.\n",
    "- **V$^T$** es la matriz de características de items.\n",
    "\n",
    "<img alt=\"SVD\" src=\"https://raw.githubusercontent.com/DiploDatos/SistemasDeRecomendacion/master/teorico/img/svd.png\" style=\"width:80%;margin:auto;\"/>"
   ]
  },
  {
   "cell_type": "markdown",
   "metadata": {
    "slideshow": {
     "slide_type": "subslide"
    }
   },
   "source": [
    "### Algoritmo de SVD\n",
    "\n",
    "- Elegimos **r** valores singulares.\n",
    "\n",
    "  No hay una formula general de elegir r, cuanto mas grande es \n",
    "  mas informacion, pero tambien mas ruido.\n",
    "\n",
    "<img alt=\"Truncated SVD\" src=\"https://raw.githubusercontent.com/DiploDatos/SistemasDeRecomendacion/master/teorico/img/truncated-svd.png\" style=\"width:80%;margin:auto;\"/>"
   ]
  },
  {
   "cell_type": "markdown",
   "metadata": {
    "slideshow": {
     "slide_type": "subslide"
    }
   },
   "source": [
    "### Algoritmo de SVD\n",
    "\n",
    "- Podemos calcular valores faltantes en base a los vectores de representación.\n",
    "\n",
    "<img alt=\"SVD Calculation\" src=\"https://raw.githubusercontent.com/DiploDatos/SistemasDeRecomendacion/master/teorico/img/svd-calculation.png\" style=\"width:80%;margin:auto;\"/>\n",
    "\n",
    "El producto punto es el rate que el algoritmo estima. para ese usuario\n",
    "es muy util cuando tengo un usuario nuevo."
   ]
  },
  {
   "cell_type": "markdown",
   "metadata": {
    "slideshow": {
     "slide_type": "subslide"
    }
   },
   "source": [
    "### Ejemplo: Películas\n",
    "\n",
    "<img alt=\"Movie Ratings\" src=\"https://raw.githubusercontent.com/DiploDatos/SistemasDeRecomendacion/master/teorico/img/movie-matrix-ratings.png\" style=\"width:75%;margin:auto;\"/>"
   ]
  },
  {
   "cell_type": "markdown",
   "metadata": {
    "slideshow": {
     "slide_type": "subslide"
    }
   },
   "source": [
    "### Ejemplo: Películas\n",
    "\n",
    "<img alt=\"Movie SVD\" src=\"https://raw.githubusercontent.com/DiploDatos/SistemasDeRecomendacion/master/teorico/img/movie-matrix-svd.png\" style=\"width:80%;margin:auto;\"/>\n",
    "\n",
    "\n",
    "La caracteriztica que tiene SVD es que asigna a los items no calificados el valor de 0, entonces. calificando a al item el valor\n",
    "mas bajo. cuando esta no fue calificada.\n",
    "\n",
    "Un tratamiento. puede ser rellenar esos valores con la media.\n",
    "o centrar las calificaciones en 0. restando por la media."
   ]
  },
  {
   "cell_type": "markdown",
   "metadata": {
    "slideshow": {
     "slide_type": "subslide"
    }
   },
   "source": [
    "### Ejemplo: Películas\n",
    "\n",
    "<img alt=\"Movie SVD\" src=\"https://raw.githubusercontent.com/DiploDatos/SistemasDeRecomendacion/master/teorico/img/movie-matrix-factorization.png\" style=\"width:40%;margin:auto;\"/>"
   ]
  },
  {
   "cell_type": "markdown",
   "metadata": {
    "slideshow": {
     "slide_type": "subslide"
    }
   },
   "source": [
    "### Algoritmo de Simon Funk\n",
    "\n",
    "- El algoritmo de SVD **tiene algunos problemas**:\n",
    "    - Calcular y actualizarlo es lento.\n",
    "    - Necesariamente requiere valores para reemplazar los lugares vacíos.\n",
    "- Simon Funk desarrolló [un algoritmo](https://sifter.org/~simon/journal/20061211.html) que a grandes razgos **calcula SVD iterativamente**.\n",
    "- La idea es definir una **función hipótesis y una función de coste**.\n",
    "- Una vez definidas, **se minimiza** la función de coste respecto de los parámetros de la función hipótesis.\n",
    "- Se puede **entrenar** como un algoritmo supervisado mediante **descenso por la gradiente**."
   ]
  },
  {
   "cell_type": "markdown",
   "metadata": {
    "slideshow": {
     "slide_type": "subslide"
    }
   },
   "source": [
    "### Algoritmo de Simon Funk: Hipótesis\n",
    "\n",
    "- Se define la función de hipótesis para un rating de un usuario a un item como:\n",
    "\n",
    "$$\n",
    "    \\hat{r}_{i,u} = \\mu + b_u + b_i + q_i^Tp_u\n",
    "$$\n",
    "\n",
    "- $\\hat{r}_{i,u}$: Es el rating a calcular.\n",
    "- $\\mu$: Es el promedio de todos los ratings.\n",
    "- $b_u$: Es el sesgo (*bias*) del usuario.\n",
    "- $b_i$: Es el sesgo (*bias*) del item.\n",
    "- $p_u$: Es el vector de factores latentes que representa el usuario $u$.\n",
    "- $q_i$: Es el vector de factores latentes que representa el item $i$."
   ]
  },
  {
   "cell_type": "markdown",
   "metadata": {
    "slideshow": {
     "slide_type": "subslide"
    }
   },
   "source": [
    "### Algoritmo de Simon Funk: Función de costo\n",
    "\n",
    "- Se define la función de costo como:\n",
    "  El error cuadratico medio en el rating real y el predicho.\n",
    "\n",
    "$$\n",
    "    \\sum_{r_{i,u} \\in R_{train}} (r_{i,u} - \\hat{r}_{i,u})^2 + \\lambda\\big(b_i^2 + b_u^2 + ||q_i||^2 + ||p_u||^2\\big)\n",
    "$$\n",
    "\n",
    "- $r_{i,u}$: Son los ratings del conjunto de entrenamiento.\n",
    "- $\\hat{r}_{i,u}$: Es el rating predicho.\n",
    "- $\\mu$: Es el promedio de todos los ratings.\n",
    "- $b_u$: Es el sesgo (*bias*) del usuario.\n",
    "- $b_i$: Es el sesgo (*bias*) del item.\n",
    "- $p_u$: Es el vector de factores latentes que representa el usuario $u$.\n",
    "- $q_i$: Es el vector de factores latentes que representa el item $i$."
   ]
  },
  {
   "cell_type": "markdown",
   "metadata": {
    "slideshow": {
     "slide_type": "subslide"
    }
   },
   "source": [
    "### Surpr!se"
   ]
  },
  {
   "cell_type": "code",
   "execution_count": 11,
   "metadata": {
    "slideshow": {
     "slide_type": "-"
    }
   },
   "outputs": [
    {
     "name": "stdout",
     "output_type": "stream",
     "text": [
      "RMSE on test: 0.8720\n"
     ]
    }
   ],
   "source": [
    "from surprise import SVD\n",
    "# n_factor = r\n",
    "\n",
    "model = SVD(\n",
    "    n_factors=100, n_epochs=20, random_state=42\n",
    ").fit(ratings_train)\n",
    "\n",
    "predictions = model.test(ratings_test)\n",
    "print(\"RMSE on test: {:.4f}\".format(rmse(predictions, verbose=False)))"
   ]
  },
  {
   "cell_type": "markdown",
   "metadata": {
    "slideshow": {
     "slide_type": "subslide"
    }
   },
   "source": [
    "### Otros algoritmos de factorización\n",
    "\n",
    "- SVD++ que es una extensión de SVD, que tiene en cuenta ratings implícitos.\n",
    "- Non negative matrix factorization (NMF), es muy similar a SVD. Los **factores latentes no son negativos**. (Adrew Ng. Coursera)\n",
    "- Ambos algoritmos están implementados en Scikit Surprise.\n",
    "\n",
    "Concideraciones\n",
    "\n",
    "RMSE es una metrica ofline, la metrica online es KPI, si RMSE=00\n",
    "pero KPI no mejora. entonces el algorimo no tiene utilidad en el\n",
    "negocio."
   ]
  },
  {
   "cell_type": "markdown",
   "metadata": {
    "slideshow": {
     "slide_type": "slide"
    }
   },
   "source": [
    "# Problemas con sistemas de recomendación"
   ]
  },
  {
   "cell_type": "markdown",
   "metadata": {
    "slideshow": {
     "slide_type": "subslide"
    }
   },
   "source": [
    "## Problema de \"Cold Start\"\n",
    "\n",
    "- Es el **principal problema** con el que lidiar en sistemas de recomendación.\n",
    "- Pasa cuando hay un **nuevo usuario** (o contenido), del que no conocemos nada.\n",
    "- También aplica a **usuarios únicos** (i.e. no parecidos a ningún otro usuario).\n",
    "    - En este caso se lo llama **oveja gris**.\n",
    "- Hay varias maneras de trabajarlo."
   ]
  },
  {
   "cell_type": "markdown",
   "metadata": {
    "slideshow": {
     "slide_type": "subslide"
    }
   },
   "source": [
    "### Problema de \"Cold Start\": Algunas soluciones\n",
    "\n",
    "Factorizacion de matrices y Filtrado colaborativo no son utiles para\n",
    "este caso. Filtrado por item es un poco mas util.\n",
    "\n",
    "- Muchas veces la solución más sencilla es **preguntarle al usuario**.\n",
    "    - Algunos sitios piden algún tipo de rating al subscribirse (e.g. los géneros preferidos de película).\n",
    "    - Depende de la **voluntad del usuario**.\n",
    "    - Opción es **conectar el usuario mediante alguna red social**.\n",
    "- Una opción sencilla es **recomendar lo más popular** y ver el comportamiento.\n",
    "    - E.g. Amazon recomienda \"items que se están buscando ahora\". YouTube muestra \"trendings\".\n",
    "- Para **contenido** se puede agrupar y mostrar con cierta relevancia. \n",
    "    - E.g. la categoría de Netflix para \"New Arrivals\".\n",
    "- Los items suelen ser representables mediante **vectores de contenido** y recomendar mediante **filtrado basado en contenido**.\n",
    "- Una solución es aplicar **reglas de asociación** sobre las interacciones del usuario (e.g. ver los items que fue revisando)"
   ]
  },
  {
   "cell_type": "markdown",
   "metadata": {
    "slideshow": {
     "slide_type": "subslide"
    }
   },
   "source": [
    "### Problema de \"Cold Start\": Sesionización\n",
    "\n",
    "- La idea es llevar **registro de los usuario**.\n",
    "    - E.g. usando cookies o sesiones anónimas.\n",
    "- Se busca **hacer seguimiento de todo lo que hace el usuario**.\n",
    "- Cada sesión se puede **agrupar en un vector**.\n",
    "  Para obtner una mejor informacion del usuario, so se usa toda la\n",
    "  historia del usuario, sino fracciones de la historia del usuario.\n",
    "  Esto nos permite comparar entre interacciones contra otros usuarios.\n",
    " \n",
    "- Se lleva **registro de los vectores y se pueden comparar**.\n",
    "- En general, es mejor **convencer al usuario de registrarse**."
   ]
  },
  {
   "cell_type": "markdown",
   "metadata": {
    "slideshow": {
     "slide_type": "subslide"
    }
   },
   "source": [
    "## Problema de Sesgo\n",
    "\n",
    "- Muchas veces los algoritmos crean **sesgo**.\n",
    "- Aquellas cosas más recomendadas son las **únicas que se recomiendan**.\n",
    "- Una opción es **pesar por tiempo**.\n",
    "    - No siempre es útil, depende del contenido.\n",
    "- Agregar **aleatoriedad**.\n",
    "    - E.g. recomendar algo más que aquel contenido con mayor rating.\n",
    "- Utilizar **recomendaciones no personalizadas**.\n",
    "    - Reglas de asociación. E.g. ¿Qué otros productos compraron con este?\n",
    "    - Ordernar por lo más reciente.\n",
    "- Es un trabajo que tiene que ver más con el **diseño general del sistema** que con el algoritmo."
   ]
  }
 ],
 "metadata": {
  "celltoolbar": "Slideshow",
  "kernelspec": {
   "display_name": "Python 3",
   "language": "python",
   "name": "python3"
  },
  "language_info": {
   "codemirror_mode": {
    "name": "ipython",
    "version": 3
   },
   "file_extension": ".py",
   "mimetype": "text/x-python",
   "name": "python",
   "nbconvert_exporter": "python",
   "pygments_lexer": "ipython3",
   "version": "3.8.6"
  },
  "rise": {
   "scroll": true
  }
 },
 "nbformat": 4,
 "nbformat_minor": 4
}
