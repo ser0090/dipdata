{
 "cells": [
  {
   "cell_type": "markdown",
   "metadata": {
    "id": "Tidee4iU5QAd"
   },
   "source": [
    "# REPRESENTACIÓN DE TEXTO Y RECUPERACIÓN DE TEXTO\n",
    "\n",
    "En primer lugar importamos algunas bibliotecas útiles y descargamos algunos corpus y paquetes populares de nltk."
   ]
  },
  {
   "cell_type": "code",
   "execution_count": 1,
   "metadata": {
    "colab": {
     "base_uri": "https://localhost:8080/"
    },
    "id": "g9H1BxJ-JXI3",
    "outputId": "ca4310f2-1b0e-4207-fe2e-347b907adf75"
   },
   "outputs": [
    {
     "name": "stderr",
     "output_type": "stream",
     "text": [
      "[nltk_data] Downloading collection 'popular'\n",
      "[nltk_data]    | \n",
      "[nltk_data]    | Downloading package cmudict to\n",
      "[nltk_data]    |     /home/sergio/nltk_data...\n",
      "[nltk_data]    |   Package cmudict is already up-to-date!\n",
      "[nltk_data]    | Downloading package gazetteers to\n",
      "[nltk_data]    |     /home/sergio/nltk_data...\n",
      "[nltk_data]    |   Package gazetteers is already up-to-date!\n",
      "[nltk_data]    | Downloading package genesis to\n",
      "[nltk_data]    |     /home/sergio/nltk_data...\n",
      "[nltk_data]    |   Package genesis is already up-to-date!\n",
      "[nltk_data]    | Downloading package gutenberg to\n",
      "[nltk_data]    |     /home/sergio/nltk_data...\n",
      "[nltk_data]    |   Package gutenberg is already up-to-date!\n",
      "[nltk_data]    | Downloading package inaugural to\n",
      "[nltk_data]    |     /home/sergio/nltk_data...\n",
      "[nltk_data]    |   Package inaugural is already up-to-date!\n",
      "[nltk_data]    | Downloading package movie_reviews to\n",
      "[nltk_data]    |     /home/sergio/nltk_data...\n",
      "[nltk_data]    |   Package movie_reviews is already up-to-date!\n",
      "[nltk_data]    | Downloading package names to\n",
      "[nltk_data]    |     /home/sergio/nltk_data...\n",
      "[nltk_data]    |   Package names is already up-to-date!\n",
      "[nltk_data]    | Downloading package shakespeare to\n",
      "[nltk_data]    |     /home/sergio/nltk_data...\n",
      "[nltk_data]    |   Package shakespeare is already up-to-date!\n",
      "[nltk_data]    | Downloading package stopwords to\n",
      "[nltk_data]    |     /home/sergio/nltk_data...\n",
      "[nltk_data]    |   Package stopwords is already up-to-date!\n",
      "[nltk_data]    | Downloading package treebank to\n",
      "[nltk_data]    |     /home/sergio/nltk_data...\n",
      "[nltk_data]    |   Package treebank is already up-to-date!\n",
      "[nltk_data]    | Downloading package twitter_samples to\n",
      "[nltk_data]    |     /home/sergio/nltk_data...\n",
      "[nltk_data]    |   Package twitter_samples is already up-to-date!\n",
      "[nltk_data]    | Downloading package omw to /home/sergio/nltk_data...\n",
      "[nltk_data]    |   Package omw is already up-to-date!\n",
      "[nltk_data]    | Downloading package wordnet to\n",
      "[nltk_data]    |     /home/sergio/nltk_data...\n",
      "[nltk_data]    |   Package wordnet is already up-to-date!\n",
      "[nltk_data]    | Downloading package wordnet_ic to\n",
      "[nltk_data]    |     /home/sergio/nltk_data...\n",
      "[nltk_data]    |   Package wordnet_ic is already up-to-date!\n",
      "[nltk_data]    | Downloading package words to\n",
      "[nltk_data]    |     /home/sergio/nltk_data...\n",
      "[nltk_data]    |   Package words is already up-to-date!\n",
      "[nltk_data]    | Downloading package maxent_ne_chunker to\n",
      "[nltk_data]    |     /home/sergio/nltk_data...\n",
      "[nltk_data]    |   Package maxent_ne_chunker is already up-to-date!\n",
      "[nltk_data]    | Downloading package punkt to\n",
      "[nltk_data]    |     /home/sergio/nltk_data...\n",
      "[nltk_data]    |   Package punkt is already up-to-date!\n",
      "[nltk_data]    | Downloading package snowball_data to\n",
      "[nltk_data]    |     /home/sergio/nltk_data...\n",
      "[nltk_data]    |   Package snowball_data is already up-to-date!\n",
      "[nltk_data]    | Downloading package averaged_perceptron_tagger to\n",
      "[nltk_data]    |     /home/sergio/nltk_data...\n",
      "[nltk_data]    |   Package averaged_perceptron_tagger is already up-\n",
      "[nltk_data]    |       to-date!\n",
      "[nltk_data]    | \n",
      "[nltk_data]  Done downloading collection popular\n"
     ]
    },
    {
     "data": {
      "text/plain": [
       "True"
      ]
     },
     "execution_count": 1,
     "metadata": {},
     "output_type": "execute_result"
    }
   ],
   "source": [
    "import nltk\n",
    "import string\n",
    "import math\n",
    "import numpy\n",
    "import matplotlib\n",
    "\n",
    "nltk.download('popular')"
   ]
  },
  {
   "cell_type": "markdown",
   "metadata": {
    "id": "C90uhFaMneeR"
   },
   "source": [
    "\n",
    "\n",
    "# Ejemplo 1\n",
    "\n",
    "Obtener una lista de palabras clave a partir de un texto.\n",
    "\n",
    "Usaremos el siguiente texto:\n",
    "\n",
    "*The Chinese province at the center of the novel coronavirus outbreak reported a record spike in deaths Thursday, bringing the total number to more than 1300 people globally, as experts warned the epidemic could create havoc in less prepared countries.*\n",
    "\n"
   ]
  },
  {
   "cell_type": "code",
   "execution_count": 2,
   "metadata": {
    "id": "gWDmQ7SoJevb"
   },
   "outputs": [],
   "source": [
    "\n",
    "sentence = \"Iran has moved to stop UN inspections of its nuclear sites and step up uranium enrichment under a new law approved by its parliament.\"\n"
   ]
  },
  {
   "cell_type": "markdown",
   "metadata": {
    "id": "-FVqE79lM5FZ"
   },
   "source": [
    "Separamos el texto en tokens y los representamos en minúscula."
   ]
  },
  {
   "cell_type": "code",
   "execution_count": 3,
   "metadata": {
    "id": "XjaiegV9lvwM"
   },
   "outputs": [],
   "source": [
    "tokens_lowercase = [word.lower() for word in nltk.word_tokenize(sentence)]"
   ]
  },
  {
   "cell_type": "markdown",
   "metadata": {
    "id": "JFcI41mhNjuf"
   },
   "source": [
    "Seleccionamos una lista de \"stopwords\" y un \"stemmer."
   ]
  },
  {
   "cell_type": "code",
   "execution_count": 4,
   "metadata": {
    "id": "2yH7jkCLNgxZ"
   },
   "outputs": [],
   "source": [
    "stopwords = nltk.corpus.stopwords.words('english')\n",
    "stemmer = nltk.stem.PorterStemmer()"
   ]
  },
  {
   "cell_type": "markdown",
   "metadata": {
    "id": "cAGuAVhdOEnZ"
   },
   "source": [
    "Tomamos la lista de tokens y eliminamos los símbolos de puntación, las stopwords y transformamos a cada token en su correpondiente stem. El resultado es una lista de términos."
   ]
  },
  {
   "cell_type": "code",
   "execution_count": 5,
   "metadata": {
    "id": "rCtZ1V26syan"
   },
   "outputs": [
    {
     "data": {
      "text/plain": [
       "['iran',\n",
       " 'move',\n",
       " 'stop',\n",
       " 'un',\n",
       " 'inspect',\n",
       " 'nuclear',\n",
       " 'site',\n",
       " 'step',\n",
       " 'uranium',\n",
       " 'enrich',\n",
       " 'new',\n",
       " 'law',\n",
       " 'approv',\n",
       " 'parliament']"
      ]
     },
     "execution_count": 5,
     "metadata": {},
     "output_type": "execute_result"
    }
   ],
   "source": [
    "terms =[]\n",
    "for token in tokens_lowercase:\n",
    "    # Process each token\n",
    "    if token not in string.punctuation:\n",
    "        if token not in stopwords:\n",
    "            token = stemmer.stem(token)\n",
    "            terms.append(token)\n",
    "terms"
   ]
  },
  {
   "cell_type": "markdown",
   "metadata": {
    "id": "Jtj_zITWRNUE"
   },
   "source": [
    "---\n",
    "# Ejemplo 2\n",
    "\n",
    "Gener una representación vectorial de un pequeño corpus.\n",
    "\n",
    "Creamos un corpus de juguete.\n",
    "\n"
   ]
  },
  {
   "cell_type": "code",
   "execution_count": 6,
   "metadata": {
    "id": "Ls_1g7F_ShqV"
   },
   "outputs": [],
   "source": [
    "d1 = \"El río Danubio pasa por Viena, su color es azul.\"\n",
    "d2 = \"El caudal de un río asciende en Invierno.\"\n",
    "d3 = \"El río Rhin y el río Danubio tienen mucho caudal.\"\n",
    "d4 = \"Si un río es navegable, es porque tiene mucho caudal.\" \n",
    "\n",
    "raw_corpus = [d1,d2,d3,d4]"
   ]
  },
  {
   "cell_type": "markdown",
   "metadata": {
    "id": "Us2BaYjQUBNj"
   },
   "source": [
    "Identificamos el conjunto de términos (palabras clave) del corpus y tranformamos a cada documento en una lista de términos. En este caso optamos por eliminar stopwords (en español) pero no aplicaremos stemming."
   ]
  },
  {
   "cell_type": "code",
   "execution_count": 7,
   "metadata": {
    "id": "RhzJFiaBRiuC"
   },
   "outputs": [],
   "source": [
    "stopwords_spanish = nltk.corpus.stopwords.words('spanish')\n",
    "term_set = set ()\n",
    "corpus =[]\n",
    "for raw_document in raw_corpus:\n",
    "    tokens_lowercase = [word.lower() for word in nltk.word_tokenize(raw_document)]\n",
    "    terms =[]\n",
    "    for token in tokens_lowercase:\n",
    "        if token not in string.punctuation:\n",
    "            if token not in stopwords_spanish:\n",
    "                terms.append(token)\n",
    "                term_set.add(token)        \n",
    "    corpus.append(terms)\n",
    "    \n",
    "num_documents = len(corpus)  \n",
    "num_terms = len(term_set)   "
   ]
  },
  {
   "cell_type": "markdown",
   "metadata": {
    "id": "Jr9nUShvWGle"
   },
   "source": [
    "Creamos un mapeo de términos a números (ids)."
   ]
  },
  {
   "cell_type": "code",
   "execution_count": 8,
   "metadata": {
    "id": "W2jPR9FEV8Gj"
   },
   "outputs": [],
   "source": [
    "term_to_id = {}\n",
    "id = 0\n",
    "for term in term_set:\n",
    "    term_to_id[term] = id\n",
    "    id += 1"
   ]
  },
  {
   "cell_type": "markdown",
   "metadata": {
    "id": "ERA86rNGWFyw"
   },
   "source": [
    "Creamos una matriz TF."
   ]
  },
  {
   "cell_type": "code",
   "execution_count": 9,
   "metadata": {
    "id": "EYhIuBxGWaYJ"
   },
   "outputs": [],
   "source": [
    "tf_matrix = numpy.zeros((num_documents, num_terms))\n",
    "document_id = 0\n",
    "\n",
    "for document in corpus:\n",
    "    for term in set(document):\n",
    "        term_id = term_to_id[term]\n",
    "        tf_matrix[document_id][term_id] = float(document.count(term))\n",
    "    document_id += 1\n"
   ]
  },
  {
   "cell_type": "markdown",
   "metadata": {
    "id": "uy-5x1bvWq2f"
   },
   "source": [
    "Creamos un vector IDF."
   ]
  },
  {
   "cell_type": "code",
   "execution_count": 10,
   "metadata": {
    "id": "2axSZxHUWwDw"
   },
   "outputs": [],
   "source": [
    "idf_vector = numpy.zeros(num_terms)\n",
    "for term in term_set:\n",
    "    term_document_frequency = 0\n",
    "    for document in corpus:\n",
    "        if term in document:\n",
    "            term_document_frequency += 1\n",
    "    \n",
    "    idf_vector[term_to_id[term]] = math.log(float(num_documents) / float(term_document_frequency),10)"
   ]
  },
  {
   "cell_type": "markdown",
   "metadata": {
    "id": "_GD0qV9kZXG2"
   },
   "source": [
    "Creamos la matriz TF-IDF.\n",
    "\n",
    "Producto de la matriz de frecuencia por el vector idf"
   ]
  },
  {
   "cell_type": "code",
   "execution_count": 11,
   "metadata": {
    "id": "2lBt0efTXevh"
   },
   "outputs": [],
   "source": [
    "tfidf_matrix = numpy.multiply(tf_matrix,idf_vector)"
   ]
  },
  {
   "cell_type": "markdown",
   "metadata": {
    "id": "5FrkkhYjecg4"
   },
   "source": [
    "Normalizamos la matrtiz TF-IDF.\n",
    "\n",
    "Es para que los documentos muy grandes, no tengan \n",
    "valores muy altos."
   ]
  },
  {
   "cell_type": "code",
   "execution_count": 12,
   "metadata": {
    "id": "26qw2DO5egdG"
   },
   "outputs": [],
   "source": [
    "normalized_tfidf_matrix = numpy.zeros((num_documents, num_terms))\n",
    "document_id = 0\n",
    "for document in tfidf_matrix:\n",
    "    document_norm = numpy.linalg.norm(document)\n",
    "    normalized_tfidf_matrix[document_id] = [w/document_norm for w in document]\n",
    "    document_id += 1"
   ]
  },
  {
   "cell_type": "markdown",
   "metadata": {
    "id": "aPrgVpRfoZj4"
   },
   "source": [
    "Mostramos resultados."
   ]
  },
  {
   "cell_type": "code",
   "execution_count": 13,
   "metadata": {
    "colab": {
     "base_uri": "https://localhost:8080/"
    },
    "id": "9xkE26XXkD0P",
    "outputId": "a76cac1e-bddb-407c-ad72-a7bf91c79ec1"
   },
   "outputs": [
    {
     "name": "stdout",
     "output_type": "stream",
     "text": [
      "{'río': 0, 'asciende': 1, 'viena': 2, 'danubio': 3, 'invierno': 4, 'color': 5, 'rhin': 6, 'azul': 7, 'navegable': 8, 'caudal': 9, 'pasa': 10, 'si': 11}\n",
      "TF\n",
      "[[1. 0. 1. 1. 0. 1. 0. 1. 0. 0. 1. 0.]\n",
      " [1. 1. 0. 0. 1. 0. 0. 0. 0. 1. 0. 0.]\n",
      " [2. 0. 0. 1. 0. 0. 1. 0. 0. 1. 0. 0.]\n",
      " [1. 0. 0. 0. 0. 0. 0. 0. 1. 1. 0. 1.]]\n",
      "IDF\n",
      "[0.    0.602 0.602 0.301 0.602 0.602 0.602 0.602 0.602 0.125 0.602 0.602]\n",
      "TF_IDF\n",
      "[[0.    0.    0.602 0.301 0.    0.602 0.    0.602 0.    0.    0.602 0.   ]\n",
      " [0.    0.602 0.    0.    0.602 0.    0.    0.    0.    0.125 0.    0.   ]\n",
      " [0.    0.    0.    0.301 0.    0.    0.602 0.    0.    0.125 0.    0.   ]\n",
      " [0.    0.    0.    0.    0.    0.    0.    0.    0.602 0.125 0.    0.602]]\n",
      "TF_IDF NORMALIZADA\n",
      "[[0.    0.    0.485 0.243 0.    0.485 0.    0.485 0.    0.    0.485 0.   ]\n",
      " [0.    0.7   0.    0.    0.7   0.    0.    0.    0.    0.145 0.    0.   ]\n",
      " [0.    0.    0.    0.44  0.    0.    0.879 0.    0.    0.182 0.    0.   ]\n",
      " [0.    0.    0.    0.    0.    0.    0.    0.    0.7   0.145 0.    0.7  ]]\n"
     ]
    }
   ],
   "source": [
    "print(term_to_id)\n",
    "numpy.set_printoptions(precision=3)\n",
    "print('TF')\n",
    "print(tf_matrix)\n",
    "print('IDF')\n",
    "print(idf_vector)\n",
    "print('TF_IDF')\n",
    "print(tfidf_matrix)\n",
    "print('TF_IDF NORMALIZADA')\n",
    "print(normalized_tfidf_matrix)"
   ]
  },
  {
   "cell_type": "markdown",
   "metadata": {
    "id": "VyE4fU6zZrLF"
   },
   "source": [
    "---\n",
    "# Ejemplo 3\n",
    "Generamos una matriz TF-IDF a partir del corpus \"Inaugural\" provisto por nltk.\n",
    "\n"
   ]
  },
  {
   "cell_type": "markdown",
   "metadata": {
    "id": "9qsgdVD6akWd"
   },
   "source": [
    "Identificamos el conjunto de términos (palabras clave) del corpus y transformamos a cada documento en una lista de términos."
   ]
  },
  {
   "cell_type": "code",
   "execution_count": 14,
   "metadata": {
    "id": "z5nWF3T1ZD9M"
   },
   "outputs": [],
   "source": [
    "corpus = []\n",
    "term_set = set ()\n",
    "filenames = []\n",
    "filename_to_id ={}\n",
    "\n",
    "id = 0\n",
    "for filename in nltk.corpus.inaugural.fileids():\n",
    "    filenames.append(filename)\n",
    "    filename_to_id[filename] = id\n",
    "    raw_document = nltk.corpus.inaugural.raw(filename)\n",
    "    tokens_lowercase = [word.lower() for word in nltk.word_tokenize(raw_document)]\n",
    "    terms =[]\n",
    "    for token in tokens_lowercase:\n",
    "        # Process each token\n",
    "        if token not in string.punctuation:\n",
    "            if token not in stopwords:\n",
    "                token = stemmer.stem(token)\n",
    "                terms.append(token)\n",
    "                term_set.add(token)        \n",
    "    corpus.append(terms)\n",
    "    id += 1  \n",
    "num_documents = len(corpus)  \n",
    "num_terms = len(term_set)   "
   ]
  },
  {
   "cell_type": "markdown",
   "metadata": {
    "id": "_75YAGXnapIL"
   },
   "source": [
    "Creamos un mapeo de términos a números (ids)."
   ]
  },
  {
   "cell_type": "code",
   "execution_count": 15,
   "metadata": {
    "id": "2iQg5SS0z6Rn"
   },
   "outputs": [],
   "source": [
    "term_to_id = {}\n",
    "id = 0\n",
    "for term in term_set:\n",
    "  term_to_id[term] = id\n",
    "  id += 1"
   ]
  },
  {
   "cell_type": "markdown",
   "metadata": {
    "id": "nsSZ5FAwasWb"
   },
   "source": [
    "Creamos una matriz TF."
   ]
  },
  {
   "cell_type": "code",
   "execution_count": 16,
   "metadata": {
    "id": "GaY4Tx0E4WRb"
   },
   "outputs": [],
   "source": [
    "tf_matrix = numpy.zeros((num_documents, num_terms))\n",
    "document_id = 0\n",
    "\n",
    "for document in corpus:\n",
    "  for term in set(document):\n",
    "    term_id = term_to_id[term]\n",
    "    tf_matrix[document_id][term_id] = float(document.count(term))\n",
    "  document_id += 1\n"
   ]
  },
  {
   "cell_type": "markdown",
   "metadata": {
    "id": "mattKtaXav8r"
   },
   "source": [
    "Creamos un vector IDF."
   ]
  },
  {
   "cell_type": "code",
   "execution_count": 17,
   "metadata": {
    "id": "Nn_oepQm0Ap0"
   },
   "outputs": [],
   "source": [
    "idf_vector = numpy.zeros(num_terms)\n",
    "for term in term_set:\n",
    "  term_document_frequency = 0\n",
    "  for document in corpus:\n",
    "    if term in document:\n",
    "      term_document_frequency += 1\n",
    "  idf_vector[term_to_id[term]] = math.log(float(num_documents) / float(term_document_frequency),10)"
   ]
  },
  {
   "cell_type": "markdown",
   "metadata": {
    "id": "gk65ICVDa1pD"
   },
   "source": [
    "Creamos la matriz TF-IDF."
   ]
  },
  {
   "cell_type": "code",
   "execution_count": 18,
   "metadata": {
    "id": "mwx1Fco5-VaA"
   },
   "outputs": [],
   "source": [
    "tfidf_matrix = numpy.multiply(tf_matrix,idf_vector)"
   ]
  },
  {
   "cell_type": "markdown",
   "metadata": {
    "id": "wHgsYsUap7qd"
   },
   "source": [
    "Normalizamos la matrtiz TF-IDF."
   ]
  },
  {
   "cell_type": "code",
   "execution_count": 19,
   "metadata": {
    "id": "7ZkAZC4kp8RG"
   },
   "outputs": [],
   "source": [
    "normalized_tfidf_matrix = numpy.zeros((num_documents, num_terms))\n",
    "document_id = 0\n",
    "for document in tfidf_matrix:\n",
    "  document_norm = numpy.linalg.norm(document)\n",
    "  normalized_tfidf_matrix[document_id] = [w/document_norm for w in document]\n",
    "  document_id += 1"
   ]
  },
  {
   "cell_type": "code",
   "execution_count": 20,
   "metadata": {
    "id": "l_oxadYre9IY"
   },
   "outputs": [
    {
     "data": {
      "text/plain": [
       "(58, 5574)"
      ]
     },
     "execution_count": 20,
     "metadata": {},
     "output_type": "execute_result"
    }
   ],
   "source": [
    "normalized_tfidf_matrix.shape"
   ]
  },
  {
   "cell_type": "code",
   "execution_count": 21,
   "metadata": {
    "id": "dd6uqLVnfArS"
   },
   "outputs": [
    {
     "data": {
      "text/plain": [
       "array([[0.   , 0.   , 0.   , ..., 0.   , 0.   , 0.   ],\n",
       "       [0.   , 0.   , 0.   , ..., 0.   , 0.   , 0.   ],\n",
       "       [0.   , 0.   , 0.   , ..., 0.   , 0.   , 0.   ],\n",
       "       ...,\n",
       "       [0.05 , 0.   , 0.   , ..., 0.036, 0.   , 0.   ],\n",
       "       [0.   , 0.   , 0.   , ..., 0.04 , 0.   , 0.   ],\n",
       "       [0.045, 0.   , 0.   , ..., 0.   , 0.   , 0.   ]])"
      ]
     },
     "execution_count": 21,
     "metadata": {},
     "output_type": "execute_result"
    }
   ],
   "source": [
    "normalized_tfidf_matrix"
   ]
  },
  {
   "cell_type": "markdown",
   "metadata": {
    "id": "Lb2SrzsFtTiq"
   },
   "source": [
    "---\n",
    "#Ejemplo 4\n",
    "\n",
    "Determinar qué tan similares son los discursos inagurales de cada presidente de EEUU al de Donald Trump.\n",
    "\n",
    "A partir de la matriz TF-IDF normalizada calculamos la similitud por coseno de cada documento con el documento que representa al discurso de Donald Trump."
   ]
  },
  {
   "cell_type": "code",
   "execution_count": 22,
   "metadata": {
    "id": "s_HcJV2ELWeq"
   },
   "outputs": [],
   "source": [
    "\n",
    "target_document =  normalized_tfidf_matrix[filename_to_id['2017-Trump.txt']]\n",
    "similarities = numpy.zeros(num_documents)\n",
    "document_id = 0\n",
    "for document in normalized_tfidf_matrix:\n",
    "  similarities[document_id] = numpy.dot(document,target_document)\n",
    "  document_id += 1"
   ]
  },
  {
   "cell_type": "markdown",
   "metadata": {
    "id": "PmhXsyLyLbHI"
   },
   "source": [
    "Mostramos un gráfico de barras horizontales representando las similitudes calculadas."
   ]
  },
  {
   "cell_type": "code",
   "execution_count": 23,
   "metadata": {
    "colab": {
     "base_uri": "https://localhost:8080/",
     "height": 672
    },
    "id": "KwjqS9yOLYNx",
    "outputId": "e2276324-3c41-4887-8946-3d0bcb53c505"
   },
   "outputs": [
    {
     "data": {
      "text/plain": [
       "<BarContainer object of 58 artists>"
      ]
     },
     "execution_count": 23,
     "metadata": {},
     "output_type": "execute_result"
    },
    {
     "data": {
      "image/png": "[encoded data removed]",
      "text/plain": [
       "<Figure size 400x800 with 1 Axes>"
      ]
     },
     "metadata": {},
     "output_type": "display_data"
    }
   ],
   "source": [
    "from matplotlib.pyplot import figure\n",
    "figure(num=None, figsize=(5, 10), dpi=80, facecolor='w', edgecolor='k')\n",
    "y_pos = numpy.arange(len(filenames))\n",
    "matplotlib.pyplot.barh(y_pos,similarities,tick_label=filenames)"
   ]
  }
 ],
 "metadata": {
  "colab": {
   "collapsed_sections": [],
   "name": "Representación y recuperación de texto (DiploDatos 2020 UNC-FAMAF).ipynb",
   "provenance": [],
   "toc_visible": true
  },
  "kernelspec": {
   "display_name": "Python 3",
   "language": "python",
   "name": "python3"
  },
  "language_info": {
   "codemirror_mode": {
    "name": "ipython",
    "version": 3
   },
   "file_extension": ".py",
   "mimetype": "text/x-python",
   "name": "python",
   "nbconvert_exporter": "python",
   "pygments_lexer": "ipython3",
   "version": "3.8.6"
  }
 },
 "nbformat": 4,
 "nbformat_minor": 4
}
